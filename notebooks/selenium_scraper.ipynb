{
 "cells": [
  {
   "cell_type": "markdown",
   "metadata": {},
   "source": [
    "This notebook uses Selenium chrome driver to scrape daily flight schedule data from London Heathrow Airport's website. Due to the complexity of the toggles in the website, this web scraper relies on the interative driver that enable user to interact with the website while the programme is scraping the site.\n"
   ]
  },
  {
   "cell_type": "markdown",
   "metadata": {},
   "source": [
    "### 1. Selenium Set Up\n",
    "We will use Firefox as the driver"
   ]
  },
  {
   "cell_type": "code",
   "execution_count": 1,
   "metadata": {},
   "outputs": [],
   "source": [
    "# selenium\n",
    "from selenium import webdriver \n",
    "from src.main import *\n",
    "\n",
    "import pandas as pd\n",
    "import os\n",
    "import datetime "
   ]
  },
  {
   "cell_type": "code",
   "execution_count": 2,
   "metadata": {},
   "outputs": [],
   "source": [
    "# initiate the web driver\n",
    "driver = webdriver.Firefox()\n"
   ]
  },
  {
   "cell_type": "code",
   "execution_count": 3,
   "metadata": {},
   "outputs": [],
   "source": [
    "current_date = datetime.datetime.now(tz= datetime.timezone.utc)"
   ]
  },
  {
   "cell_type": "markdown",
   "metadata": {},
   "source": [
    "## 2. London Heathrow Airport"
   ]
  },
  {
   "cell_type": "markdown",
   "metadata": {},
   "source": [
    "We will first write some helper function. In general, the scraping process needs to be done as follow. For each departure / arrival data set:\n",
    "* Get the page on interactive driver and load to the top of flight schedule page\n",
    "* Scrap the schedule from the scheule page, inclduing the url of the flight card\n",
    "* Go into the flight card to get details, including actual time"
   ]
  },
  {
   "cell_type": "markdown",
   "metadata": {},
   "source": [
    "### 2.1 Departures\n",
    "\n",
    "First, we will load the page and get to the top of the daily flight schedule table. For the purpose of the project, we rely on historical data where the actual time of arrival/departure is known. Therefore, you may want to interact with the web driver at this stage to load the data from the previous day."
   ]
  },
  {
   "cell_type": "code",
   "execution_count": 4,
   "metadata": {},
   "outputs": [
    {
     "data": {
      "text/plain": [
       "''"
      ]
     },
     "execution_count": 4,
     "metadata": {},
     "output_type": "execute_result"
    }
   ],
   "source": [
    "# initate_driver(\"https://www.heathrow.com/departures\")\n",
    "driver.get(\"https://www.heathrow.com/departures\")\n",
    "time.sleep(5) \n",
    "# confirm the page is loadded to the date wanted properly\n",
    "input(\"Enter when the desired page is loaded (accepted cookies)\")"
   ]
  },
  {
   "cell_type": "code",
   "execution_count": 5,
   "metadata": {},
   "outputs": [
    {
     "name": "stdout",
     "output_type": "stream",
     "text": [
      "Loaded to the top of the list\n"
     ]
    }
   ],
   "source": [
    "# get to top of the day\n",
    "go_to_top(driver)"
   ]
  },
  {
   "cell_type": "markdown",
   "metadata": {},
   "source": [
    "We will now start scraping the data"
   ]
  },
  {
   "cell_type": "code",
   "execution_count": 6,
   "metadata": {},
   "outputs": [
    {
     "name": "stdout",
     "output_type": "stream",
     "text": [
      "Reached end of the page\n"
     ]
    }
   ],
   "source": [
    "departures = scrape_heathrow_pages(driver=driver,departure=True)"
   ]
  },
  {
   "cell_type": "markdown",
   "metadata": {},
   "source": [
    "#### 2.1.2 Scrape individual page (Skipped)\n",
    "In addition to the schedule and the status, we are also interested in the actual departure time. This requires scraping all the pages for each of the flight. At times, the website may be unresponsive, requiring a halt to the scraper."
   ]
  },
  {
   "cell_type": "code",
   "execution_count": 7,
   "metadata": {},
   "outputs": [],
   "source": [
    "# initialise a 'time_act' column to fill\n",
    "departures['time_act'] = pd.NA"
   ]
  },
  {
   "cell_type": "code",
   "execution_count": null,
   "metadata": {},
   "outputs": [],
   "source": [
    "# iterate through rows\n",
    "counter = 1\n",
    "error_list = []\n",
    "# set up headless driver\n",
    "for key, val in departures[(departures['time_act'].isna()) & (departures[\"status\"] == \"DEPARTED\")].iterrows():\n",
    "    driver.get(val['url'])\n",
    "    time.sleep(0.5)\n",
    "    try:\n",
    "        time_act, iata = scrape_flight_page(dep=True)\n",
    "        departures.loc[key,['time_act','iata']] = time_act, iata\n",
    "        print(f'{counter}: flight {key} scheduled at {val[\"time_sch\"]} departed at {time_act}')\n",
    "    except:\n",
    "        print(f\"Error occured when calling scrape_flight_page for {val['status']} flight {key}\")\n",
    "        error_list.append(val['url'])\n",
    "    counter +=1 "
   ]
  },
  {
   "cell_type": "code",
   "execution_count": null,
   "metadata": {},
   "outputs": [],
   "source": [
    "# inspect the empty data\n",
    "departures[(departures[\"iata\"].notna()) & (departures[\"time_act\"].isna())]"
   ]
  },
  {
   "cell_type": "code",
   "execution_count": null,
   "metadata": {},
   "outputs": [],
   "source": [
    "# validate the data collection\n",
    "departures.isnull().sum()"
   ]
  },
  {
   "cell_type": "markdown",
   "metadata": {},
   "source": [
    "### 2.2 Arrivals"
   ]
  },
  {
   "cell_type": "code",
   "execution_count": 6,
   "metadata": {},
   "outputs": [
    {
     "name": "stdout",
     "output_type": "stream",
     "text": [
      "Loaded to the top of the list\n"
     ]
    }
   ],
   "source": [
    "driver.get(\"https://www.heathrow.com/arrivals\")\n",
    "time.sleep(5) \n",
    "# confirm the page is loadded to the date wanted properly\n",
    "input(\"Enter when the desired page is loaded (accepted cookies)\")\n",
    "# get to top of the day\n",
    "go_to_top(driver)"
   ]
  },
  {
   "cell_type": "code",
   "execution_count": 8,
   "metadata": {},
   "outputs": [
    {
     "name": "stdout",
     "output_type": "stream",
     "text": [
      "Reached end of the page\n"
     ]
    }
   ],
   "source": [
    "arrivals = scrape_heathrow_pages(driver=driver,departure=False)"
   ]
  },
  {
   "cell_type": "markdown",
   "metadata": {},
   "source": [
    "#### 2.2.2 Scrape indivual page (skipped)"
   ]
  },
  {
   "cell_type": "code",
   "execution_count": null,
   "metadata": {},
   "outputs": [],
   "source": [
    "# iterate through rows\n",
    "counter = 1\n",
    "arrivals[\"time_act\"] = pd.NA"
   ]
  },
  {
   "cell_type": "code",
   "execution_count": null,
   "metadata": {},
   "outputs": [],
   "source": [
    "#  fill in the actual time and iata\n",
    "slee_time = .1\n",
    "# set up headless driver\n",
    "for key, val in arrivals[arrivals['time_act'].isnull() &\n",
    "                         ((arrivals[\"status\"] != \"CANCELLED\")& (arrivals['status'] != \"FLIGHT DIVERTED\"))\n",
    "                         ].iterrows():\n",
    "    driver.get(val['url'])\n",
    "    time.sleep(sleep_time)\n",
    "    try:\n",
    "        time_act,iata = scrape_flight_page(dep = False)\n",
    "        arrivals.loc[key,['time_act','iata']] = time_act, iata\n",
    "        print(f'{counter}: flight {key} scheduled at {val[\"time_sch\"]} landed at {time_act}')\n",
    "    except:\n",
    "        print(f\"Error occured when calling scrape_flight_page for {val['status']} flight {key}\")\n",
    "\n",
    "    counter +=1 "
   ]
  },
  {
   "cell_type": "code",
   "execution_count": null,
   "metadata": {},
   "outputs": [],
   "source": [
    "# check for mising value\n",
    "arrivals[((arrivals['time_act'].isnull()) | (arrivals[\"time_act\"] == \"\"))\n",
    "        & ((arrivals['status'] != \"CANCELLED\") & (arrivals['status'] != \"FLIGHT DIVERTED\"))\n",
    "         ]"
   ]
  },
  {
   "cell_type": "code",
   "execution_count": null,
   "metadata": {},
   "outputs": [],
   "source": [
    "arrivals.head()"
   ]
  },
  {
   "cell_type": "code",
   "execution_count": null,
   "metadata": {},
   "outputs": [],
   "source": [
    "arrivals.isnull().sum()"
   ]
  },
  {
   "cell_type": "markdown",
   "metadata": {},
   "source": [
    "### 2.3 Concatenate the Arrival and Departure Data"
   ]
  },
  {
   "cell_type": "code",
   "execution_count": 10,
   "metadata": {},
   "outputs": [
    {
     "data": {
      "application/vnd.microsoft.datawrangler.viewer.v0+json": {
       "columns": [
        {
         "name": "code",
         "rawType": "object",
         "type": "string"
        },
        {
         "name": "time_sch",
         "rawType": "object",
         "type": "string"
        },
        {
         "name": "dest",
         "rawType": "object",
         "type": "string"
        },
        {
         "name": "status",
         "rawType": "object",
         "type": "string"
        },
        {
         "name": "url",
         "rawType": "object",
         "type": "string"
        },
        {
         "name": "orig",
         "rawType": "object",
         "type": "string"
        }
       ],
       "conversionMethod": "pd.DataFrame",
       "ref": "7e227904-8753-4c6d-b8ba-8cedf282bb9f",
       "rows": [
        [
         "TP1363",
         "06:00",
         "Lisbon",
         "DEPARTED",
         "https://www.heathrow.com/departures/terminal-2/flight-details/TP1363/22-02-2025",
         "London"
        ],
        [
         "OS458",
         "06:00",
         "Vienna",
         "DEPARTED",
         "https://www.heathrow.com/departures/terminal-2/flight-details/OS458/22-02-2025",
         "London"
        ],
        [
         "LX345",
         "06:00",
         "Zurich",
         "DEPARTED",
         "https://www.heathrow.com/departures/terminal-2/flight-details/LX345/22-02-2025",
         "London"
        ],
        [
         "BA472",
         "06:05",
         "Barcelona",
         "DEPARTED",
         "https://www.heathrow.com/departures/terminal-5/flight-details/BA472/22-02-2025",
         "London"
        ],
        [
         "BA456",
         "06:10",
         "Madrid",
         "DEPARTED",
         "https://www.heathrow.com/departures/terminal-5/flight-details/BA456/22-02-2025",
         "London"
        ]
       ],
       "shape": {
        "columns": 5,
        "rows": 5
       }
      },
      "text/html": [
       "<div>\n",
       "<style scoped>\n",
       "    .dataframe tbody tr th:only-of-type {\n",
       "        vertical-align: middle;\n",
       "    }\n",
       "\n",
       "    .dataframe tbody tr th {\n",
       "        vertical-align: top;\n",
       "    }\n",
       "\n",
       "    .dataframe thead th {\n",
       "        text-align: right;\n",
       "    }\n",
       "</style>\n",
       "<table border=\"1\" class=\"dataframe\">\n",
       "  <thead>\n",
       "    <tr style=\"text-align: right;\">\n",
       "      <th></th>\n",
       "      <th>time_sch</th>\n",
       "      <th>dest</th>\n",
       "      <th>status</th>\n",
       "      <th>url</th>\n",
       "      <th>orig</th>\n",
       "    </tr>\n",
       "    <tr>\n",
       "      <th>code</th>\n",
       "      <th></th>\n",
       "      <th></th>\n",
       "      <th></th>\n",
       "      <th></th>\n",
       "      <th></th>\n",
       "    </tr>\n",
       "  </thead>\n",
       "  <tbody>\n",
       "    <tr>\n",
       "      <th>TP1363</th>\n",
       "      <td>06:00</td>\n",
       "      <td>Lisbon</td>\n",
       "      <td>DEPARTED</td>\n",
       "      <td>https://www.heathrow.com/departures/terminal-2...</td>\n",
       "      <td>London</td>\n",
       "    </tr>\n",
       "    <tr>\n",
       "      <th>OS458</th>\n",
       "      <td>06:00</td>\n",
       "      <td>Vienna</td>\n",
       "      <td>DEPARTED</td>\n",
       "      <td>https://www.heathrow.com/departures/terminal-2...</td>\n",
       "      <td>London</td>\n",
       "    </tr>\n",
       "    <tr>\n",
       "      <th>LX345</th>\n",
       "      <td>06:00</td>\n",
       "      <td>Zurich</td>\n",
       "      <td>DEPARTED</td>\n",
       "      <td>https://www.heathrow.com/departures/terminal-2...</td>\n",
       "      <td>London</td>\n",
       "    </tr>\n",
       "    <tr>\n",
       "      <th>BA472</th>\n",
       "      <td>06:05</td>\n",
       "      <td>Barcelona</td>\n",
       "      <td>DEPARTED</td>\n",
       "      <td>https://www.heathrow.com/departures/terminal-5...</td>\n",
       "      <td>London</td>\n",
       "    </tr>\n",
       "    <tr>\n",
       "      <th>BA456</th>\n",
       "      <td>06:10</td>\n",
       "      <td>Madrid</td>\n",
       "      <td>DEPARTED</td>\n",
       "      <td>https://www.heathrow.com/departures/terminal-5...</td>\n",
       "      <td>London</td>\n",
       "    </tr>\n",
       "  </tbody>\n",
       "</table>\n",
       "</div>"
      ],
      "text/plain": [
       "       time_sch       dest    status  \\\n",
       "code                                   \n",
       "TP1363    06:00     Lisbon  DEPARTED   \n",
       "OS458     06:00     Vienna  DEPARTED   \n",
       "LX345     06:00     Zurich  DEPARTED   \n",
       "BA472     06:05  Barcelona  DEPARTED   \n",
       "BA456     06:10     Madrid  DEPARTED   \n",
       "\n",
       "                                                      url    orig  \n",
       "code                                                               \n",
       "TP1363  https://www.heathrow.com/departures/terminal-2...  London  \n",
       "OS458   https://www.heathrow.com/departures/terminal-2...  London  \n",
       "LX345   https://www.heathrow.com/departures/terminal-2...  London  \n",
       "BA472   https://www.heathrow.com/departures/terminal-5...  London  \n",
       "BA456   https://www.heathrow.com/departures/terminal-5...  London  "
      ]
     },
     "execution_count": 10,
     "metadata": {},
     "output_type": "execute_result"
    }
   ],
   "source": [
    "# add orig/dest column\n",
    "departures['orig'] = [\"London\" for _ in range(len(departures))]\n",
    "arrivals['dest'] = ['London' for _ in range(len(arrivals))]\n",
    "df_lhr = pd.concat([departures, arrivals])\n",
    "# inspect\n",
    "df_lhr.head()"
   ]
  },
  {
   "cell_type": "code",
   "execution_count": 11,
   "metadata": {},
   "outputs": [
    {
     "data": {
      "text/plain": [
       "time_sch    0\n",
       "dest        0\n",
       "status      0\n",
       "url         0\n",
       "orig        0\n",
       "dtype: int64"
      ]
     },
     "execution_count": 11,
     "metadata": {},
     "output_type": "execute_result"
    }
   ],
   "source": [
    "df_lhr.isnull().sum()"
   ]
  },
  {
   "cell_type": "code",
   "execution_count": 12,
   "metadata": {},
   "outputs": [
    {
     "name": "stdout",
     "output_type": "stream",
     "text": [
      "Saving df to /Users/Tra_FIT/Desktop/Python/GitHub/LHR_ops_data/data/22Feb2025_LHR.csv\n"
     ]
    }
   ],
   "source": [
    "file_name = f\"{current_date.strftime('%d%b%Y')}_LHR.csv\" \n",
    "# define file name\n",
    "# Get the parent directory (preceding folder) of the current directory\n",
    "parent_directory = os.path.dirname(os.getcwd())\n",
    "filepath = os.path.join(parent_directory ,\"data\",file_name )\n",
    "\n",
    "# save to csv\n",
    "print(f\"Saving df to {filepath}\")\n",
    "df_lhr.to_csv(filepath)"
   ]
  },
  {
   "cell_type": "markdown",
   "metadata": {},
   "source": [
    "## 3. London Gatwick Airport"
   ]
  },
  {
   "cell_type": "code",
   "execution_count": 13,
   "metadata": {},
   "outputs": [],
   "source": [
    "driver.get('https://www.gatwickairport.com/flights?desination=A')"
   ]
  },
  {
   "cell_type": "markdown",
   "metadata": {},
   "source": [
    "### Arrival"
   ]
  },
  {
   "cell_type": "code",
   "execution_count": 14,
   "metadata": {},
   "outputs": [],
   "source": [
    "lgw_return_to_start(driver=driver)"
   ]
  },
  {
   "cell_type": "code",
   "execution_count": null,
   "metadata": {},
   "outputs": [],
   "source": [
    "lgw_arrv = lgw_return_data(driver=driver,departure=False)"
   ]
  },
  {
   "cell_type": "code",
   "execution_count": null,
   "metadata": {},
   "outputs": [],
   "source": [
    "lgw_arrv"
   ]
  },
  {
   "cell_type": "markdown",
   "metadata": {},
   "source": [
    "### Departure"
   ]
  },
  {
   "cell_type": "code",
   "execution_count": null,
   "metadata": {},
   "outputs": [],
   "source": [
    "lgw_return_to_start(driver=driver)"
   ]
  },
  {
   "cell_type": "code",
   "execution_count": null,
   "metadata": {},
   "outputs": [],
   "source": [
    "lgw_dept = lgw_return_data(driver=driver,departure=True)"
   ]
  },
  {
   "cell_type": "markdown",
   "metadata": {},
   "source": [
    "### 3.3 Parse the Result as pd DataFrame"
   ]
  },
  {
   "cell_type": "code",
   "execution_count": null,
   "metadata": {},
   "outputs": [],
   "source": [
    "df_dept = pd.DataFrame(lgw_dept)\n",
    "df_dept['orig'] = 'London'\n",
    "df_arrv = pd.DataFrame(lgw_arrv)\n",
    "df_dept['dest'] = 'London'\n"
   ]
  },
  {
   "cell_type": "code",
   "execution_count": null,
   "metadata": {},
   "outputs": [],
   "source": [
    "df_lgw = pd.concat([df_dept,df_arrv]).drop(columns = 'dummy')\n",
    "df_lgw.head()"
   ]
  },
  {
   "cell_type": "code",
   "execution_count": null,
   "metadata": {},
   "outputs": [],
   "source": [
    "current_date = datetime.datetime.now(tz= datetime.timezone.utc)\n",
    "current_date.strftime('%d%b%Y')"
   ]
  },
  {
   "cell_type": "code",
   "execution_count": null,
   "metadata": {},
   "outputs": [],
   "source": [
    "current_date = datetime.datetime.now(tz= datetime.timezone.utc)\n",
    "\n",
    "file_name = f\"{current_date.strftime('%d%b%Y')}_LGW.csv\" \n",
    "# define file name\n",
    "# Get the parent directory (preceding folder) of the current directory\n",
    "parent_directory = os.path.dirname(os.getcwd())\n",
    "filepath = os.path.join(parent_directory ,\"data\",file_name )\n",
    "\n",
    "# save to csv\n",
    "print(f\"Saving df to {file_name}\")\n",
    "df_lgw.to_csv(filepath)"
   ]
  },
  {
   "cell_type": "code",
   "execution_count": 15,
   "metadata": {},
   "outputs": [],
   "source": [
    "driver.quit()"
   ]
  },
  {
   "cell_type": "code",
   "execution_count": null,
   "metadata": {},
   "outputs": [],
   "source": []
  }
 ],
 "metadata": {
  "kernelspec": {
   "display_name": "base",
   "language": "python",
   "name": "python3"
  },
  "language_info": {
   "codemirror_mode": {
    "name": "ipython",
    "version": 3
   },
   "file_extension": ".py",
   "mimetype": "text/x-python",
   "name": "python",
   "nbconvert_exporter": "python",
   "pygments_lexer": "ipython3",
   "version": "3.8.3"
  }
 },
 "nbformat": 4,
 "nbformat_minor": 2
}
