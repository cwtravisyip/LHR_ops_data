{
 "cells": [
  {
   "cell_type": "markdown",
   "metadata": {},
   "source": [
    "## Flight Data Cleaning\n",
    "The original flight data is retrieved from the Heathrow Airport website using a Selenium webscraper."
   ]
  },
  {
   "cell_type": "code",
   "execution_count": null,
   "metadata": {},
   "outputs": [],
   "source": [
    "# set up\n",
    "import pandas as pd\n",
    "import numpy as np\n",
    "\n",
    "# additional data source\n",
    "import osmnx as ox\n",
    "import geopandas as gpd\n",
    "import requests\n",
    "from geopy import Nominatim\n",
    "from shapely.geometry import Point\n",
    "\n",
    "# visualistion\n",
    "import matplotlib.pyplot as plt "
   ]
  },
  {
   "cell_type": "code",
   "execution_count": 2,
   "metadata": {},
   "outputs": [
    {
     "data": {
      "application/vnd.microsoft.datawrangler.viewer.v0+json": {
       "columns": [
        {
         "name": "index",
         "rawType": "int64",
         "type": "integer"
        },
        {
         "name": "code",
         "rawType": "object",
         "type": "string"
        },
        {
         "name": "time_sch",
         "rawType": "object",
         "type": "string"
        },
        {
         "name": "orig",
         "rawType": "object",
         "type": "string"
        },
        {
         "name": "status",
         "rawType": "object",
         "type": "string"
        },
        {
         "name": "url",
         "rawType": "object",
         "type": "string"
        },
        {
         "name": "time_act",
         "rawType": "object",
         "type": "string"
        },
        {
         "name": "iata",
         "rawType": "object",
         "type": "string"
        },
        {
         "name": "dest",
         "rawType": "object",
         "type": "string"
        }
       ],
       "conversionMethod": "pd.DataFrame",
       "ref": "d08abb88-c2f6-434e-8bf9-82ae946077cd",
       "rows": [
        [
         "0",
         "TP1363",
         "06:00",
         "London",
         "DEPARTED",
         "https://www.heathrow.com/departures/terminal-2/flight-details/TP1363/23-04-2024",
         "06:21",
         "Arrive Lisbon (LIS)",
         "Lisbon"
        ],
        [
         "1",
         "OS458",
         "06:00",
         "London",
         "DEPARTED",
         "https://www.heathrow.com/departures/terminal-2/flight-details/OS458/23-04-2024",
         "06:12",
         "Arrive Vienna (VIE)",
         "Vienna"
        ],
        [
         "2",
         "LX345",
         "06:00",
         "London",
         "DEPARTED",
         "https://www.heathrow.com/departures/terminal-2/flight-details/LX345/23-04-2024",
         "06:14",
         "Arrive Zurich (ZRH)",
         "Zurich"
        ],
        [
         "3",
         "BA472",
         "06:10",
         "London",
         "DEPARTED",
         "https://www.heathrow.com/departures/terminal-5/flight-details/BA472/23-04-2024",
         "06:24",
         "Arrive Barcelona (BCN)",
         "Barcelona"
        ],
        [
         "4",
         "AF1381",
         "06:15",
         "London",
         "DEPARTED",
         "https://www.heathrow.com/departures/terminal-4/flight-details/AF1381/23-04-2024",
         "06:42",
         "Arrive Paris (CDG)",
         "Paris"
        ]
       ],
       "shape": {
        "columns": 8,
        "rows": 5
       }
      },
      "text/html": [
       "<div>\n",
       "<style scoped>\n",
       "    .dataframe tbody tr th:only-of-type {\n",
       "        vertical-align: middle;\n",
       "    }\n",
       "\n",
       "    .dataframe tbody tr th {\n",
       "        vertical-align: top;\n",
       "    }\n",
       "\n",
       "    .dataframe thead th {\n",
       "        text-align: right;\n",
       "    }\n",
       "</style>\n",
       "<table border=\"1\" class=\"dataframe\">\n",
       "  <thead>\n",
       "    <tr style=\"text-align: right;\">\n",
       "      <th></th>\n",
       "      <th>code</th>\n",
       "      <th>time_sch</th>\n",
       "      <th>orig</th>\n",
       "      <th>status</th>\n",
       "      <th>url</th>\n",
       "      <th>time_act</th>\n",
       "      <th>iata</th>\n",
       "      <th>dest</th>\n",
       "    </tr>\n",
       "  </thead>\n",
       "  <tbody>\n",
       "    <tr>\n",
       "      <th>0</th>\n",
       "      <td>TP1363</td>\n",
       "      <td>06:00</td>\n",
       "      <td>London</td>\n",
       "      <td>DEPARTED</td>\n",
       "      <td>https://www.heathrow.com/departures/terminal-2...</td>\n",
       "      <td>06:21</td>\n",
       "      <td>Arrive Lisbon (LIS)</td>\n",
       "      <td>Lisbon</td>\n",
       "    </tr>\n",
       "    <tr>\n",
       "      <th>1</th>\n",
       "      <td>OS458</td>\n",
       "      <td>06:00</td>\n",
       "      <td>London</td>\n",
       "      <td>DEPARTED</td>\n",
       "      <td>https://www.heathrow.com/departures/terminal-2...</td>\n",
       "      <td>06:12</td>\n",
       "      <td>Arrive Vienna (VIE)</td>\n",
       "      <td>Vienna</td>\n",
       "    </tr>\n",
       "    <tr>\n",
       "      <th>2</th>\n",
       "      <td>LX345</td>\n",
       "      <td>06:00</td>\n",
       "      <td>London</td>\n",
       "      <td>DEPARTED</td>\n",
       "      <td>https://www.heathrow.com/departures/terminal-2...</td>\n",
       "      <td>06:14</td>\n",
       "      <td>Arrive Zurich (ZRH)</td>\n",
       "      <td>Zurich</td>\n",
       "    </tr>\n",
       "    <tr>\n",
       "      <th>3</th>\n",
       "      <td>BA472</td>\n",
       "      <td>06:10</td>\n",
       "      <td>London</td>\n",
       "      <td>DEPARTED</td>\n",
       "      <td>https://www.heathrow.com/departures/terminal-5...</td>\n",
       "      <td>06:24</td>\n",
       "      <td>Arrive Barcelona (BCN)</td>\n",
       "      <td>Barcelona</td>\n",
       "    </tr>\n",
       "    <tr>\n",
       "      <th>4</th>\n",
       "      <td>AF1381</td>\n",
       "      <td>06:15</td>\n",
       "      <td>London</td>\n",
       "      <td>DEPARTED</td>\n",
       "      <td>https://www.heathrow.com/departures/terminal-4...</td>\n",
       "      <td>06:42</td>\n",
       "      <td>Arrive Paris (CDG)</td>\n",
       "      <td>Paris</td>\n",
       "    </tr>\n",
       "  </tbody>\n",
       "</table>\n",
       "</div>"
      ],
      "text/plain": [
       "     code time_sch    orig    status  \\\n",
       "0  TP1363    06:00  London  DEPARTED   \n",
       "1   OS458    06:00  London  DEPARTED   \n",
       "2   LX345    06:00  London  DEPARTED   \n",
       "3   BA472    06:10  London  DEPARTED   \n",
       "4  AF1381    06:15  London  DEPARTED   \n",
       "\n",
       "                                                 url time_act  \\\n",
       "0  https://www.heathrow.com/departures/terminal-2...    06:21   \n",
       "1  https://www.heathrow.com/departures/terminal-2...    06:12   \n",
       "2  https://www.heathrow.com/departures/terminal-2...    06:14   \n",
       "3  https://www.heathrow.com/departures/terminal-5...    06:24   \n",
       "4  https://www.heathrow.com/departures/terminal-4...    06:42   \n",
       "\n",
       "                     iata       dest  \n",
       "0     Arrive Lisbon (LIS)     Lisbon  \n",
       "1     Arrive Vienna (VIE)     Vienna  \n",
       "2     Arrive Zurich (ZRH)     Zurich  \n",
       "3  Arrive Barcelona (BCN)  Barcelona  \n",
       "4      Arrive Paris (CDG)      Paris  "
      ]
     },
     "execution_count": 2,
     "metadata": {},
     "output_type": "execute_result"
    }
   ],
   "source": [
    "# load the dataframe \n",
    "df = pd.read_csv(\"../data/23APR2024_LHR.csv\")\n",
    "df.head()"
   ]
  },
  {
   "cell_type": "markdown",
   "metadata": {},
   "source": [
    "## Data Pre-Processing\n",
    "For working the point of view of the Heathrow Airport, we will pre-process the data with the following columns:\n",
    "* Airline Code Varchar(2)\n",
    "* Departure (bool)\n",
    "* Simulate passenger number\n",
    "* org/des (str)\n",
    "* Time delayed\n",
    "* Terminal number\n"
   ]
  },
  {
   "cell_type": "code",
   "execution_count": 5,
   "metadata": {},
   "outputs": [],
   "source": [
    "# get airline code\n",
    "df['airline'] =df['code'].apply(lambda code: code[0:2])\n",
    "# departure boolean\n",
    "df['dept'] = df['dest'] != \"London\"\n",
    "# dest/orig\n",
    "df.loc[df['dept'],\"dest/orig\"] = df.loc[df['dept'],\"dest\"]\n",
    "df.loc[~df['dept'],\"dest/orig\"] = df.loc[~df['dept'],\"orig\"]\n",
    "# simulate passsenger load\n",
    "# pass_no = np.random.normal(loc = 200, scale = 75, size = len(df))\n",
    "# pass_no = np.floor(pass_no)\n",
    "# df[\"pass_no\"] = pass_no\n",
    "# get the dest/orig ICAO code\n",
    "df[\"iata_airport\"] = df['iata'].str.extract(r\"([A-Z]{3})\")\n",
    "# get the icao dest/orig\n",
    "df[\"iata_city\"] = df['iata'].apply(lambda string: string[7:-6])\n",
    "# terminal\n",
    "df['terminal'] = df[\"url\"].str.extract(r\"terminal-(.)\")"
   ]
  },
  {
   "cell_type": "markdown",
   "metadata": {},
   "source": [
    "Because there is a curfew at Heathrow Airport, flights are almost always scheduled with enough buffer away from the midnight timestamp. However, this might not be true for the actual time the flight arrived/departed. We will first fill in the null data for the date of actual time and validate the date by considering the temporal sequence of the scheduled time and the actual time.\n",
    "\n",
    "To compute the time delayed, I follow the steps:\n",
    "1. Impute the date of the flight\n",
    "2. Compute difference `time_diff `between scheduled and actual time\n",
    "3. Validate the actual date of the flight\n",
    "4. Update invalid actual date\n",
    "5. Compute element-wise `max(0, time_diff)` to ignore time delayed for \"on schedule\" flight\n",
    "6. Fill in NA value for time dealyed"
   ]
  },
  {
   "cell_type": "code",
   "execution_count": 79,
   "metadata": {},
   "outputs": [],
   "source": [
    "# date string\n",
    "date = \"2024-04-23 \"\n",
    "# impute the date time column\n",
    "df['time_sch'] = date + df['time_sch']\n",
    "df['time_sch'] = pd.to_datetime(df['time_sch'], format = \"%Y-%m-%d %H:%M\")\n",
    "\n",
    "# impute date from time actual\n",
    "df['time_act'] = date + df['time_act']\n",
    "df['time_act'] = pd.to_datetime(df['time_act'], format = \"%Y-%m-%d %H:%M\")\n",
    "\n",
    "# compare the hour \n",
    "df['time_diff'] = (df['time_act']-df['time_sch']).dt.total_seconds() / 60"
   ]
  },
  {
   "cell_type": "code",
   "execution_count": 80,
   "metadata": {},
   "outputs": [
    {
     "data": {
      "text/plain": [
       "(array([ 1.,  6.,  3., 14., 11., 30., 33., 23., 14.,  3.]),\n",
       " array([-55. , -49.7, -44.4, -39.1, -33.8, -28.5, -23.2, -17.9, -12.6,\n",
       "         -7.3,  -2. ]),\n",
       " <BarContainer object of 10 artists>)"
      ]
     },
     "execution_count": 80,
     "metadata": {},
     "output_type": "execute_result"
    },
    {
     "data": {
      "image/png": "[encoded data removed]",
      "text/plain": [
       "<Figure size 432x288 with 1 Axes>"
      ]
     },
     "metadata": {
      "needs_background": "light"
     },
     "output_type": "display_data"
    }
   ],
   "source": [
    "plt.hist(df.loc[df['time_sch'].dt.hour > df['time_act'].dt.hour,\"time_diff\"])"
   ]
  },
  {
   "cell_type": "markdown",
   "metadata": {},
   "source": [
    "From this plot, it doen't seem to be any flights that has been delayed to the day after."
   ]
  },
  {
   "cell_type": "code",
   "execution_count": 81,
   "metadata": {},
   "outputs": [],
   "source": [
    "# # dealyed roll forward\n",
    "# f_roll_indice = (df[\"time_diff\"] < -60)\n",
    "# # update the date\n",
    "# df.loc[f_roll_indice,\"time_act\"] = df.loc[f_roll_indice,\"time_act\"] + pd.Timedelta(days = 1)"
   ]
  },
  {
   "cell_type": "code",
   "execution_count": 82,
   "metadata": {},
   "outputs": [
    {
     "data": {
      "text/plain": [
       "(array([ 1.,  6.,  3., 14., 11., 30., 33., 23., 14.,  3.]),\n",
       " array([-55. , -49.7, -44.4, -39.1, -33.8, -28.5, -23.2, -17.9, -12.6,\n",
       "         -7.3,  -2. ]),\n",
       " <BarContainer object of 10 artists>)"
      ]
     },
     "execution_count": 82,
     "metadata": {},
     "output_type": "execute_result"
    },
    {
     "data": {
      "image/png": "[encoded data removed]",
      "text/plain": [
       "<Figure size 432x288 with 1 Axes>"
      ]
     },
     "metadata": {
      "needs_background": "light"
     },
     "output_type": "display_data"
    }
   ],
   "source": [
    "# update the time_diff\n",
    "df['time_diff'] = (df['time_act']-df['time_sch']).dt.total_seconds() / 60\n",
    "plt.hist(df.loc[df['time_sch'].dt.hour > df['time_act'].dt.hour,\"time_diff\"])"
   ]
  },
  {
   "cell_type": "code",
   "execution_count": 83,
   "metadata": {},
   "outputs": [
    {
     "data": {
      "text/plain": [
       "(array([26., 61., 54., 55., 31., 21., 20.,  8.,  5.,  4.]),\n",
       " array([ 5. , 14.3, 23.6, 32.9, 42.2, 51.5, 60.8, 70.1, 79.4, 88.7, 98. ]),\n",
       " <BarContainer object of 10 artists>)"
      ]
     },
     "execution_count": 83,
     "metadata": {},
     "output_type": "execute_result"
    },
    {
     "data": {
      "image/png": "[encoded data removed]",
      "text/plain": [
       "<Figure size 432x288 with 1 Axes>"
      ]
     },
     "metadata": {
      "needs_background": "light"
     },
     "output_type": "display_data"
    }
   ],
   "source": [
    "# compute the time delayed\n",
    "df[\"delay\"] = df[\"time_diff\"] > 0\n",
    "df[\"delay_time\"] = df[\"time_diff\"].apply(lambda time_diff: time_diff if time_diff >0 else pd.NA)\n",
    "# plot delayed time below 100\n",
    "delay_flights = df.loc[(df['time_sch'].dt.hour < df['time_act'].dt.hour) & (df['time_diff'] < 100)]\n",
    "plt.hist(delay_flights[\"time_diff\"])\n"
   ]
  },
  {
   "cell_type": "code",
   "execution_count": 85,
   "metadata": {},
   "outputs": [
    {
     "data": {
      "text/html": [
       "<div>\n",
       "<style scoped>\n",
       "    .dataframe tbody tr th:only-of-type {\n",
       "        vertical-align: middle;\n",
       "    }\n",
       "\n",
       "    .dataframe tbody tr th {\n",
       "        vertical-align: top;\n",
       "    }\n",
       "\n",
       "    .dataframe thead th {\n",
       "        text-align: right;\n",
       "    }\n",
       "</style>\n",
       "<table border=\"1\" class=\"dataframe\">\n",
       "  <thead>\n",
       "    <tr style=\"text-align: right;\">\n",
       "      <th></th>\n",
       "      <th>time_sch</th>\n",
       "      <th>time_act</th>\n",
       "      <th>time_diff</th>\n",
       "    </tr>\n",
       "  </thead>\n",
       "  <tbody>\n",
       "    <tr>\n",
       "      <th>count</th>\n",
       "      <td>285</td>\n",
       "      <td>285</td>\n",
       "      <td>285.000000</td>\n",
       "    </tr>\n",
       "    <tr>\n",
       "      <th>mean</th>\n",
       "      <td>2024-04-23 14:20:31.578947328</td>\n",
       "      <td>2024-04-23 14:56:44</td>\n",
       "      <td>36.207018</td>\n",
       "    </tr>\n",
       "    <tr>\n",
       "      <th>min</th>\n",
       "      <td>2024-04-23 05:55:00</td>\n",
       "      <td>2024-04-23 06:09:00</td>\n",
       "      <td>5.000000</td>\n",
       "    </tr>\n",
       "    <tr>\n",
       "      <th>25%</th>\n",
       "      <td>2024-04-23 10:30:00</td>\n",
       "      <td>2024-04-23 11:03:00</td>\n",
       "      <td>21.000000</td>\n",
       "    </tr>\n",
       "    <tr>\n",
       "      <th>50%</th>\n",
       "      <td>2024-04-23 14:40:00</td>\n",
       "      <td>2024-04-23 15:08:00</td>\n",
       "      <td>33.000000</td>\n",
       "    </tr>\n",
       "    <tr>\n",
       "      <th>75%</th>\n",
       "      <td>2024-04-23 18:25:00</td>\n",
       "      <td>2024-04-23 19:04:00</td>\n",
       "      <td>48.000000</td>\n",
       "    </tr>\n",
       "    <tr>\n",
       "      <th>max</th>\n",
       "      <td>2024-04-23 22:15:00</td>\n",
       "      <td>2024-04-23 23:20:00</td>\n",
       "      <td>98.000000</td>\n",
       "    </tr>\n",
       "    <tr>\n",
       "      <th>std</th>\n",
       "      <td>NaN</td>\n",
       "      <td>NaN</td>\n",
       "      <td>19.233442</td>\n",
       "    </tr>\n",
       "  </tbody>\n",
       "</table>\n",
       "</div>"
      ],
      "text/plain": [
       "                            time_sch             time_act   time_diff\n",
       "count                            285                  285  285.000000\n",
       "mean   2024-04-23 14:20:31.578947328  2024-04-23 14:56:44   36.207018\n",
       "min              2024-04-23 05:55:00  2024-04-23 06:09:00    5.000000\n",
       "25%              2024-04-23 10:30:00  2024-04-23 11:03:00   21.000000\n",
       "50%              2024-04-23 14:40:00  2024-04-23 15:08:00   33.000000\n",
       "75%              2024-04-23 18:25:00  2024-04-23 19:04:00   48.000000\n",
       "max              2024-04-23 22:15:00  2024-04-23 23:20:00   98.000000\n",
       "std                              NaN                  NaN   19.233442"
      ]
     },
     "execution_count": 85,
     "metadata": {},
     "output_type": "execute_result"
    }
   ],
   "source": [
    "delay_flights.describe()"
   ]
  },
  {
   "cell_type": "markdown",
   "metadata": {},
   "source": [
    "### Inspect the result dataframe"
   ]
  },
  {
   "cell_type": "code",
   "execution_count": 86,
   "metadata": {},
   "outputs": [
    {
     "data": {
      "text/html": [
       "<div>\n",
       "<style scoped>\n",
       "    .dataframe tbody tr th:only-of-type {\n",
       "        vertical-align: middle;\n",
       "    }\n",
       "\n",
       "    .dataframe tbody tr th {\n",
       "        vertical-align: top;\n",
       "    }\n",
       "\n",
       "    .dataframe thead th {\n",
       "        text-align: right;\n",
       "    }\n",
       "</style>\n",
       "<table border=\"1\" class=\"dataframe\">\n",
       "  <thead>\n",
       "    <tr style=\"text-align: right;\">\n",
       "      <th></th>\n",
       "      <th>code</th>\n",
       "      <th>time_sch</th>\n",
       "      <th>orig</th>\n",
       "      <th>status</th>\n",
       "      <th>url</th>\n",
       "      <th>time_act</th>\n",
       "      <th>iata</th>\n",
       "      <th>dest</th>\n",
       "      <th>airline</th>\n",
       "      <th>dept</th>\n",
       "      <th>dest/orig</th>\n",
       "      <th>iata_airport</th>\n",
       "      <th>iata_city</th>\n",
       "      <th>terminal</th>\n",
       "      <th>time_diff</th>\n",
       "      <th>delay</th>\n",
       "      <th>delay_time</th>\n",
       "    </tr>\n",
       "  </thead>\n",
       "  <tbody>\n",
       "    <tr>\n",
       "      <th>0</th>\n",
       "      <td>TP1363</td>\n",
       "      <td>2024-04-23 06:00:00</td>\n",
       "      <td>London</td>\n",
       "      <td>DEPARTED</td>\n",
       "      <td>https://www.heathrow.com/departures/terminal-2...</td>\n",
       "      <td>2024-04-23 06:21:00</td>\n",
       "      <td>Arrive Lisbon (LIS)</td>\n",
       "      <td>Lisbon</td>\n",
       "      <td>TP</td>\n",
       "      <td>True</td>\n",
       "      <td>Lisbon</td>\n",
       "      <td>LIS</td>\n",
       "      <td>Lisbon</td>\n",
       "      <td>2</td>\n",
       "      <td>21.0</td>\n",
       "      <td>True</td>\n",
       "      <td>21.0</td>\n",
       "    </tr>\n",
       "    <tr>\n",
       "      <th>1</th>\n",
       "      <td>OS458</td>\n",
       "      <td>2024-04-23 06:00:00</td>\n",
       "      <td>London</td>\n",
       "      <td>DEPARTED</td>\n",
       "      <td>https://www.heathrow.com/departures/terminal-2...</td>\n",
       "      <td>2024-04-23 06:12:00</td>\n",
       "      <td>Arrive Vienna (VIE)</td>\n",
       "      <td>Vienna</td>\n",
       "      <td>OS</td>\n",
       "      <td>True</td>\n",
       "      <td>Vienna</td>\n",
       "      <td>VIE</td>\n",
       "      <td>Vienna</td>\n",
       "      <td>2</td>\n",
       "      <td>12.0</td>\n",
       "      <td>True</td>\n",
       "      <td>12.0</td>\n",
       "    </tr>\n",
       "    <tr>\n",
       "      <th>2</th>\n",
       "      <td>LX345</td>\n",
       "      <td>2024-04-23 06:00:00</td>\n",
       "      <td>London</td>\n",
       "      <td>DEPARTED</td>\n",
       "      <td>https://www.heathrow.com/departures/terminal-2...</td>\n",
       "      <td>2024-04-23 06:14:00</td>\n",
       "      <td>Arrive Zurich (ZRH)</td>\n",
       "      <td>Zurich</td>\n",
       "      <td>LX</td>\n",
       "      <td>True</td>\n",
       "      <td>Zurich</td>\n",
       "      <td>ZRH</td>\n",
       "      <td>Zurich</td>\n",
       "      <td>2</td>\n",
       "      <td>14.0</td>\n",
       "      <td>True</td>\n",
       "      <td>14.0</td>\n",
       "    </tr>\n",
       "    <tr>\n",
       "      <th>3</th>\n",
       "      <td>BA472</td>\n",
       "      <td>2024-04-23 06:10:00</td>\n",
       "      <td>London</td>\n",
       "      <td>DEPARTED</td>\n",
       "      <td>https://www.heathrow.com/departures/terminal-5...</td>\n",
       "      <td>2024-04-23 06:24:00</td>\n",
       "      <td>Arrive Barcelona (BCN)</td>\n",
       "      <td>Barcelona</td>\n",
       "      <td>BA</td>\n",
       "      <td>True</td>\n",
       "      <td>Barcelona</td>\n",
       "      <td>BCN</td>\n",
       "      <td>Barcelona</td>\n",
       "      <td>5</td>\n",
       "      <td>14.0</td>\n",
       "      <td>True</td>\n",
       "      <td>14.0</td>\n",
       "    </tr>\n",
       "    <tr>\n",
       "      <th>4</th>\n",
       "      <td>AF1381</td>\n",
       "      <td>2024-04-23 06:15:00</td>\n",
       "      <td>London</td>\n",
       "      <td>DEPARTED</td>\n",
       "      <td>https://www.heathrow.com/departures/terminal-4...</td>\n",
       "      <td>2024-04-23 06:42:00</td>\n",
       "      <td>Arrive Paris (CDG)</td>\n",
       "      <td>Paris</td>\n",
       "      <td>AF</td>\n",
       "      <td>True</td>\n",
       "      <td>Paris</td>\n",
       "      <td>CDG</td>\n",
       "      <td>Paris</td>\n",
       "      <td>4</td>\n",
       "      <td>27.0</td>\n",
       "      <td>True</td>\n",
       "      <td>27.0</td>\n",
       "    </tr>\n",
       "  </tbody>\n",
       "</table>\n",
       "</div>"
      ],
      "text/plain": [
       "     code            time_sch    orig    status  \\\n",
       "0  TP1363 2024-04-23 06:00:00  London  DEPARTED   \n",
       "1   OS458 2024-04-23 06:00:00  London  DEPARTED   \n",
       "2   LX345 2024-04-23 06:00:00  London  DEPARTED   \n",
       "3   BA472 2024-04-23 06:10:00  London  DEPARTED   \n",
       "4  AF1381 2024-04-23 06:15:00  London  DEPARTED   \n",
       "\n",
       "                                                 url            time_act  \\\n",
       "0  https://www.heathrow.com/departures/terminal-2... 2024-04-23 06:21:00   \n",
       "1  https://www.heathrow.com/departures/terminal-2... 2024-04-23 06:12:00   \n",
       "2  https://www.heathrow.com/departures/terminal-2... 2024-04-23 06:14:00   \n",
       "3  https://www.heathrow.com/departures/terminal-5... 2024-04-23 06:24:00   \n",
       "4  https://www.heathrow.com/departures/terminal-4... 2024-04-23 06:42:00   \n",
       "\n",
       "                     iata       dest airline  dept  dest/orig iata_airport  \\\n",
       "0     Arrive Lisbon (LIS)     Lisbon      TP  True     Lisbon          LIS   \n",
       "1     Arrive Vienna (VIE)     Vienna      OS  True     Vienna          VIE   \n",
       "2     Arrive Zurich (ZRH)     Zurich      LX  True     Zurich          ZRH   \n",
       "3  Arrive Barcelona (BCN)  Barcelona      BA  True  Barcelona          BCN   \n",
       "4      Arrive Paris (CDG)      Paris      AF  True      Paris          CDG   \n",
       "\n",
       "   iata_city terminal  time_diff  delay delay_time  \n",
       "0     Lisbon        2       21.0   True       21.0  \n",
       "1     Vienna        2       12.0   True       12.0  \n",
       "2     Zurich        2       14.0   True       14.0  \n",
       "3  Barcelona        5       14.0   True       14.0  \n",
       "4      Paris        4       27.0   True       27.0  "
      ]
     },
     "execution_count": 86,
     "metadata": {},
     "output_type": "execute_result"
    }
   ],
   "source": [
    "# return the first 5 rows\n",
    "df.head()"
   ]
  },
  {
   "cell_type": "code",
   "execution_count": 92,
   "metadata": {},
   "outputs": [],
   "source": [
    "# drop the redundant columns\n",
    "df = df.drop(columns = ['time_diff','url'])\n",
    "# export for temporary storage\n",
    "df.to_csv(\"../data/23APR2024_LHR_processed.csv\")"
   ]
  },
  {
   "cell_type": "markdown",
   "metadata": {},
   "source": [
    "## Geospatial information\n",
    "Since we have the IATA code of the destination/origin airport, we can return the location of the destination/origin with the following sources:\n",
    "* https://raw.githubusercontent.com/ip2location/ip2location-iata-icao/master/iata-icao.csv"
   ]
  },
  {
   "cell_type": "code",
   "execution_count": 18,
   "metadata": {},
   "outputs": [
    {
     "data": {
      "text/html": [
       "<div>\n",
       "<style scoped>\n",
       "    .dataframe tbody tr th:only-of-type {\n",
       "        vertical-align: middle;\n",
       "    }\n",
       "\n",
       "    .dataframe tbody tr th {\n",
       "        vertical-align: top;\n",
       "    }\n",
       "\n",
       "    .dataframe thead th {\n",
       "        text-align: right;\n",
       "    }\n",
       "</style>\n",
       "<table border=\"1\" class=\"dataframe\">\n",
       "  <thead>\n",
       "    <tr style=\"text-align: right;\">\n",
       "      <th></th>\n",
       "      <th>country_code</th>\n",
       "      <th>region_name</th>\n",
       "      <th>iata</th>\n",
       "      <th>icao</th>\n",
       "      <th>airport</th>\n",
       "      <th>latitude</th>\n",
       "      <th>longitude</th>\n",
       "      <th>geometry</th>\n",
       "    </tr>\n",
       "  </thead>\n",
       "  <tbody>\n",
       "    <tr>\n",
       "      <th>8522</th>\n",
       "      <td>US</td>\n",
       "      <td>Washington</td>\n",
       "      <td>SEA</td>\n",
       "      <td>KSEA</td>\n",
       "      <td>Seattle-Tacoma International Airport</td>\n",
       "      <td>47.4490</td>\n",
       "      <td>-122.3090</td>\n",
       "      <td>POINT (-122.30900 47.44900)</td>\n",
       "    </tr>\n",
       "    <tr>\n",
       "      <th>8635</th>\n",
       "      <td>UZ</td>\n",
       "      <td>-</td>\n",
       "      <td>TAS</td>\n",
       "      <td>UTTT</td>\n",
       "      <td>Tashkent International Airport</td>\n",
       "      <td>41.2579</td>\n",
       "      <td>69.2812</td>\n",
       "      <td>POINT (69.28120 41.25790)</td>\n",
       "    </tr>\n",
       "    <tr>\n",
       "      <th>8652</th>\n",
       "      <td>VC</td>\n",
       "      <td>Saint George</td>\n",
       "      <td>SVD</td>\n",
       "      <td>TVSA</td>\n",
       "      <td>Argyle International Airport</td>\n",
       "      <td>13.1443</td>\n",
       "      <td>-61.2109</td>\n",
       "      <td>POINT (-61.21090 13.14430)</td>\n",
       "    </tr>\n",
       "    <tr>\n",
       "      <th>8832</th>\n",
       "      <td>ZA</td>\n",
       "      <td>Gauteng</td>\n",
       "      <td>JNB</td>\n",
       "      <td>FAOR</td>\n",
       "      <td>O. R. Tambo International Airport</td>\n",
       "      <td>-26.1392</td>\n",
       "      <td>28.2460</td>\n",
       "      <td>POINT (28.24600 -26.13920)</td>\n",
       "    </tr>\n",
       "    <tr>\n",
       "      <th>8894</th>\n",
       "      <td>ZA</td>\n",
       "      <td>Western Cape</td>\n",
       "      <td>CPT</td>\n",
       "      <td>FACT</td>\n",
       "      <td>Cape Town International Airport</td>\n",
       "      <td>-33.9648</td>\n",
       "      <td>18.6017</td>\n",
       "      <td>POINT (18.60170 -33.96480)</td>\n",
       "    </tr>\n",
       "  </tbody>\n",
       "</table>\n",
       "</div>"
      ],
      "text/plain": [
       "     country_code   region_name iata  icao  \\\n",
       "8522           US    Washington  SEA  KSEA   \n",
       "8635           UZ             -  TAS  UTTT   \n",
       "8652           VC  Saint George  SVD  TVSA   \n",
       "8832           ZA       Gauteng  JNB  FAOR   \n",
       "8894           ZA  Western Cape  CPT  FACT   \n",
       "\n",
       "                                   airport  latitude  longitude  \\\n",
       "8522  Seattle-Tacoma International Airport   47.4490  -122.3090   \n",
       "8635        Tashkent International Airport   41.2579    69.2812   \n",
       "8652          Argyle International Airport   13.1443   -61.2109   \n",
       "8832     O. R. Tambo International Airport  -26.1392    28.2460   \n",
       "8894       Cape Town International Airport  -33.9648    18.6017   \n",
       "\n",
       "                         geometry  \n",
       "8522  POINT (-122.30900 47.44900)  \n",
       "8635    POINT (69.28120 41.25790)  \n",
       "8652   POINT (-61.21090 13.14430)  \n",
       "8832   POINT (28.24600 -26.13920)  \n",
       "8894   POINT (18.60170 -33.96480)  "
      ]
     },
     "execution_count": 18,
     "metadata": {},
     "output_type": "execute_result"
    }
   ],
   "source": [
    "# load the raw file as csv\n",
    "airport_df = pd.read_csv(\"https://raw.githubusercontent.com/ip2location/ip2location-iata-icao/master/iata-icao.csv\")\n",
    "# subset to only relevant airport\n",
    "relevant = df[\"iata_airport\"].unique()\n",
    "airport_df = airport_df[airport_df['iata'].isin(relevant)]\n",
    "\n",
    "# parse into gdf\n",
    "# Convert DataFrame to GeoDataFrame\n",
    "def create_point(row):\n",
    "    return Point(row['longitude'], row['latitude'])\n",
    "\n",
    "geometry = airport_df.apply(create_point, axis=1)\n",
    "gdf = gpd.GeoDataFrame(airport_df, geometry=geometry)\n",
    "# set the crs\n",
    "gdf.crs = \"EPSG:4326\"\n",
    "# inspect the dataframe\n",
    "gdf.tail()"
   ]
  },
  {
   "cell_type": "code",
   "execution_count": 20,
   "metadata": {},
   "outputs": [
    {
     "data": {
      "text/plain": [
       "(169, 8)"
      ]
     },
     "execution_count": 20,
     "metadata": {},
     "output_type": "execute_result"
    }
   ],
   "source": [
    "gdf.shape"
   ]
  },
  {
   "cell_type": "markdown",
   "metadata": {},
   "source": [
    "#### Validation\n",
    "Check that all the airport code in the flight data frame is also available in the `gdf`."
   ]
  },
  {
   "cell_type": "code",
   "execution_count": 21,
   "metadata": {},
   "outputs": [
    {
     "data": {
      "text/plain": [
       "set()"
      ]
     },
     "execution_count": 21,
     "metadata": {},
     "output_type": "execute_result"
    }
   ],
   "source": [
    "# find the missing airport\n",
    "missing_airport = set(gdf['iata']).difference(df['iata_airport'])\n",
    "missing_airport"
   ]
  },
  {
   "cell_type": "code",
   "execution_count": null,
   "metadata": {},
   "outputs": [],
   "source": [
    "# manual input\n",
    "airport_code = ['BSL', 'GRU', 'LIN', 'PKX']\n",
    "airport_names = [\"EuroAirport Basel Mulhouse Freiburg\",\"São Paulo–Guarulhos International Airport\",\n",
    "                \"Milan Linate Airport\",\"Beijing Daxing International Airport\"]\n",
    "country_code = [\"FR\",\"BR\",\"IT\",\"CN\"]\n",
    "gdf_new = gpd.GeoDataFrame(columns = [\"country_code\",\"iata\",\"icao\",\"airport\",\"latitude\",\"longitude\",\"geometry\"])\n",
    "# manual append\n",
    "for i, airport_name in enumerate(airport_names):\n",
    "    # get the georaphical location\n",
    "    try:\n",
    "        geo_loc = ox.features.features_from_address(airport_name, tags = {\"aeroway\":\"aerodrome\"})\n",
    "        new_data = geo_loc[[\"icao\",\"geometry\"]].reset_index(drop =True)\n",
    "        new_data['latitude'] = new_data.geometry.centroid.y\n",
    "        new_data['longitude'] = new_data.geometry.centroid.x\n",
    "        new_data['country_code'] = country_code[i]\n",
    "        new_data['iata'] = airport_code[i]\n",
    "        new_data[\"airport\"] = airport_name\n",
    "        gdf_new = pd.concat([gdf_new,new_data],ignore_index= True)\n",
    "    except:\n",
    "        print(f\"Error getting geographical informaiton for {airport_name}\")\n",
    "\n",
    "# manually add Sao Paolo Airort\n",
    "latitude = -23.4258 \n",
    "longitude = -46.4683\n",
    "geomtry = Point(longitude,latitude)\n",
    "data = [\"BR\",\"GRU\",\"SBGR\",\"São Paulo–Guarulhos International Airport\",latitude,longitude,geometry]\n",
    "gdf_new.loc[len(gdf_new)] = data"
   ]
  },
  {
   "cell_type": "code",
   "execution_count": 23,
   "metadata": {},
   "outputs": [
    {
     "data": {
      "text/html": [
       "<div>\n",
       "<style scoped>\n",
       "    .dataframe tbody tr th:only-of-type {\n",
       "        vertical-align: middle;\n",
       "    }\n",
       "\n",
       "    .dataframe tbody tr th {\n",
       "        vertical-align: top;\n",
       "    }\n",
       "\n",
       "    .dataframe thead th {\n",
       "        text-align: right;\n",
       "    }\n",
       "</style>\n",
       "<table border=\"1\" class=\"dataframe\">\n",
       "  <thead>\n",
       "    <tr style=\"text-align: right;\">\n",
       "      <th></th>\n",
       "      <th>country_code</th>\n",
       "      <th>region_name</th>\n",
       "      <th>iata</th>\n",
       "      <th>icao</th>\n",
       "      <th>airport</th>\n",
       "      <th>latitude</th>\n",
       "      <th>longitude</th>\n",
       "      <th>geometry</th>\n",
       "    </tr>\n",
       "  </thead>\n",
       "  <tbody>\n",
       "    <tr>\n",
       "      <th>0</th>\n",
       "      <td>AE</td>\n",
       "      <td>Abu Zaby</td>\n",
       "      <td>AUH</td>\n",
       "      <td>OMAA</td>\n",
       "      <td>Abu Dhabi International Airport</td>\n",
       "      <td>24.4330</td>\n",
       "      <td>54.6511</td>\n",
       "      <td>POINT (54.6511 24.433)</td>\n",
       "    </tr>\n",
       "    <tr>\n",
       "      <th>1</th>\n",
       "      <td>AE</td>\n",
       "      <td>Dubayy</td>\n",
       "      <td>DXB</td>\n",
       "      <td>OMDB</td>\n",
       "      <td>Dubai International Airport</td>\n",
       "      <td>25.2528</td>\n",
       "      <td>55.3644</td>\n",
       "      <td>POINT (55.3644 25.2528)</td>\n",
       "    </tr>\n",
       "    <tr>\n",
       "      <th>2</th>\n",
       "      <td>AG</td>\n",
       "      <td>Saint George</td>\n",
       "      <td>ANU</td>\n",
       "      <td>TAPA</td>\n",
       "      <td>V. C. Bird International Airport</td>\n",
       "      <td>17.1367</td>\n",
       "      <td>-61.7927</td>\n",
       "      <td>POINT (-61.7927 17.1367)</td>\n",
       "    </tr>\n",
       "    <tr>\n",
       "      <th>3</th>\n",
       "      <td>AR</td>\n",
       "      <td>Buenos Aires</td>\n",
       "      <td>EZE</td>\n",
       "      <td>SAEZ</td>\n",
       "      <td>Ministro Pistarini International Airport</td>\n",
       "      <td>-34.8222</td>\n",
       "      <td>-58.5358</td>\n",
       "      <td>POINT (-58.5358 -34.8222)</td>\n",
       "    </tr>\n",
       "    <tr>\n",
       "      <th>4</th>\n",
       "      <td>AT</td>\n",
       "      <td>Niederosterreich</td>\n",
       "      <td>VIE</td>\n",
       "      <td>LOWW</td>\n",
       "      <td>Vienna International Airport</td>\n",
       "      <td>48.1103</td>\n",
       "      <td>16.5697</td>\n",
       "      <td>POINT (16.5697 48.1103)</td>\n",
       "    </tr>\n",
       "  </tbody>\n",
       "</table>\n",
       "</div>"
      ],
      "text/plain": [
       "  country_code       region_name iata  icao  \\\n",
       "0           AE          Abu Zaby  AUH  OMAA   \n",
       "1           AE            Dubayy  DXB  OMDB   \n",
       "2           AG      Saint George  ANU  TAPA   \n",
       "3           AR      Buenos Aires  EZE  SAEZ   \n",
       "4           AT  Niederosterreich  VIE  LOWW   \n",
       "\n",
       "                                    airport  latitude  longitude  \\\n",
       "0           Abu Dhabi International Airport   24.4330    54.6511   \n",
       "1               Dubai International Airport   25.2528    55.3644   \n",
       "2          V. C. Bird International Airport   17.1367   -61.7927   \n",
       "3  Ministro Pistarini International Airport  -34.8222   -58.5358   \n",
       "4              Vienna International Airport   48.1103    16.5697   \n",
       "\n",
       "                    geometry  \n",
       "0     POINT (54.6511 24.433)  \n",
       "1    POINT (55.3644 25.2528)  \n",
       "2   POINT (-61.7927 17.1367)  \n",
       "3  POINT (-58.5358 -34.8222)  \n",
       "4    POINT (16.5697 48.1103)  "
      ]
     },
     "execution_count": 23,
     "metadata": {},
     "output_type": "execute_result"
    }
   ],
   "source": [
    "gdf = pd.concat([gdf,gdf_new]).reset_index(drop = True)\n",
    "gdf.head()"
   ]
  },
  {
   "cell_type": "code",
   "execution_count": 24,
   "metadata": {},
   "outputs": [
    {
     "data": {
      "text/plain": [
       "(173, 8)"
      ]
     },
     "execution_count": 24,
     "metadata": {},
     "output_type": "execute_result"
    }
   ],
   "source": [
    "gdf.shape"
   ]
  },
  {
   "cell_type": "code",
   "execution_count": 28,
   "metadata": {},
   "outputs": [],
   "source": [
    "gdf.to_csv(\"../data/airport_location.csv\")"
   ]
  },
  {
   "cell_type": "markdown",
   "metadata": {},
   "source": [
    "### Country and Region"
   ]
  },
  {
   "cell_type": "code",
   "execution_count": 55,
   "metadata": {},
   "outputs": [],
   "source": [
    "m49 = pd.read_csv(\"https://raw.githubusercontent.com/cwtravisyip/unsd_global_database/main/UNSD_m49.csv\", delimiter=\";\")"
   ]
  },
  {
   "cell_type": "markdown",
   "metadata": {},
   "source": [
    "### Validation\n",
    "In this section, we will see if we can successfully merge the airport and country data onto the flights schedule data."
   ]
  },
  {
   "cell_type": "code",
   "execution_count": 56,
   "metadata": {},
   "outputs": [
    {
     "data": {
      "text/plain": [
       "{'TW'}"
      ]
     },
     "execution_count": 56,
     "metadata": {},
     "output_type": "execute_result"
    }
   ],
   "source": [
    "# find country in airport data that is not in m49\n",
    "set(gdf['country_code']).difference(m49[\"ISO-alpha2 Code\"])\n"
   ]
  },
  {
   "cell_type": "code",
   "execution_count": null,
   "metadata": {},
   "outputs": [],
   "source": [
    "# manually add m49 information\n",
    "china = m49.query(\"`Country or Area` == 'China'\")\n",
    "china[\"ISO-alpha2 Code\"] = \"TW\"\n",
    "china[\"ISO-alpha3 Code\"] = \"TWN\"\n",
    "china[\"Country or Area\"] = \"Taiwan\"\n",
    "# add to the m49 table\n",
    "m49 = pd.concat([m49,china],ignore_index = True)"
   ]
  },
  {
   "cell_type": "code",
   "execution_count": 58,
   "metadata": {},
   "outputs": [],
   "source": [
    "m49.to_csv(\"../data/m49_processed.csv\")"
   ]
  },
  {
   "cell_type": "markdown",
   "metadata": {},
   "source": [
    "## Airline Information"
   ]
  },
  {
   "cell_type": "code",
   "execution_count": 59,
   "metadata": {},
   "outputs": [
    {
     "data": {
      "text/html": [
       "<div>\n",
       "<style scoped>\n",
       "    .dataframe tbody tr th:only-of-type {\n",
       "        vertical-align: middle;\n",
       "    }\n",
       "\n",
       "    .dataframe tbody tr th {\n",
       "        vertical-align: top;\n",
       "    }\n",
       "\n",
       "    .dataframe thead th {\n",
       "        text-align: right;\n",
       "    }\n",
       "</style>\n",
       "<table border=\"1\" class=\"dataframe\">\n",
       "  <thead>\n",
       "    <tr style=\"text-align: right;\">\n",
       "      <th></th>\n",
       "      <th>Name</th>\n",
       "      <th>IATA</th>\n",
       "      <th>ICAO</th>\n",
       "      <th>Callsign</th>\n",
       "      <th>Country</th>\n",
       "      <th>Active</th>\n",
       "    </tr>\n",
       "  </thead>\n",
       "  <tbody>\n",
       "    <tr>\n",
       "      <th>0</th>\n",
       "      <td>Private flight</td>\n",
       "      <td>-</td>\n",
       "      <td>NaN</td>\n",
       "      <td>NaN</td>\n",
       "      <td>NaN</td>\n",
       "      <td>Y</td>\n",
       "    </tr>\n",
       "    <tr>\n",
       "      <th>1</th>\n",
       "      <td>135 Airways</td>\n",
       "      <td>NaN</td>\n",
       "      <td>GNL</td>\n",
       "      <td>GENERAL</td>\n",
       "      <td>United States</td>\n",
       "      <td>N</td>\n",
       "    </tr>\n",
       "    <tr>\n",
       "      <th>2</th>\n",
       "      <td>1Time Airline</td>\n",
       "      <td>1T</td>\n",
       "      <td>RNX</td>\n",
       "      <td>NEXTIME</td>\n",
       "      <td>South Africa</td>\n",
       "      <td>Y</td>\n",
       "    </tr>\n",
       "    <tr>\n",
       "      <th>3</th>\n",
       "      <td>2 Sqn No 1 Elementary Flying Training School</td>\n",
       "      <td>NaN</td>\n",
       "      <td>WYT</td>\n",
       "      <td>NaN</td>\n",
       "      <td>United Kingdom</td>\n",
       "      <td>N</td>\n",
       "    </tr>\n",
       "    <tr>\n",
       "      <th>4</th>\n",
       "      <td>213 Flight Unit</td>\n",
       "      <td>NaN</td>\n",
       "      <td>TFU</td>\n",
       "      <td>NaN</td>\n",
       "      <td>Russia</td>\n",
       "      <td>N</td>\n",
       "    </tr>\n",
       "  </tbody>\n",
       "</table>\n",
       "</div>"
      ],
      "text/plain": [
       "                                           Name IATA ICAO Callsign  \\\n",
       "0                                Private flight    -  NaN      NaN   \n",
       "1                                   135 Airways  NaN  GNL  GENERAL   \n",
       "2                                 1Time Airline   1T  RNX  NEXTIME   \n",
       "3  2 Sqn No 1 Elementary Flying Training School  NaN  WYT      NaN   \n",
       "4                               213 Flight Unit  NaN  TFU      NaN   \n",
       "\n",
       "          Country Active  \n",
       "0             NaN      Y  \n",
       "1   United States      N  \n",
       "2    South Africa      Y  \n",
       "3  United Kingdom      N  \n",
       "4          Russia      N  "
      ]
     },
     "execution_count": 59,
     "metadata": {},
     "output_type": "execute_result"
    }
   ],
   "source": [
    "# get the data\n",
    "iata_airline = \"https://raw.githubusercontent.com/elmoallistair/datasets/main/airlines.csv\"\n",
    "# return as pd df\n",
    "iata_airline = pd.read_csv(iata_airline)\n",
    "# inspect\n",
    "iata_airline.head()"
   ]
  },
  {
   "cell_type": "code",
   "execution_count": 73,
   "metadata": {},
   "outputs": [],
   "source": [
    "# get the list of relevant airline\n",
    "iata_airline_sub = iata_airline[iata_airline[\"IATA\"].isin(set(df['airline']))]\n",
    "# export \n",
    "iata_airline_sub.to_csv(\"../data/airlines.csv\")"
   ]
  },
  {
   "cell_type": "code",
   "execution_count": 94,
   "metadata": {},
   "outputs": [
    {
     "data": {
      "text/html": [
       "<div>\n",
       "<style scoped>\n",
       "    .dataframe tbody tr th:only-of-type {\n",
       "        vertical-align: middle;\n",
       "    }\n",
       "\n",
       "    .dataframe tbody tr th {\n",
       "        vertical-align: top;\n",
       "    }\n",
       "\n",
       "    .dataframe thead th {\n",
       "        text-align: right;\n",
       "    }\n",
       "</style>\n",
       "<table border=\"1\" class=\"dataframe\">\n",
       "  <thead>\n",
       "    <tr style=\"text-align: right;\">\n",
       "      <th></th>\n",
       "      <th>Name</th>\n",
       "      <th>IATA</th>\n",
       "      <th>ICAO</th>\n",
       "      <th>Callsign</th>\n",
       "      <th>Country</th>\n",
       "      <th>Active</th>\n",
       "    </tr>\n",
       "  </thead>\n",
       "  <tbody>\n",
       "    <tr>\n",
       "      <th>3317</th>\n",
       "      <td>Lufthansa Cargo</td>\n",
       "      <td>LH</td>\n",
       "      <td>GEC</td>\n",
       "      <td>LUFTHANSA CARGO</td>\n",
       "      <td>Germany</td>\n",
       "      <td>Y</td>\n",
       "    </tr>\n",
       "  </tbody>\n",
       "</table>\n",
       "</div>"
      ],
      "text/plain": [
       "                 Name IATA ICAO         Callsign  Country Active\n",
       "3317  Lufthansa Cargo   LH  GEC  LUFTHANSA CARGO  Germany      Y"
      ]
     },
     "execution_count": 94,
     "metadata": {},
     "output_type": "execute_result"
    }
   ],
   "source": [
    "iata_airline[iata_airline[\"ICAO\"] == \"GEC\"]"
   ]
  },
  {
   "cell_type": "code",
   "execution_count": null,
   "metadata": {},
   "outputs": [],
   "source": []
  }
 ],
 "metadata": {
  "kernelspec": {
   "display_name": ".venv",
   "language": "python",
   "name": "python3"
  },
  "language_info": {
   "codemirror_mode": {
    "name": "ipython",
    "version": 3
   },
   "file_extension": ".py",
   "mimetype": "text/x-python",
   "name": "python",
   "nbconvert_exporter": "python",
   "pygments_lexer": "ipython3",
   "version": "3.11.10"
  }
 },
 "nbformat": 4,
 "nbformat_minor": 2
}
