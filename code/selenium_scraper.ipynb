{
 "cells": [
  {
   "cell_type": "markdown",
   "metadata": {},
   "source": [
    "This notebook uses Selenium chrome driver to scrape daily flight schedule data from London Heathrow Airport's website. Due to the complexity of the toggles in the website, this web scraper relies on the interative driver that enable user to interact with the website while the programme is scraping the site.\n"
   ]
  },
  {
   "cell_type": "markdown",
   "metadata": {},
   "source": [
    "### 1. Selenium Set Up\n",
    "We will use Firefox as the driver"
   ]
  },
  {
   "cell_type": "code",
   "execution_count": null,
   "metadata": {},
   "outputs": [],
   "source": [
    "# selenium\n",
    "from selenium import webdriver \n",
    "from src.main import *\n",
    "\n",
    "import pandas as pd\n",
    "import os\n",
    "import datetime "
   ]
  },
  {
   "cell_type": "code",
   "execution_count": 2,
   "metadata": {},
   "outputs": [],
   "source": [
    "# initiate the web driver\n",
    "driver = webdriver.Firefox()\n"
   ]
  },
  {
   "cell_type": "code",
   "execution_count": 3,
   "metadata": {},
   "outputs": [],
   "source": [
    "current_date = datetime.datetime.now(tz= datetime.timezone.utc)"
   ]
  },
  {
   "cell_type": "markdown",
   "metadata": {},
   "source": [
    "## 2. London Heathrow Airport"
   ]
  },
  {
   "cell_type": "markdown",
   "metadata": {},
   "source": [
    "We will first write some helper function. In general, the scraping process needs to be done as follow. For each departure / arrival data set:\n",
    "* Get the page on interactive driver and load to the top of flight schedule page\n",
    "* Scrap the schedule from the scheule page, inclduing the url of the flight card\n",
    "* Go into the flight card to get details, including actual time"
   ]
  },
  {
   "cell_type": "markdown",
   "metadata": {},
   "source": [
    "### 2.1 Departures\n",
    "\n",
    "First, we will load the page and get to the top of the daily flight schedule table. For the purpose of the project, we rely on historical data where the actual time of arrival/departure is known. Therefore, you may want to interact with the web driver at this stage to load the data from the previous day."
   ]
  },
  {
   "cell_type": "code",
   "execution_count": 4,
   "metadata": {},
   "outputs": [
    {
     "name": "stdout",
     "output_type": "stream",
     "text": [
      "Loaded to the top of the list\n"
     ]
    }
   ],
   "source": [
    "# initate_driver(\"https://www.heathrow.com/departures\")\n",
    "driver.get(\"https://www.heathrow.com/departures\")\n",
    "time.sleep(5) \n",
    "# confirm the page is loadded to the date wanted properly\n",
    "input(\"Enter when the desired page is loaded (accepted cookies)\")\n",
    "# get to top of the day\n",
    "go_to_top(driver)"
   ]
  },
  {
   "cell_type": "markdown",
   "metadata": {},
   "source": [
    "We will now start scraping the data"
   ]
  },
  {
   "cell_type": "code",
   "execution_count": 5,
   "metadata": {},
   "outputs": [
    {
     "name": "stdout",
     "output_type": "stream",
     "text": [
      "Reached end of the page\n"
     ]
    }
   ],
   "source": [
    "departures = scrape_heathrow_pages(driver=driver,departure=True)"
   ]
  },
  {
   "cell_type": "code",
   "execution_count": 7,
   "metadata": {},
   "outputs": [
    {
     "data": {
      "application/vnd.microsoft.datawrangler.viewer.v0+json": {
       "columns": [
        {
         "name": "code",
         "rawType": "object",
         "type": "string"
        },
        {
         "name": "time_sch",
         "rawType": "object",
         "type": "string"
        },
        {
         "name": "dest",
         "rawType": "object",
         "type": "string"
        },
        {
         "name": "status",
         "rawType": "object",
         "type": "string"
        },
        {
         "name": "url",
         "rawType": "object",
         "type": "string"
        }
       ],
       "conversionMethod": "pd.DataFrame",
       "ref": "cc116258-622f-440c-bd51-8dd16f433ac1",
       "rows": [
        [
         "TP1363",
         "06:00",
         "Lisbon",
         "DEPARTED",
         "https://www.heathrow.com/departures/terminal-2/flight-details/TP1363/16-02-2025"
        ],
        [
         "OS458",
         "06:00",
         "Vienna",
         "DEPARTED",
         "https://www.heathrow.com/departures/terminal-2/flight-details/OS458/16-02-2025"
        ],
        [
         "LX345",
         "06:00",
         "Zurich",
         "DEPARTED",
         "https://www.heathrow.com/departures/terminal-2/flight-details/LX345/16-02-2025"
        ],
        [
         "BA472",
         "06:05",
         "Barcelona",
         "DEPARTED",
         "https://www.heathrow.com/departures/terminal-5/flight-details/BA472/16-02-2025"
        ],
        [
         "BA868",
         "06:20",
         "Budapest",
         "DEPARTED",
         "https://www.heathrow.com/departures/terminal-3/flight-details/BA868/16-02-2025"
        ],
        [
         "AF1381",
         "06:20",
         "Paris",
         "DEPARTED",
         "https://www.heathrow.com/departures/terminal-4/flight-details/AF1381/16-02-2025"
        ],
        [
         "BA456",
         "06:20",
         "Madrid",
         "DEPARTED",
         "https://www.heathrow.com/departures/terminal-5/flight-details/BA456/16-02-2025"
        ],
        [
         "BA964",
         "06:25",
         "Hamburg",
         "DEPARTED",
         "https://www.heathrow.com/departures/terminal-5/flight-details/BA964/16-02-2025"
        ],
        [
         "KL1000",
         "06:30",
         "Amsterdam",
         "DEPARTED",
         "https://www.heathrow.com/departures/terminal-4/flight-details/KL1000/16-02-2025"
        ],
        [
         "BA328",
         "06:30",
         "Paris",
         "DEPARTED",
         "https://www.heathrow.com/departures/terminal-5/flight-details/BA328/16-02-2025"
        ],
        [
         "LH921",
         "06:30",
         "Frankfurt",
         "DEPARTED",
         "https://www.heathrow.com/departures/terminal-2/flight-details/LH921/16-02-2025"
        ],
        [
         "TK1988",
         "06:35",
         "Istanbul",
         "DEPARTED",
         "https://www.heathrow.com/departures/terminal-2/flight-details/TK1988/16-02-2025"
        ],
        [
         "VS505",
         "06:35",
         "Brussels",
         "ON TIME",
         "https://www.heathrow.com/departures/terminal-3/flight-details/VS505/16-02-2025"
        ],
        [
         "SK1536",
         "06:40",
         "SCR",
         "DEPARTED",
         "https://www.heathrow.com/departures/terminal-2/flight-details/SK1536/16-02-2025"
        ],
        [
         "BA492",
         "06:45",
         "Gibraltar",
         "DEPARTED",
         "https://www.heathrow.com/departures/terminal-3/flight-details/BA492/16-02-2025"
        ],
        [
         "BA1414",
         "06:50",
         "Belfast",
         "DEPARTED",
         "https://www.heathrow.com/departures/terminal-5/flight-details/BA1414/16-02-2025"
        ],
        [
         "SN2104",
         "06:50",
         "Brussels",
         "DEPARTED",
         "https://www.heathrow.com/departures/terminal-2/flight-details/SN2104/16-02-2025"
        ],
        [
         "BA724",
         "06:50",
         "Geneva",
         "DEPARTED",
         "https://www.heathrow.com/departures/terminal-5/flight-details/BA724/16-02-2025"
        ],
        [
         "BA1370",
         "06:50",
         "Manchester",
         "DEPARTED",
         "https://www.heathrow.com/departures/terminal-5/flight-details/BA1370/16-02-2025"
        ],
        [
         "BA548",
         "06:55",
         "Rome",
         "DEPARTED",
         "https://www.heathrow.com/departures/terminal-5/flight-details/BA548/16-02-2025"
        ],
        [
         "BA696",
         "06:55",
         "Vienna",
         "DEPARTED",
         "https://www.heathrow.com/departures/terminal-3/flight-details/BA696/16-02-2025"
        ],
        [
         "BA1432",
         "06:55",
         "Edinburgh",
         "DEPARTED",
         "https://www.heathrow.com/departures/terminal-5/flight-details/BA1432/16-02-2025"
        ],
        [
         "BA1472",
         "06:55",
         "Glasgow",
         "DEPARTED",
         "https://www.heathrow.com/departures/terminal-5/flight-details/BA1472/16-02-2025"
        ],
        [
         "BA428",
         "07:00",
         "Amsterdam",
         "DEPARTED",
         "https://www.heathrow.com/departures/terminal-5/flight-details/BA428/16-02-2025"
        ],
        [
         "LX359",
         "07:00",
         "Geneva",
         "DEPARTED",
         "https://www.heathrow.com/departures/terminal-2/flight-details/LX359/16-02-2025"
        ],
        [
         "BA500",
         "07:00",
         "Lisbon",
         "DEPARTED",
         "https://www.heathrow.com/departures/terminal-5/flight-details/BA500/16-02-2025"
        ],
        [
         "BA990",
         "07:00",
         "Berlin",
         "DEPARTED",
         "https://www.heathrow.com/departures/terminal-5/flight-details/BA990/16-02-2025"
        ],
        [
         "BA1328",
         "07:00",
         "Newcastle Upon Tyne",
         "DEPARTED",
         "https://www.heathrow.com/departures/terminal-5/flight-details/BA1328/16-02-2025"
        ],
        [
         "BA564",
         "07:05",
         "Milan",
         "DEPARTED",
         "https://www.heathrow.com/departures/terminal-5/flight-details/BA564/16-02-2025"
        ],
        [
         "BA360",
         "07:05",
         "Lyon",
         "DEPARTED",
         "https://www.heathrow.com/departures/terminal-3/flight-details/BA360/16-02-2025"
        ],
        [
         "BA854",
         "07:05",
         "Prague",
         "DEPARTED",
         "https://www.heathrow.com/departures/terminal-3/flight-details/BA854/16-02-2025"
        ],
        [
         "BA902",
         "07:10",
         "Frankfurt",
         "DEPARTED",
         "https://www.heathrow.com/departures/terminal-5/flight-details/BA902/16-02-2025"
        ],
        [
         "SN2106",
         "07:10",
         "Brussels",
         "DEPARTED",
         "https://www.heathrow.com/departures/terminal-2/flight-details/SN2106/16-02-2025"
        ],
        [
         "BA938",
         "07:15",
         "Dusseldorf",
         "DEPARTED",
         "https://www.heathrow.com/departures/terminal-5/flight-details/BA938/16-02-2025"
        ],
        [
         "BA894",
         "07:20",
         "Reykjavik",
         "DEPARTED",
         "https://www.heathrow.com/departures/terminal-5/flight-details/BA894/16-02-2025"
        ],
        [
         "BA458",
         "07:20",
         "Madrid",
         "DEPARTED",
         "https://www.heathrow.com/departures/terminal-5/flight-details/BA458/16-02-2025"
        ],
        [
         "BA1324",
         "07:20",
         "Newcastle Upon Tyne",
         "DEPARTED",
         "https://www.heathrow.com/departures/terminal-5/flight-details/BA1324/16-02-2025"
        ],
        [
         "BA762",
         "07:20",
         "Oslo",
         "DEPARTED",
         "https://www.heathrow.com/departures/terminal-3/flight-details/BA762/16-02-2025"
        ],
        [
         "BA372",
         "07:20",
         "Toulouse",
         "DEPARTED",
         "https://www.heathrow.com/departures/terminal-3/flight-details/BA372/16-02-2025"
        ],
        [
         "BA478",
         "07:25",
         "Barcelona",
         "DEPARTED",
         "https://www.heathrow.com/departures/terminal-5/flight-details/BA478/16-02-2025"
        ],
        [
         "BA304",
         "07:30",
         "Paris",
         "DEPARTED",
         "https://www.heathrow.com/departures/terminal-5/flight-details/BA304/16-02-2025"
        ],
        [
         "LH923",
         "07:30",
         "Frankfurt",
         "DEPARTED",
         "https://www.heathrow.com/departures/terminal-2/flight-details/LH923/16-02-2025"
        ],
        [
         "BA572",
         "07:35",
         "Milan",
         "DEPARTED",
         "https://www.heathrow.com/departures/terminal-5/flight-details/BA572/16-02-2025"
        ],
        [
         "BA772",
         "07:35",
         "Zurich",
         "DEPARTED",
         "https://www.heathrow.com/departures/terminal-5/flight-details/BA772/16-02-2025"
        ],
        [
         "LH2487",
         "07:40",
         "Munich",
         "DEPARTED",
         "https://www.heathrow.com/departures/terminal-2/flight-details/LH2487/16-02-2025"
        ],
        [
         "BA922",
         "07:40",
         "Stuttgart",
         "DEPARTED",
         "https://www.heathrow.com/departures/terminal-3/flight-details/BA922/16-02-2025"
        ],
        [
         "BA1444",
         "07:45",
         "Edinburgh",
         "DEPARTED",
         "https://www.heathrow.com/departures/terminal-5/flight-details/BA1444/16-02-2025"
        ],
        [
         "BA1386",
         "07:45",
         "Manchester",
         "DEPARTED",
         "https://www.heathrow.com/departures/terminal-5/flight-details/BA1386/16-02-2025"
        ],
        [
         "VS107",
         "07:45",
         "Montego Bay",
         "DEPARTED",
         "https://www.heathrow.com/departures/terminal-3/flight-details/VS107/16-02-2025"
        ],
        [
         "EI151",
         "07:50",
         "Dublin",
         "DEPARTED",
         "https://www.heathrow.com/departures/terminal-2/flight-details/EI151/16-02-2025"
        ]
       ],
       "shape": {
        "columns": 4,
        "rows": 644
       }
      },
      "text/html": [
       "<div>\n",
       "<style scoped>\n",
       "    .dataframe tbody tr th:only-of-type {\n",
       "        vertical-align: middle;\n",
       "    }\n",
       "\n",
       "    .dataframe tbody tr th {\n",
       "        vertical-align: top;\n",
       "    }\n",
       "\n",
       "    .dataframe thead th {\n",
       "        text-align: right;\n",
       "    }\n",
       "</style>\n",
       "<table border=\"1\" class=\"dataframe\">\n",
       "  <thead>\n",
       "    <tr style=\"text-align: right;\">\n",
       "      <th></th>\n",
       "      <th>time_sch</th>\n",
       "      <th>dest</th>\n",
       "      <th>status</th>\n",
       "      <th>url</th>\n",
       "    </tr>\n",
       "    <tr>\n",
       "      <th>code</th>\n",
       "      <th></th>\n",
       "      <th></th>\n",
       "      <th></th>\n",
       "      <th></th>\n",
       "    </tr>\n",
       "  </thead>\n",
       "  <tbody>\n",
       "    <tr>\n",
       "      <th>TP1363</th>\n",
       "      <td>06:00</td>\n",
       "      <td>Lisbon</td>\n",
       "      <td>DEPARTED</td>\n",
       "      <td>https://www.heathrow.com/departures/terminal-2...</td>\n",
       "    </tr>\n",
       "    <tr>\n",
       "      <th>OS458</th>\n",
       "      <td>06:00</td>\n",
       "      <td>Vienna</td>\n",
       "      <td>DEPARTED</td>\n",
       "      <td>https://www.heathrow.com/departures/terminal-2...</td>\n",
       "    </tr>\n",
       "    <tr>\n",
       "      <th>LX345</th>\n",
       "      <td>06:00</td>\n",
       "      <td>Zurich</td>\n",
       "      <td>DEPARTED</td>\n",
       "      <td>https://www.heathrow.com/departures/terminal-2...</td>\n",
       "    </tr>\n",
       "    <tr>\n",
       "      <th>BA472</th>\n",
       "      <td>06:05</td>\n",
       "      <td>Barcelona</td>\n",
       "      <td>DEPARTED</td>\n",
       "      <td>https://www.heathrow.com/departures/terminal-5...</td>\n",
       "    </tr>\n",
       "    <tr>\n",
       "      <th>BA868</th>\n",
       "      <td>06:20</td>\n",
       "      <td>Budapest</td>\n",
       "      <td>DEPARTED</td>\n",
       "      <td>https://www.heathrow.com/departures/terminal-3...</td>\n",
       "    </tr>\n",
       "    <tr>\n",
       "      <th>...</th>\n",
       "      <td>...</td>\n",
       "      <td>...</td>\n",
       "      <td>...</td>\n",
       "      <td>...</td>\n",
       "    </tr>\n",
       "    <tr>\n",
       "      <th>BA083</th>\n",
       "      <td>22:30</td>\n",
       "      <td>Abuja</td>\n",
       "      <td>ON TIME</td>\n",
       "      <td>https://www.heathrow.com/departures/terminal-5...</td>\n",
       "    </tr>\n",
       "    <tr>\n",
       "      <th>MS780</th>\n",
       "      <td>22:30</td>\n",
       "      <td>Cairo</td>\n",
       "      <td>ON TIME</td>\n",
       "      <td>https://www.heathrow.com/departures/terminal-2...</td>\n",
       "    </tr>\n",
       "    <tr>\n",
       "      <th>VS449</th>\n",
       "      <td>22:30</td>\n",
       "      <td>Johannesburg</td>\n",
       "      <td>ON TIME</td>\n",
       "      <td>https://www.heathrow.com/departures/terminal-3...</td>\n",
       "    </tr>\n",
       "    <tr>\n",
       "      <th>AM008</th>\n",
       "      <td>22:30</td>\n",
       "      <td>Mexico City</td>\n",
       "      <td>ON TIME</td>\n",
       "      <td>https://www.heathrow.com/departures/terminal-3...</td>\n",
       "    </tr>\n",
       "    <tr>\n",
       "      <th>TK1984</th>\n",
       "      <td>22:35</td>\n",
       "      <td>Istanbul</td>\n",
       "      <td>ON TIME</td>\n",
       "      <td>https://www.heathrow.com/departures/terminal-2...</td>\n",
       "    </tr>\n",
       "  </tbody>\n",
       "</table>\n",
       "<p>644 rows × 4 columns</p>\n",
       "</div>"
      ],
      "text/plain": [
       "       time_sch          dest    status  \\\n",
       "code                                      \n",
       "TP1363    06:00        Lisbon  DEPARTED   \n",
       "OS458     06:00        Vienna  DEPARTED   \n",
       "LX345     06:00        Zurich  DEPARTED   \n",
       "BA472     06:05     Barcelona  DEPARTED   \n",
       "BA868     06:20      Budapest  DEPARTED   \n",
       "...         ...           ...       ...   \n",
       "BA083     22:30         Abuja   ON TIME   \n",
       "MS780     22:30         Cairo   ON TIME   \n",
       "VS449     22:30  Johannesburg   ON TIME   \n",
       "AM008     22:30   Mexico City   ON TIME   \n",
       "TK1984    22:35      Istanbul   ON TIME   \n",
       "\n",
       "                                                      url  \n",
       "code                                                       \n",
       "TP1363  https://www.heathrow.com/departures/terminal-2...  \n",
       "OS458   https://www.heathrow.com/departures/terminal-2...  \n",
       "LX345   https://www.heathrow.com/departures/terminal-2...  \n",
       "BA472   https://www.heathrow.com/departures/terminal-5...  \n",
       "BA868   https://www.heathrow.com/departures/terminal-3...  \n",
       "...                                                   ...  \n",
       "BA083   https://www.heathrow.com/departures/terminal-5...  \n",
       "MS780   https://www.heathrow.com/departures/terminal-2...  \n",
       "VS449   https://www.heathrow.com/departures/terminal-3...  \n",
       "AM008   https://www.heathrow.com/departures/terminal-3...  \n",
       "TK1984  https://www.heathrow.com/departures/terminal-2...  \n",
       "\n",
       "[644 rows x 4 columns]"
      ]
     },
     "execution_count": 7,
     "metadata": {},
     "output_type": "execute_result"
    }
   ],
   "source": [
    "departures"
   ]
  },
  {
   "cell_type": "markdown",
   "metadata": {},
   "source": [
    "#### 2.1.2 Scrape individual page (Skipped)\n",
    "In addition to the schedule and the status, we are also interested in the actual departure time. This requires scraping all the pages for each of the flight. At times, the website may be unresponsive, requiring a halt to the scraper."
   ]
  },
  {
   "cell_type": "code",
   "execution_count": null,
   "metadata": {},
   "outputs": [],
   "source": [
    "# initialise a 'time_act' column to fill\n",
    "departures['time_act'] = pd.NA"
   ]
  },
  {
   "cell_type": "code",
   "execution_count": 32,
   "metadata": {},
   "outputs": [],
   "source": [
    "driver = webdriver.Firefox()\n",
    "driver.get(\"https://www.heathrow.com/departure\")"
   ]
  },
  {
   "cell_type": "code",
   "execution_count": 38,
   "metadata": {},
   "outputs": [
    {
     "name": "stdout",
     "output_type": "stream",
     "text": [
      "Error occured when calling scrape_flight_page for DEPARTED flight BA342\n",
      "Error occured when calling scrape_flight_page for DEPARTED flight BA752\n",
      "Error occured when calling scrape_flight_page for DEPARTED flight BA790\n",
      "Error occured when calling scrape_flight_page for DEPARTED flight BA668\n",
      "Error occured when calling scrape_flight_page for DEPARTED flight BA962\n",
      "Error occured when calling scrape_flight_page for DEPARTED flight EI915\n",
      "Error occured when calling scrape_flight_page for DEPARTED flight LX355\n"
     ]
    },
    {
     "ename": "KeyboardInterrupt",
     "evalue": "",
     "output_type": "error",
     "traceback": [
      "\u001b[0;31m---------------------------------------------------------------------------\u001b[0m",
      "\u001b[0;31mKeyboardInterrupt\u001b[0m                         Traceback (most recent call last)",
      "\u001b[0;32m<ipython-input-38-631af8cc47fd>\u001b[0m in \u001b[0;36m<module>\u001b[0;34m\u001b[0m\n\u001b[1;32m      4\u001b[0m \u001b[0;31m# set up headless driver\u001b[0m\u001b[0;34m\u001b[0m\u001b[0;34m\u001b[0m\u001b[0;34m\u001b[0m\u001b[0m\n\u001b[1;32m      5\u001b[0m \u001b[0;32mfor\u001b[0m \u001b[0mkey\u001b[0m\u001b[0;34m,\u001b[0m \u001b[0mval\u001b[0m \u001b[0;32min\u001b[0m \u001b[0mdepartures\u001b[0m\u001b[0;34m[\u001b[0m\u001b[0;34m(\u001b[0m\u001b[0mdepartures\u001b[0m\u001b[0;34m[\u001b[0m\u001b[0;34m'time_act'\u001b[0m\u001b[0;34m]\u001b[0m\u001b[0;34m.\u001b[0m\u001b[0misna\u001b[0m\u001b[0;34m(\u001b[0m\u001b[0;34m)\u001b[0m\u001b[0;34m)\u001b[0m \u001b[0;34m&\u001b[0m \u001b[0;34m(\u001b[0m\u001b[0mdepartures\u001b[0m\u001b[0;34m[\u001b[0m\u001b[0;34m\"status\"\u001b[0m\u001b[0;34m]\u001b[0m \u001b[0;34m==\u001b[0m \u001b[0;34m\"DEPARTED\"\u001b[0m\u001b[0;34m)\u001b[0m\u001b[0;34m]\u001b[0m\u001b[0;34m.\u001b[0m\u001b[0miterrows\u001b[0m\u001b[0;34m(\u001b[0m\u001b[0;34m)\u001b[0m\u001b[0;34m:\u001b[0m\u001b[0;34m\u001b[0m\u001b[0;34m\u001b[0m\u001b[0m\n\u001b[0;32m----> 6\u001b[0;31m     \u001b[0mdriver\u001b[0m\u001b[0;34m.\u001b[0m\u001b[0mget\u001b[0m\u001b[0;34m(\u001b[0m\u001b[0mval\u001b[0m\u001b[0;34m[\u001b[0m\u001b[0;34m'url'\u001b[0m\u001b[0;34m]\u001b[0m\u001b[0;34m)\u001b[0m\u001b[0;34m\u001b[0m\u001b[0;34m\u001b[0m\u001b[0m\n\u001b[0m\u001b[1;32m      7\u001b[0m     \u001b[0mtime\u001b[0m\u001b[0;34m.\u001b[0m\u001b[0msleep\u001b[0m\u001b[0;34m(\u001b[0m\u001b[0;36m0.25\u001b[0m\u001b[0;34m)\u001b[0m\u001b[0;34m\u001b[0m\u001b[0;34m\u001b[0m\u001b[0m\n\u001b[1;32m      8\u001b[0m     \u001b[0;32mtry\u001b[0m\u001b[0;34m:\u001b[0m\u001b[0;34m\u001b[0m\u001b[0;34m\u001b[0m\u001b[0m\n",
      "\u001b[0;32m~/opt/anaconda3/lib/python3.8/site-packages/selenium/webdriver/remote/webdriver.py\u001b[0m in \u001b[0;36mget\u001b[0;34m(self, url)\u001b[0m\n\u001b[1;32m    447\u001b[0m     \u001b[0;32mdef\u001b[0m \u001b[0mget\u001b[0m\u001b[0;34m(\u001b[0m\u001b[0mself\u001b[0m\u001b[0;34m,\u001b[0m \u001b[0murl\u001b[0m\u001b[0;34m:\u001b[0m \u001b[0mstr\u001b[0m\u001b[0;34m)\u001b[0m \u001b[0;34m->\u001b[0m \u001b[0;32mNone\u001b[0m\u001b[0;34m:\u001b[0m\u001b[0;34m\u001b[0m\u001b[0;34m\u001b[0m\u001b[0m\n\u001b[1;32m    448\u001b[0m         \u001b[0;34m\"\"\"Loads a web page in the current browser session.\"\"\"\u001b[0m\u001b[0;34m\u001b[0m\u001b[0;34m\u001b[0m\u001b[0m\n\u001b[0;32m--> 449\u001b[0;31m         \u001b[0mself\u001b[0m\u001b[0;34m.\u001b[0m\u001b[0mexecute\u001b[0m\u001b[0;34m(\u001b[0m\u001b[0mCommand\u001b[0m\u001b[0;34m.\u001b[0m\u001b[0mGET\u001b[0m\u001b[0;34m,\u001b[0m \u001b[0;34m{\u001b[0m\u001b[0;34m\"url\"\u001b[0m\u001b[0;34m:\u001b[0m \u001b[0murl\u001b[0m\u001b[0;34m}\u001b[0m\u001b[0;34m)\u001b[0m\u001b[0;34m\u001b[0m\u001b[0;34m\u001b[0m\u001b[0m\n\u001b[0m\u001b[1;32m    450\u001b[0m \u001b[0;34m\u001b[0m\u001b[0m\n\u001b[1;32m    451\u001b[0m     \u001b[0;34m@\u001b[0m\u001b[0mproperty\u001b[0m\u001b[0;34m\u001b[0m\u001b[0;34m\u001b[0m\u001b[0m\n",
      "\u001b[0;32m~/opt/anaconda3/lib/python3.8/site-packages/selenium/webdriver/remote/webdriver.py\u001b[0m in \u001b[0;36mexecute\u001b[0;34m(self, driver_command, params)\u001b[0m\n\u001b[1;32m    436\u001b[0m                 \u001b[0mparams\u001b[0m\u001b[0;34m[\u001b[0m\u001b[0;34m\"sessionId\"\u001b[0m\u001b[0;34m]\u001b[0m \u001b[0;34m=\u001b[0m \u001b[0mself\u001b[0m\u001b[0;34m.\u001b[0m\u001b[0msession_id\u001b[0m\u001b[0;34m\u001b[0m\u001b[0;34m\u001b[0m\u001b[0m\n\u001b[1;32m    437\u001b[0m \u001b[0;34m\u001b[0m\u001b[0m\n\u001b[0;32m--> 438\u001b[0;31m         \u001b[0mresponse\u001b[0m \u001b[0;34m=\u001b[0m \u001b[0mself\u001b[0m\u001b[0;34m.\u001b[0m\u001b[0mcommand_executor\u001b[0m\u001b[0;34m.\u001b[0m\u001b[0mexecute\u001b[0m\u001b[0;34m(\u001b[0m\u001b[0mdriver_command\u001b[0m\u001b[0;34m,\u001b[0m \u001b[0mparams\u001b[0m\u001b[0;34m)\u001b[0m\u001b[0;34m\u001b[0m\u001b[0;34m\u001b[0m\u001b[0m\n\u001b[0m\u001b[1;32m    439\u001b[0m         \u001b[0;32mif\u001b[0m \u001b[0mresponse\u001b[0m\u001b[0;34m:\u001b[0m\u001b[0;34m\u001b[0m\u001b[0;34m\u001b[0m\u001b[0m\n\u001b[1;32m    440\u001b[0m             \u001b[0mself\u001b[0m\u001b[0;34m.\u001b[0m\u001b[0merror_handler\u001b[0m\u001b[0;34m.\u001b[0m\u001b[0mcheck_response\u001b[0m\u001b[0;34m(\u001b[0m\u001b[0mresponse\u001b[0m\u001b[0;34m)\u001b[0m\u001b[0;34m\u001b[0m\u001b[0;34m\u001b[0m\u001b[0m\n",
      "\u001b[0;32m~/opt/anaconda3/lib/python3.8/site-packages/selenium/webdriver/remote/remote_connection.py\u001b[0m in \u001b[0;36mexecute\u001b[0;34m(self, command, params)\u001b[0m\n\u001b[1;32m    288\u001b[0m         \u001b[0mdata\u001b[0m \u001b[0;34m=\u001b[0m \u001b[0mutils\u001b[0m\u001b[0;34m.\u001b[0m\u001b[0mdump_json\u001b[0m\u001b[0;34m(\u001b[0m\u001b[0mparams\u001b[0m\u001b[0;34m)\u001b[0m\u001b[0;34m\u001b[0m\u001b[0;34m\u001b[0m\u001b[0m\n\u001b[1;32m    289\u001b[0m         \u001b[0murl\u001b[0m \u001b[0;34m=\u001b[0m \u001b[0;34mf\"{self._url}{path}\"\u001b[0m\u001b[0;34m\u001b[0m\u001b[0;34m\u001b[0m\u001b[0m\n\u001b[0;32m--> 290\u001b[0;31m         \u001b[0;32mreturn\u001b[0m \u001b[0mself\u001b[0m\u001b[0;34m.\u001b[0m\u001b[0m_request\u001b[0m\u001b[0;34m(\u001b[0m\u001b[0mcommand_info\u001b[0m\u001b[0;34m[\u001b[0m\u001b[0;36m0\u001b[0m\u001b[0;34m]\u001b[0m\u001b[0;34m,\u001b[0m \u001b[0murl\u001b[0m\u001b[0;34m,\u001b[0m \u001b[0mbody\u001b[0m\u001b[0;34m=\u001b[0m\u001b[0mdata\u001b[0m\u001b[0;34m)\u001b[0m\u001b[0;34m\u001b[0m\u001b[0;34m\u001b[0m\u001b[0m\n\u001b[0m\u001b[1;32m    291\u001b[0m \u001b[0;34m\u001b[0m\u001b[0m\n\u001b[1;32m    292\u001b[0m     \u001b[0;32mdef\u001b[0m \u001b[0m_request\u001b[0m\u001b[0;34m(\u001b[0m\u001b[0mself\u001b[0m\u001b[0;34m,\u001b[0m \u001b[0mmethod\u001b[0m\u001b[0;34m,\u001b[0m \u001b[0murl\u001b[0m\u001b[0;34m,\u001b[0m \u001b[0mbody\u001b[0m\u001b[0;34m=\u001b[0m\u001b[0;32mNone\u001b[0m\u001b[0;34m)\u001b[0m\u001b[0;34m:\u001b[0m\u001b[0;34m\u001b[0m\u001b[0;34m\u001b[0m\u001b[0m\n",
      "\u001b[0;32m~/opt/anaconda3/lib/python3.8/site-packages/selenium/webdriver/remote/remote_connection.py\u001b[0m in \u001b[0;36m_request\u001b[0;34m(self, method, url, body)\u001b[0m\n\u001b[1;32m    309\u001b[0m \u001b[0;34m\u001b[0m\u001b[0m\n\u001b[1;32m    310\u001b[0m         \u001b[0;32mif\u001b[0m \u001b[0mself\u001b[0m\u001b[0;34m.\u001b[0m\u001b[0mkeep_alive\u001b[0m\u001b[0;34m:\u001b[0m\u001b[0;34m\u001b[0m\u001b[0;34m\u001b[0m\u001b[0m\n\u001b[0;32m--> 311\u001b[0;31m             \u001b[0mresponse\u001b[0m \u001b[0;34m=\u001b[0m \u001b[0mself\u001b[0m\u001b[0;34m.\u001b[0m\u001b[0m_conn\u001b[0m\u001b[0;34m.\u001b[0m\u001b[0mrequest\u001b[0m\u001b[0;34m(\u001b[0m\u001b[0mmethod\u001b[0m\u001b[0;34m,\u001b[0m \u001b[0murl\u001b[0m\u001b[0;34m,\u001b[0m \u001b[0mbody\u001b[0m\u001b[0;34m=\u001b[0m\u001b[0mbody\u001b[0m\u001b[0;34m,\u001b[0m \u001b[0mheaders\u001b[0m\u001b[0;34m=\u001b[0m\u001b[0mheaders\u001b[0m\u001b[0;34m)\u001b[0m\u001b[0;34m\u001b[0m\u001b[0;34m\u001b[0m\u001b[0m\n\u001b[0m\u001b[1;32m    312\u001b[0m             \u001b[0mstatuscode\u001b[0m \u001b[0;34m=\u001b[0m \u001b[0mresponse\u001b[0m\u001b[0;34m.\u001b[0m\u001b[0mstatus\u001b[0m\u001b[0;34m\u001b[0m\u001b[0;34m\u001b[0m\u001b[0m\n\u001b[1;32m    313\u001b[0m         \u001b[0;32melse\u001b[0m\u001b[0;34m:\u001b[0m\u001b[0;34m\u001b[0m\u001b[0;34m\u001b[0m\u001b[0m\n",
      "\u001b[0;32m~/opt/anaconda3/lib/python3.8/site-packages/urllib3/request.py\u001b[0m in \u001b[0;36mrequest\u001b[0;34m(self, method, url, fields, headers, **urlopen_kw)\u001b[0m\n\u001b[1;32m     77\u001b[0m             )\n\u001b[1;32m     78\u001b[0m         \u001b[0;32melse\u001b[0m\u001b[0;34m:\u001b[0m\u001b[0;34m\u001b[0m\u001b[0;34m\u001b[0m\u001b[0m\n\u001b[0;32m---> 79\u001b[0;31m             return self.request_encode_body(\n\u001b[0m\u001b[1;32m     80\u001b[0m                 \u001b[0mmethod\u001b[0m\u001b[0;34m,\u001b[0m \u001b[0murl\u001b[0m\u001b[0;34m,\u001b[0m \u001b[0mfields\u001b[0m\u001b[0;34m=\u001b[0m\u001b[0mfields\u001b[0m\u001b[0;34m,\u001b[0m \u001b[0mheaders\u001b[0m\u001b[0;34m=\u001b[0m\u001b[0mheaders\u001b[0m\u001b[0;34m,\u001b[0m \u001b[0;34m**\u001b[0m\u001b[0murlopen_kw\u001b[0m\u001b[0;34m\u001b[0m\u001b[0;34m\u001b[0m\u001b[0m\n\u001b[1;32m     81\u001b[0m             )\n",
      "\u001b[0;32m~/opt/anaconda3/lib/python3.8/site-packages/urllib3/request.py\u001b[0m in \u001b[0;36mrequest_encode_body\u001b[0;34m(self, method, url, fields, headers, encode_multipart, multipart_boundary, **urlopen_kw)\u001b[0m\n\u001b[1;32m    169\u001b[0m         \u001b[0mextra_kw\u001b[0m\u001b[0;34m.\u001b[0m\u001b[0mupdate\u001b[0m\u001b[0;34m(\u001b[0m\u001b[0murlopen_kw\u001b[0m\u001b[0;34m)\u001b[0m\u001b[0;34m\u001b[0m\u001b[0;34m\u001b[0m\u001b[0m\n\u001b[1;32m    170\u001b[0m \u001b[0;34m\u001b[0m\u001b[0m\n\u001b[0;32m--> 171\u001b[0;31m         \u001b[0;32mreturn\u001b[0m \u001b[0mself\u001b[0m\u001b[0;34m.\u001b[0m\u001b[0murlopen\u001b[0m\u001b[0;34m(\u001b[0m\u001b[0mmethod\u001b[0m\u001b[0;34m,\u001b[0m \u001b[0murl\u001b[0m\u001b[0;34m,\u001b[0m \u001b[0;34m**\u001b[0m\u001b[0mextra_kw\u001b[0m\u001b[0;34m)\u001b[0m\u001b[0;34m\u001b[0m\u001b[0;34m\u001b[0m\u001b[0m\n\u001b[0m",
      "\u001b[0;32m~/opt/anaconda3/lib/python3.8/site-packages/urllib3/poolmanager.py\u001b[0m in \u001b[0;36murlopen\u001b[0;34m(self, method, url, redirect, **kw)\u001b[0m\n\u001b[1;32m    334\u001b[0m             \u001b[0mresponse\u001b[0m \u001b[0;34m=\u001b[0m \u001b[0mconn\u001b[0m\u001b[0;34m.\u001b[0m\u001b[0murlopen\u001b[0m\u001b[0;34m(\u001b[0m\u001b[0mmethod\u001b[0m\u001b[0;34m,\u001b[0m \u001b[0murl\u001b[0m\u001b[0;34m,\u001b[0m \u001b[0;34m**\u001b[0m\u001b[0mkw\u001b[0m\u001b[0;34m)\u001b[0m\u001b[0;34m\u001b[0m\u001b[0;34m\u001b[0m\u001b[0m\n\u001b[1;32m    335\u001b[0m         \u001b[0;32melse\u001b[0m\u001b[0;34m:\u001b[0m\u001b[0;34m\u001b[0m\u001b[0;34m\u001b[0m\u001b[0m\n\u001b[0;32m--> 336\u001b[0;31m             \u001b[0mresponse\u001b[0m \u001b[0;34m=\u001b[0m \u001b[0mconn\u001b[0m\u001b[0;34m.\u001b[0m\u001b[0murlopen\u001b[0m\u001b[0;34m(\u001b[0m\u001b[0mmethod\u001b[0m\u001b[0;34m,\u001b[0m \u001b[0mu\u001b[0m\u001b[0;34m.\u001b[0m\u001b[0mrequest_uri\u001b[0m\u001b[0;34m,\u001b[0m \u001b[0;34m**\u001b[0m\u001b[0mkw\u001b[0m\u001b[0;34m)\u001b[0m\u001b[0;34m\u001b[0m\u001b[0;34m\u001b[0m\u001b[0m\n\u001b[0m\u001b[1;32m    337\u001b[0m \u001b[0;34m\u001b[0m\u001b[0m\n\u001b[1;32m    338\u001b[0m         \u001b[0mredirect_location\u001b[0m \u001b[0;34m=\u001b[0m \u001b[0mredirect\u001b[0m \u001b[0;32mand\u001b[0m \u001b[0mresponse\u001b[0m\u001b[0;34m.\u001b[0m\u001b[0mget_redirect_location\u001b[0m\u001b[0;34m(\u001b[0m\u001b[0;34m)\u001b[0m\u001b[0;34m\u001b[0m\u001b[0;34m\u001b[0m\u001b[0m\n",
      "\u001b[0;32m~/opt/anaconda3/lib/python3.8/site-packages/urllib3/connectionpool.py\u001b[0m in \u001b[0;36murlopen\u001b[0;34m(self, method, url, body, headers, retries, redirect, assert_same_host, timeout, pool_timeout, release_conn, chunked, body_pos, **response_kw)\u001b[0m\n\u001b[1;32m    668\u001b[0m \u001b[0;34m\u001b[0m\u001b[0m\n\u001b[1;32m    669\u001b[0m             \u001b[0;31m# Make the request on the httplib connection object.\u001b[0m\u001b[0;34m\u001b[0m\u001b[0;34m\u001b[0m\u001b[0;34m\u001b[0m\u001b[0m\n\u001b[0;32m--> 670\u001b[0;31m             httplib_response = self._make_request(\n\u001b[0m\u001b[1;32m    671\u001b[0m                 \u001b[0mconn\u001b[0m\u001b[0;34m,\u001b[0m\u001b[0;34m\u001b[0m\u001b[0;34m\u001b[0m\u001b[0m\n\u001b[1;32m    672\u001b[0m                 \u001b[0mmethod\u001b[0m\u001b[0;34m,\u001b[0m\u001b[0;34m\u001b[0m\u001b[0;34m\u001b[0m\u001b[0m\n",
      "\u001b[0;32m~/opt/anaconda3/lib/python3.8/site-packages/urllib3/connectionpool.py\u001b[0m in \u001b[0;36m_make_request\u001b[0;34m(self, conn, method, url, timeout, chunked, **httplib_request_kw)\u001b[0m\n\u001b[1;32m    424\u001b[0m                     \u001b[0;31m# Python 3 (including for exceptions like SystemExit).\u001b[0m\u001b[0;34m\u001b[0m\u001b[0;34m\u001b[0m\u001b[0;34m\u001b[0m\u001b[0m\n\u001b[1;32m    425\u001b[0m                     \u001b[0;31m# Otherwise it looks like a bug in the code.\u001b[0m\u001b[0;34m\u001b[0m\u001b[0;34m\u001b[0m\u001b[0;34m\u001b[0m\u001b[0m\n\u001b[0;32m--> 426\u001b[0;31m                     \u001b[0msix\u001b[0m\u001b[0;34m.\u001b[0m\u001b[0mraise_from\u001b[0m\u001b[0;34m(\u001b[0m\u001b[0me\u001b[0m\u001b[0;34m,\u001b[0m \u001b[0;32mNone\u001b[0m\u001b[0;34m)\u001b[0m\u001b[0;34m\u001b[0m\u001b[0;34m\u001b[0m\u001b[0m\n\u001b[0m\u001b[1;32m    427\u001b[0m         \u001b[0;32mexcept\u001b[0m \u001b[0;34m(\u001b[0m\u001b[0mSocketTimeout\u001b[0m\u001b[0;34m,\u001b[0m \u001b[0mBaseSSLError\u001b[0m\u001b[0;34m,\u001b[0m \u001b[0mSocketError\u001b[0m\u001b[0;34m)\u001b[0m \u001b[0;32mas\u001b[0m \u001b[0me\u001b[0m\u001b[0;34m:\u001b[0m\u001b[0;34m\u001b[0m\u001b[0;34m\u001b[0m\u001b[0m\n\u001b[1;32m    428\u001b[0m             \u001b[0mself\u001b[0m\u001b[0;34m.\u001b[0m\u001b[0m_raise_timeout\u001b[0m\u001b[0;34m(\u001b[0m\u001b[0merr\u001b[0m\u001b[0;34m=\u001b[0m\u001b[0me\u001b[0m\u001b[0;34m,\u001b[0m \u001b[0murl\u001b[0m\u001b[0;34m=\u001b[0m\u001b[0murl\u001b[0m\u001b[0;34m,\u001b[0m \u001b[0mtimeout_value\u001b[0m\u001b[0;34m=\u001b[0m\u001b[0mread_timeout\u001b[0m\u001b[0;34m)\u001b[0m\u001b[0;34m\u001b[0m\u001b[0;34m\u001b[0m\u001b[0m\n",
      "\u001b[0;32m~/opt/anaconda3/lib/python3.8/site-packages/urllib3/packages/six.py\u001b[0m in \u001b[0;36mraise_from\u001b[0;34m(value, from_value)\u001b[0m\n",
      "\u001b[0;32m~/opt/anaconda3/lib/python3.8/site-packages/urllib3/connectionpool.py\u001b[0m in \u001b[0;36m_make_request\u001b[0;34m(self, conn, method, url, timeout, chunked, **httplib_request_kw)\u001b[0m\n\u001b[1;32m    419\u001b[0m                 \u001b[0;31m# Python 3\u001b[0m\u001b[0;34m\u001b[0m\u001b[0;34m\u001b[0m\u001b[0;34m\u001b[0m\u001b[0m\n\u001b[1;32m    420\u001b[0m                 \u001b[0;32mtry\u001b[0m\u001b[0;34m:\u001b[0m\u001b[0;34m\u001b[0m\u001b[0;34m\u001b[0m\u001b[0m\n\u001b[0;32m--> 421\u001b[0;31m                     \u001b[0mhttplib_response\u001b[0m \u001b[0;34m=\u001b[0m \u001b[0mconn\u001b[0m\u001b[0;34m.\u001b[0m\u001b[0mgetresponse\u001b[0m\u001b[0;34m(\u001b[0m\u001b[0;34m)\u001b[0m\u001b[0;34m\u001b[0m\u001b[0;34m\u001b[0m\u001b[0m\n\u001b[0m\u001b[1;32m    422\u001b[0m                 \u001b[0;32mexcept\u001b[0m \u001b[0mBaseException\u001b[0m \u001b[0;32mas\u001b[0m \u001b[0me\u001b[0m\u001b[0;34m:\u001b[0m\u001b[0;34m\u001b[0m\u001b[0;34m\u001b[0m\u001b[0m\n\u001b[1;32m    423\u001b[0m                     \u001b[0;31m# Remove the TypeError from the exception chain in\u001b[0m\u001b[0;34m\u001b[0m\u001b[0;34m\u001b[0m\u001b[0;34m\u001b[0m\u001b[0m\n",
      "\u001b[0;32m~/opt/anaconda3/lib/python3.8/http/client.py\u001b[0m in \u001b[0;36mgetresponse\u001b[0;34m(self)\u001b[0m\n\u001b[1;32m   1330\u001b[0m         \u001b[0;32mtry\u001b[0m\u001b[0;34m:\u001b[0m\u001b[0;34m\u001b[0m\u001b[0;34m\u001b[0m\u001b[0m\n\u001b[1;32m   1331\u001b[0m             \u001b[0;32mtry\u001b[0m\u001b[0;34m:\u001b[0m\u001b[0;34m\u001b[0m\u001b[0;34m\u001b[0m\u001b[0m\n\u001b[0;32m-> 1332\u001b[0;31m                 \u001b[0mresponse\u001b[0m\u001b[0;34m.\u001b[0m\u001b[0mbegin\u001b[0m\u001b[0;34m(\u001b[0m\u001b[0;34m)\u001b[0m\u001b[0;34m\u001b[0m\u001b[0;34m\u001b[0m\u001b[0m\n\u001b[0m\u001b[1;32m   1333\u001b[0m             \u001b[0;32mexcept\u001b[0m \u001b[0mConnectionError\u001b[0m\u001b[0;34m:\u001b[0m\u001b[0;34m\u001b[0m\u001b[0;34m\u001b[0m\u001b[0m\n\u001b[1;32m   1334\u001b[0m                 \u001b[0mself\u001b[0m\u001b[0;34m.\u001b[0m\u001b[0mclose\u001b[0m\u001b[0;34m(\u001b[0m\u001b[0;34m)\u001b[0m\u001b[0;34m\u001b[0m\u001b[0;34m\u001b[0m\u001b[0m\n",
      "\u001b[0;32m~/opt/anaconda3/lib/python3.8/http/client.py\u001b[0m in \u001b[0;36mbegin\u001b[0;34m(self)\u001b[0m\n\u001b[1;32m    301\u001b[0m         \u001b[0;31m# read until we get a non-100 response\u001b[0m\u001b[0;34m\u001b[0m\u001b[0;34m\u001b[0m\u001b[0;34m\u001b[0m\u001b[0m\n\u001b[1;32m    302\u001b[0m         \u001b[0;32mwhile\u001b[0m \u001b[0;32mTrue\u001b[0m\u001b[0;34m:\u001b[0m\u001b[0;34m\u001b[0m\u001b[0;34m\u001b[0m\u001b[0m\n\u001b[0;32m--> 303\u001b[0;31m             \u001b[0mversion\u001b[0m\u001b[0;34m,\u001b[0m \u001b[0mstatus\u001b[0m\u001b[0;34m,\u001b[0m \u001b[0mreason\u001b[0m \u001b[0;34m=\u001b[0m \u001b[0mself\u001b[0m\u001b[0;34m.\u001b[0m\u001b[0m_read_status\u001b[0m\u001b[0;34m(\u001b[0m\u001b[0;34m)\u001b[0m\u001b[0;34m\u001b[0m\u001b[0;34m\u001b[0m\u001b[0m\n\u001b[0m\u001b[1;32m    304\u001b[0m             \u001b[0;32mif\u001b[0m \u001b[0mstatus\u001b[0m \u001b[0;34m!=\u001b[0m \u001b[0mCONTINUE\u001b[0m\u001b[0;34m:\u001b[0m\u001b[0;34m\u001b[0m\u001b[0;34m\u001b[0m\u001b[0m\n\u001b[1;32m    305\u001b[0m                 \u001b[0;32mbreak\u001b[0m\u001b[0;34m\u001b[0m\u001b[0;34m\u001b[0m\u001b[0m\n",
      "\u001b[0;32m~/opt/anaconda3/lib/python3.8/http/client.py\u001b[0m in \u001b[0;36m_read_status\u001b[0;34m(self)\u001b[0m\n\u001b[1;32m    262\u001b[0m \u001b[0;34m\u001b[0m\u001b[0m\n\u001b[1;32m    263\u001b[0m     \u001b[0;32mdef\u001b[0m \u001b[0m_read_status\u001b[0m\u001b[0;34m(\u001b[0m\u001b[0mself\u001b[0m\u001b[0;34m)\u001b[0m\u001b[0;34m:\u001b[0m\u001b[0;34m\u001b[0m\u001b[0;34m\u001b[0m\u001b[0m\n\u001b[0;32m--> 264\u001b[0;31m         \u001b[0mline\u001b[0m \u001b[0;34m=\u001b[0m \u001b[0mstr\u001b[0m\u001b[0;34m(\u001b[0m\u001b[0mself\u001b[0m\u001b[0;34m.\u001b[0m\u001b[0mfp\u001b[0m\u001b[0;34m.\u001b[0m\u001b[0mreadline\u001b[0m\u001b[0;34m(\u001b[0m\u001b[0m_MAXLINE\u001b[0m \u001b[0;34m+\u001b[0m \u001b[0;36m1\u001b[0m\u001b[0;34m)\u001b[0m\u001b[0;34m,\u001b[0m \u001b[0;34m\"iso-8859-1\"\u001b[0m\u001b[0;34m)\u001b[0m\u001b[0;34m\u001b[0m\u001b[0;34m\u001b[0m\u001b[0m\n\u001b[0m\u001b[1;32m    265\u001b[0m         \u001b[0;32mif\u001b[0m \u001b[0mlen\u001b[0m\u001b[0;34m(\u001b[0m\u001b[0mline\u001b[0m\u001b[0;34m)\u001b[0m \u001b[0;34m>\u001b[0m \u001b[0m_MAXLINE\u001b[0m\u001b[0;34m:\u001b[0m\u001b[0;34m\u001b[0m\u001b[0;34m\u001b[0m\u001b[0m\n\u001b[1;32m    266\u001b[0m             \u001b[0;32mraise\u001b[0m \u001b[0mLineTooLong\u001b[0m\u001b[0;34m(\u001b[0m\u001b[0;34m\"status line\"\u001b[0m\u001b[0;34m)\u001b[0m\u001b[0;34m\u001b[0m\u001b[0;34m\u001b[0m\u001b[0m\n",
      "\u001b[0;32m~/opt/anaconda3/lib/python3.8/socket.py\u001b[0m in \u001b[0;36mreadinto\u001b[0;34m(self, b)\u001b[0m\n\u001b[1;32m    667\u001b[0m         \u001b[0;32mwhile\u001b[0m \u001b[0;32mTrue\u001b[0m\u001b[0;34m:\u001b[0m\u001b[0;34m\u001b[0m\u001b[0;34m\u001b[0m\u001b[0m\n\u001b[1;32m    668\u001b[0m             \u001b[0;32mtry\u001b[0m\u001b[0;34m:\u001b[0m\u001b[0;34m\u001b[0m\u001b[0;34m\u001b[0m\u001b[0m\n\u001b[0;32m--> 669\u001b[0;31m                 \u001b[0;32mreturn\u001b[0m \u001b[0mself\u001b[0m\u001b[0;34m.\u001b[0m\u001b[0m_sock\u001b[0m\u001b[0;34m.\u001b[0m\u001b[0mrecv_into\u001b[0m\u001b[0;34m(\u001b[0m\u001b[0mb\u001b[0m\u001b[0;34m)\u001b[0m\u001b[0;34m\u001b[0m\u001b[0;34m\u001b[0m\u001b[0m\n\u001b[0m\u001b[1;32m    670\u001b[0m             \u001b[0;32mexcept\u001b[0m \u001b[0mtimeout\u001b[0m\u001b[0;34m:\u001b[0m\u001b[0;34m\u001b[0m\u001b[0;34m\u001b[0m\u001b[0m\n\u001b[1;32m    671\u001b[0m                 \u001b[0mself\u001b[0m\u001b[0;34m.\u001b[0m\u001b[0m_timeout_occurred\u001b[0m \u001b[0;34m=\u001b[0m \u001b[0;32mTrue\u001b[0m\u001b[0;34m\u001b[0m\u001b[0;34m\u001b[0m\u001b[0m\n",
      "\u001b[0;31mKeyboardInterrupt\u001b[0m: "
     ]
    }
   ],
   "source": [
    "# iterate through rows\n",
    "counter = 1\n",
    "error_list = []\n",
    "# set up headless driver\n",
    "for key, val in departures[(departures['time_act'].isna()) & (departures[\"status\"] == \"DEPARTED\")].iterrows():\n",
    "    driver.get(val['url'])\n",
    "    time.sleep(0.25)\n",
    "    try:\n",
    "        time_act, iata = scrape_flight_page(dep=True)\n",
    "        departures.loc[key,['time_act','iata']] = time_act, iata\n",
    "        print(f'{counter}: flight {key} scheduled at {val[\"time_sch\"]} departed at {time_act}')\n",
    "    except:\n",
    "        print(f\"Error occured when calling scrape_flight_page for {val['status']} flight {key}\")\n",
    "        error_list.append(val['url'])\n",
    "    counter +=1 "
   ]
  },
  {
   "cell_type": "code",
   "execution_count": 28,
   "metadata": {},
   "outputs": [
    {
     "data": {
      "text/html": [
       "<div>\n",
       "<style scoped>\n",
       "    .dataframe tbody tr th:only-of-type {\n",
       "        vertical-align: middle;\n",
       "    }\n",
       "\n",
       "    .dataframe tbody tr th {\n",
       "        vertical-align: top;\n",
       "    }\n",
       "\n",
       "    .dataframe thead th {\n",
       "        text-align: right;\n",
       "    }\n",
       "</style>\n",
       "<table border=\"1\" class=\"dataframe\">\n",
       "  <thead>\n",
       "    <tr style=\"text-align: right;\">\n",
       "      <th></th>\n",
       "      <th>time_sch</th>\n",
       "      <th>dest</th>\n",
       "      <th>status</th>\n",
       "      <th>url</th>\n",
       "      <th>time_act</th>\n",
       "      <th>iata</th>\n",
       "    </tr>\n",
       "    <tr>\n",
       "      <th>code</th>\n",
       "      <th></th>\n",
       "      <th></th>\n",
       "      <th></th>\n",
       "      <th></th>\n",
       "      <th></th>\n",
       "      <th></th>\n",
       "    </tr>\n",
       "  </thead>\n",
       "  <tbody>\n",
       "    <tr>\n",
       "      <th>BA854</th>\n",
       "      <td>06:30</td>\n",
       "      <td>Prague</td>\n",
       "      <td>CANCELLED</td>\n",
       "      <td>https://www.heathrow.com/departures/terminal-3...</td>\n",
       "      <td>None</td>\n",
       "      <td>Arrive Prague (PRG)</td>\n",
       "    </tr>\n",
       "    <tr>\n",
       "      <th>BA304</th>\n",
       "      <td>06:40</td>\n",
       "      <td>Paris</td>\n",
       "      <td>CANCELLED</td>\n",
       "      <td>https://www.heathrow.com/departures/terminal-5...</td>\n",
       "      <td>None</td>\n",
       "      <td>Arrive Paris (CDG)</td>\n",
       "    </tr>\n",
       "    <tr>\n",
       "      <th>BA428</th>\n",
       "      <td>06:50</td>\n",
       "      <td>Amsterdam</td>\n",
       "      <td>CANCELLED</td>\n",
       "      <td>https://www.heathrow.com/departures/terminal-5...</td>\n",
       "      <td>None</td>\n",
       "      <td>Arrive Amsterdam (AMS)</td>\n",
       "    </tr>\n",
       "    <tr>\n",
       "      <th>BA1382</th>\n",
       "      <td>07:00</td>\n",
       "      <td>Manchester</td>\n",
       "      <td>CANCELLED</td>\n",
       "      <td>https://www.heathrow.com/departures/terminal-5...</td>\n",
       "      <td>None</td>\n",
       "      <td>Arrive Manchester (MAN)</td>\n",
       "    </tr>\n",
       "    <tr>\n",
       "      <th>BA762</th>\n",
       "      <td>07:30</td>\n",
       "      <td>Oslo</td>\n",
       "      <td>CANCELLED</td>\n",
       "      <td>https://www.heathrow.com/departures/terminal-3...</td>\n",
       "      <td>None</td>\n",
       "      <td>Arrive Oslo (OSL)</td>\n",
       "    </tr>\n",
       "    <tr>\n",
       "      <th>BA1340</th>\n",
       "      <td>07:50</td>\n",
       "      <td>Jersey</td>\n",
       "      <td>CANCELLED</td>\n",
       "      <td>https://www.heathrow.com/departures/terminal-5...</td>\n",
       "      <td>None</td>\n",
       "      <td>Arrive Saint Helier (JER)</td>\n",
       "    </tr>\n",
       "    <tr>\n",
       "      <th>KL1002</th>\n",
       "      <td>08:40</td>\n",
       "      <td>Amsterdam</td>\n",
       "      <td>CANCELLED</td>\n",
       "      <td>https://www.heathrow.com/departures/terminal-4...</td>\n",
       "      <td>None</td>\n",
       "      <td>Arrive Amsterdam (AMS)</td>\n",
       "    </tr>\n",
       "    <tr>\n",
       "      <th>BA982</th>\n",
       "      <td>08:45</td>\n",
       "      <td>Berlin</td>\n",
       "      <td>CANCELLED</td>\n",
       "      <td>https://www.heathrow.com/departures/terminal-5...</td>\n",
       "      <td>None</td>\n",
       "      <td>Arrive Berlin (BER)</td>\n",
       "    </tr>\n",
       "    <tr>\n",
       "      <th>EW461</th>\n",
       "      <td>08:50</td>\n",
       "      <td>Cologne</td>\n",
       "      <td>CANCELLED</td>\n",
       "      <td>https://www.heathrow.com/departures/terminal-2...</td>\n",
       "      <td>None</td>\n",
       "      <td>Arrive Cologne/Bonn (CGN)</td>\n",
       "    </tr>\n",
       "    <tr>\n",
       "      <th>AF1681</th>\n",
       "      <td>09:00</td>\n",
       "      <td>Paris</td>\n",
       "      <td>CANCELLED</td>\n",
       "      <td>https://www.heathrow.com/departures/terminal-4...</td>\n",
       "      <td>None</td>\n",
       "      <td>Arrive Paris (CDG)</td>\n",
       "    </tr>\n",
       "    <tr>\n",
       "      <th>BA1420</th>\n",
       "      <td>09:15</td>\n",
       "      <td>Belfast</td>\n",
       "      <td>CANCELLED</td>\n",
       "      <td>https://www.heathrow.com/departures/terminal-5...</td>\n",
       "      <td>None</td>\n",
       "      <td>Arrive Belfast (BHD)</td>\n",
       "    </tr>\n",
       "    <tr>\n",
       "      <th>EI155</th>\n",
       "      <td>09:50</td>\n",
       "      <td>Dublin</td>\n",
       "      <td>CANCELLED</td>\n",
       "      <td>https://www.heathrow.com/departures/terminal-2...</td>\n",
       "      <td>None</td>\n",
       "      <td>Arrive Dublin (DUB)</td>\n",
       "    </tr>\n",
       "    <tr>\n",
       "      <th>UA879</th>\n",
       "      <td>10:35</td>\n",
       "      <td>Houston</td>\n",
       "      <td>CANCELLED</td>\n",
       "      <td>https://www.heathrow.com/departures/terminal-2...</td>\n",
       "      <td>None</td>\n",
       "      <td>Arrive Houston (IAH)</td>\n",
       "    </tr>\n",
       "  </tbody>\n",
       "</table>\n",
       "</div>"
      ],
      "text/plain": [
       "       time_sch        dest     status  \\\n",
       "code                                     \n",
       "BA854     06:30      Prague  CANCELLED   \n",
       "BA304     06:40       Paris  CANCELLED   \n",
       "BA428     06:50   Amsterdam  CANCELLED   \n",
       "BA1382    07:00  Manchester  CANCELLED   \n",
       "BA762     07:30        Oslo  CANCELLED   \n",
       "BA1340    07:50      Jersey  CANCELLED   \n",
       "KL1002    08:40   Amsterdam  CANCELLED   \n",
       "BA982     08:45      Berlin  CANCELLED   \n",
       "EW461     08:50     Cologne  CANCELLED   \n",
       "AF1681    09:00       Paris  CANCELLED   \n",
       "BA1420    09:15     Belfast  CANCELLED   \n",
       "EI155     09:50      Dublin  CANCELLED   \n",
       "UA879     10:35     Houston  CANCELLED   \n",
       "\n",
       "                                                      url time_act  \\\n",
       "code                                                                 \n",
       "BA854   https://www.heathrow.com/departures/terminal-3...     None   \n",
       "BA304   https://www.heathrow.com/departures/terminal-5...     None   \n",
       "BA428   https://www.heathrow.com/departures/terminal-5...     None   \n",
       "BA1382  https://www.heathrow.com/departures/terminal-5...     None   \n",
       "BA762   https://www.heathrow.com/departures/terminal-3...     None   \n",
       "BA1340  https://www.heathrow.com/departures/terminal-5...     None   \n",
       "KL1002  https://www.heathrow.com/departures/terminal-4...     None   \n",
       "BA982   https://www.heathrow.com/departures/terminal-5...     None   \n",
       "EW461   https://www.heathrow.com/departures/terminal-2...     None   \n",
       "AF1681  https://www.heathrow.com/departures/terminal-4...     None   \n",
       "BA1420  https://www.heathrow.com/departures/terminal-5...     None   \n",
       "EI155   https://www.heathrow.com/departures/terminal-2...     None   \n",
       "UA879   https://www.heathrow.com/departures/terminal-2...     None   \n",
       "\n",
       "                             iata  \n",
       "code                               \n",
       "BA854         Arrive Prague (PRG)  \n",
       "BA304          Arrive Paris (CDG)  \n",
       "BA428      Arrive Amsterdam (AMS)  \n",
       "BA1382    Arrive Manchester (MAN)  \n",
       "BA762           Arrive Oslo (OSL)  \n",
       "BA1340  Arrive Saint Helier (JER)  \n",
       "KL1002     Arrive Amsterdam (AMS)  \n",
       "BA982         Arrive Berlin (BER)  \n",
       "EW461   Arrive Cologne/Bonn (CGN)  \n",
       "AF1681         Arrive Paris (CDG)  \n",
       "BA1420       Arrive Belfast (BHD)  \n",
       "EI155         Arrive Dublin (DUB)  \n",
       "UA879        Arrive Houston (IAH)  "
      ]
     },
     "execution_count": 28,
     "metadata": {},
     "output_type": "execute_result"
    }
   ],
   "source": [
    "# inspect the empty data\n",
    "departures[(departures[\"iata\"].notna()) & (departures[\"time_act\"].isna())]"
   ]
  },
  {
   "cell_type": "code",
   "execution_count": 36,
   "metadata": {},
   "outputs": [
    {
     "data": {
      "text/plain": [
       "time_sch      0\n",
       "dest          0\n",
       "status        0\n",
       "url           0\n",
       "time_act    214\n",
       "iata        201\n",
       "dtype: int64"
      ]
     },
     "execution_count": 36,
     "metadata": {},
     "output_type": "execute_result"
    }
   ],
   "source": [
    "# validate the data collection\n",
    "departures.isnull().sum()"
   ]
  },
  {
   "cell_type": "markdown",
   "metadata": {},
   "source": [
    "### 2.2 Arrivals"
   ]
  },
  {
   "cell_type": "code",
   "execution_count": 8,
   "metadata": {},
   "outputs": [
    {
     "name": "stdout",
     "output_type": "stream",
     "text": [
      "Loaded to the top of the list\n"
     ]
    }
   ],
   "source": [
    "driver.get(\"https://www.heathrow.com/arrivals\")\n",
    "time.sleep(5) \n",
    "# confirm the page is loadded to the date wanted properly\n",
    "input(\"Enter when the desired page is loaded (accepted cookies)\")\n",
    "# get to top of the day\n",
    "go_to_top(driver)"
   ]
  },
  {
   "cell_type": "code",
   "execution_count": 9,
   "metadata": {},
   "outputs": [
    {
     "name": "stdout",
     "output_type": "stream",
     "text": [
      "Reached end of the page\n"
     ]
    }
   ],
   "source": [
    "arrivals = scrape_heathrow_pages(driver=driver,depaeture=False)"
   ]
  },
  {
   "cell_type": "code",
   "execution_count": 13,
   "metadata": {},
   "outputs": [
    {
     "data": {
      "application/vnd.microsoft.datawrangler.viewer.v0+json": {
       "columns": [
        {
         "name": "code",
         "rawType": "object",
         "type": "string"
        },
        {
         "name": "time_sch",
         "rawType": "object",
         "type": "string"
        },
        {
         "name": "orig",
         "rawType": "object",
         "type": "string"
        },
        {
         "name": "status",
         "rawType": "object",
         "type": "string"
        },
        {
         "name": "url",
         "rawType": "object",
         "type": "string"
        }
       ],
       "conversionMethod": "pd.DataFrame",
       "ref": "29b8626e-d846-40a4-ad55-c58ef215666b",
       "rows": [
        [
         "BA056",
         "04:45",
         "Johannesburg",
         "LANDED",
         "https://www.heathrow.com/arrivals/terminal-5/flight-details/BA056/16-02-2025"
        ],
        [
         "BA074",
         "04:50",
         "Lagos",
         "LANDED",
         "https://www.heathrow.com/arrivals/terminal-5/flight-details/BA074/16-02-2025"
        ],
        [
         "BA058",
         "04:55",
         "Cape Town",
         "LANDED",
         "https://www.heathrow.com/arrivals/terminal-5/flight-details/BA058/16-02-2025"
        ],
        [
         "QF009",
         "05:05",
         "Perth",
         "LANDED",
         "https://www.heathrow.com/arrivals/terminal-3/flight-details/QF009/16-02-2025"
        ],
        [
         "BA262",
         "05:15",
         "Riyadh",
         "LANDED",
         "https://www.heathrow.com/arrivals/terminal-5/flight-details/BA262/16-02-2025"
        ],
        [
         "BA016",
         "05:25",
         "Sydney",
         "LANDED",
         "https://www.heathrow.com/arrivals/terminal-5/flight-details/BA016/16-02-2025"
        ],
        [
         "CX251",
         "05:30",
         "Hong Kong City",
         "LANDED",
         "https://www.heathrow.com/arrivals/terminal-3/flight-details/CX251/16-02-2025"
        ],
        [
         "MH002",
         "05:35",
         "Kuala Lumpur",
         "LANDED",
         "https://www.heathrow.com/arrivals/terminal-4/flight-details/MH002/16-02-2025"
        ],
        [
         "BA012",
         "05:40",
         "Singapore",
         "LANDED",
         "https://www.heathrow.com/arrivals/terminal-5/flight-details/BA012/16-02-2025"
        ],
        [
         "BA032",
         "05:45",
         "Hong Kong City",
         "LANDED",
         "https://www.heathrow.com/arrivals/terminal-5/flight-details/BA032/16-02-2025"
        ],
        [
         "BA254",
         "05:50",
         "Bridgetown",
         "LANDED",
         "https://www.heathrow.com/arrivals/terminal-5/flight-details/BA254/16-02-2025"
        ],
        [
         "BA126",
         "05:50",
         "Doha",
         "LANDED",
         "https://www.heathrow.com/arrivals/terminal-5/flight-details/BA126/16-02-2025"
        ],
        [
         "BA212",
         "05:55",
         "Boston",
         "LANDED",
         "https://www.heathrow.com/arrivals/terminal-5/flight-details/BA212/16-02-2025"
        ],
        [
         "UA146",
         "05:55",
         "New York City",
         "LANDED",
         "https://www.heathrow.com/arrivals/terminal-2/flight-details/UA146/16-02-2025"
        ],
        [
         "SQ322",
         "05:55",
         "Singapore",
         "LANDED",
         "https://www.heathrow.com/arrivals/terminal-2/flight-details/SQ322/16-02-2025"
        ],
        [
         "B61620",
         "05:55",
         "Boston",
         "LANDED",
         "https://www.heathrow.com/arrivals/terminal-2/flight-details/B61620/16-02-2025"
        ],
        [
         "BA216",
         "06:15",
         "Washington DC",
         "LANDED",
         "https://www.heathrow.com/arrivals/terminal-5/flight-details/BA216/16-02-2025"
        ],
        [
         "BA064",
         "06:15",
         "Nairobi",
         "LANDED",
         "https://www.heathrow.com/arrivals/terminal-5/flight-details/BA064/16-02-2025"
        ],
        [
         "QF001",
         "06:15",
         "Sydney",
         "LANDED",
         "https://www.heathrow.com/arrivals/terminal-3/flight-details/QF001/16-02-2025"
        ],
        [
         "BA092",
         "06:15",
         "Toronto",
         "LANDED",
         "https://www.heathrow.com/arrivals/terminal-5/flight-details/BA092/16-02-2025"
        ],
        [
         "VS104",
         "06:20",
         "Atlanta",
         "LANDED",
         "https://www.heathrow.com/arrivals/terminal-3/flight-details/VS104/16-02-2025"
        ],
        [
         "UA110",
         "06:20",
         "New York City",
         "LANDED",
         "https://www.heathrow.com/arrivals/terminal-2/flight-details/UA110/16-02-2025"
        ],
        [
         "CX255",
         "06:20",
         "Hong Kong City",
         "LANDED",
         "https://www.heathrow.com/arrivals/terminal-3/flight-details/CX255/16-02-2025"
        ],
        [
         "WB710",
         "06:20",
         "Kigali",
         "LANDED",
         "https://www.heathrow.com/arrivals/terminal-4/flight-details/WB710/16-02-2025"
        ],
        [
         "AA020",
         "06:20",
         "Dallas Fort Worth",
         "LANDED",
         "https://www.heathrow.com/arrivals/terminal-3/flight-details/AA020/16-02-2025"
        ],
        [
         "BA184",
         "06:25",
         "New York City",
         "LANDED",
         "https://www.heathrow.com/arrivals/terminal-5/flight-details/BA184/16-02-2025"
        ],
        [
         "VS004",
         "06:25",
         "New York City",
         "LANDED",
         "https://www.heathrow.com/arrivals/terminal-3/flight-details/VS004/16-02-2025"
        ],
        [
         "BA124",
         "06:25",
         "Bahrain",
         "LANDED",
         "https://www.heathrow.com/arrivals/terminal-3/flight-details/BA124/16-02-2025"
        ],
        [
         "QR011",
         "06:25",
         "Doha",
         "LANDED",
         "https://www.heathrow.com/arrivals/terminal-4/flight-details/QR011/16-02-2025"
        ],
        [
         "BA106",
         "06:25",
         "Dubai",
         "LANDED",
         "https://www.heathrow.com/arrivals/terminal-5/flight-details/BA106/16-02-2025"
        ],
        [
         "JL041",
         "06:25",
         "Tokyo",
         "LANDED",
         "https://www.heathrow.com/arrivals/terminal-3/flight-details/JL041/16-02-2025"
        ],
        [
         "BA078",
         "06:30",
         "Accra",
         "LANDED",
         "https://www.heathrow.com/arrivals/terminal-3/flight-details/BA078/16-02-2025"
        ],
        [
         "BA112",
         "06:30",
         "New York City",
         "LANDED",
         "https://www.heathrow.com/arrivals/terminal-5/flight-details/BA112/16-02-2025"
        ],
        [
         "AC854",
         "06:30",
         "Toronto",
         "LANDED",
         "https://www.heathrow.com/arrivals/terminal-2/flight-details/AC854/16-02-2025"
        ],
        [
         "BA066",
         "06:35",
         "Philadelphia",
         "LANDED",
         "https://www.heathrow.com/arrivals/terminal-5/flight-details/BA066/16-02-2025"
        ],
        [
         "ET700",
         "06:35",
         "Addis Ababa",
         "LANDED",
         "https://www.heathrow.com/arrivals/terminal-2/flight-details/ET700/16-02-2025"
        ],
        [
         "GF007",
         "06:35",
         "Bahrain",
         "LANDED",
         "https://www.heathrow.com/arrivals/terminal-4/flight-details/GF007/16-02-2025"
        ],
        [
         "AI161",
         "06:35",
         "Delhi",
         "LANDED",
         "https://www.heathrow.com/arrivals/terminal-2/flight-details/AI161/16-02-2025"
        ],
        [
         "QR107",
         "06:35",
         "Doha",
         "LANDED",
         "https://www.heathrow.com/arrivals/terminal-4/flight-details/QR107/16-02-2025"
        ],
        [
         "UA918",
         "06:40",
         "Washington DC",
         "LANDED",
         "https://www.heathrow.com/arrivals/terminal-2/flight-details/UA918/16-02-2025"
        ],
        [
         "TG910",
         "06:40",
         "Bangkok",
         "LANDED",
         "https://www.heathrow.com/arrivals/terminal-2/flight-details/TG910/16-02-2025"
        ],
        [
         "BA246",
         "06:45",
         "Sao Paulo",
         "LANDED",
         "https://www.heathrow.com/arrivals/terminal-5/flight-details/BA246/16-02-2025"
        ],
        [
         "BA174",
         "06:45",
         "New York City",
         "LANDED",
         "https://www.heathrow.com/arrivals/terminal-5/flight-details/BA174/16-02-2025"
        ],
        [
         "BA054",
         "06:45",
         "Johannesburg",
         "LANDED",
         "https://www.heathrow.com/arrivals/terminal-5/flight-details/BA054/16-02-2025"
        ],
        [
         "VS118",
         "06:45",
         "Miami",
         "LANDED",
         "https://www.heathrow.com/arrivals/terminal-3/flight-details/VS118/16-02-2025"
        ],
        [
         "EY061",
         "06:45",
         "Abu Dhabi",
         "LANDED",
         "https://www.heathrow.com/arrivals/terminal-4/flight-details/EY061/16-02-2025"
        ],
        [
         "DL016",
         "06:50",
         "Detroit",
         "LANDED",
         "https://www.heathrow.com/arrivals/terminal-3/flight-details/DL016/16-02-2025"
        ],
        [
         "VS092",
         "06:50",
         "Orlando",
         "LANDED",
         "https://www.heathrow.com/arrivals/terminal-3/flight-details/VS092/16-02-2025"
        ],
        [
         "BA206",
         "06:50",
         "Miami",
         "LANDED",
         "https://www.heathrow.com/arrivals/terminal-5/flight-details/BA206/16-02-2025"
        ],
        [
         "BA294",
         "06:50",
         "Chicago",
         "LANDED",
         "https://www.heathrow.com/arrivals/terminal-5/flight-details/BA294/16-02-2025"
        ]
       ],
       "shape": {
        "columns": 4,
        "rows": 654
       }
      },
      "text/html": [
       "<div>\n",
       "<style scoped>\n",
       "    .dataframe tbody tr th:only-of-type {\n",
       "        vertical-align: middle;\n",
       "    }\n",
       "\n",
       "    .dataframe tbody tr th {\n",
       "        vertical-align: top;\n",
       "    }\n",
       "\n",
       "    .dataframe thead th {\n",
       "        text-align: right;\n",
       "    }\n",
       "</style>\n",
       "<table border=\"1\" class=\"dataframe\">\n",
       "  <thead>\n",
       "    <tr style=\"text-align: right;\">\n",
       "      <th></th>\n",
       "      <th>time_sch</th>\n",
       "      <th>orig</th>\n",
       "      <th>status</th>\n",
       "      <th>url</th>\n",
       "    </tr>\n",
       "    <tr>\n",
       "      <th>code</th>\n",
       "      <th></th>\n",
       "      <th></th>\n",
       "      <th></th>\n",
       "      <th></th>\n",
       "    </tr>\n",
       "  </thead>\n",
       "  <tbody>\n",
       "    <tr>\n",
       "      <th>BA056</th>\n",
       "      <td>04:45</td>\n",
       "      <td>Johannesburg</td>\n",
       "      <td>LANDED</td>\n",
       "      <td>https://www.heathrow.com/arrivals/terminal-5/f...</td>\n",
       "    </tr>\n",
       "    <tr>\n",
       "      <th>BA074</th>\n",
       "      <td>04:50</td>\n",
       "      <td>Lagos</td>\n",
       "      <td>LANDED</td>\n",
       "      <td>https://www.heathrow.com/arrivals/terminal-5/f...</td>\n",
       "    </tr>\n",
       "    <tr>\n",
       "      <th>BA058</th>\n",
       "      <td>04:55</td>\n",
       "      <td>Cape Town</td>\n",
       "      <td>LANDED</td>\n",
       "      <td>https://www.heathrow.com/arrivals/terminal-5/f...</td>\n",
       "    </tr>\n",
       "    <tr>\n",
       "      <th>QF009</th>\n",
       "      <td>05:05</td>\n",
       "      <td>Perth</td>\n",
       "      <td>LANDED</td>\n",
       "      <td>https://www.heathrow.com/arrivals/terminal-3/f...</td>\n",
       "    </tr>\n",
       "    <tr>\n",
       "      <th>BA262</th>\n",
       "      <td>05:15</td>\n",
       "      <td>Riyadh</td>\n",
       "      <td>LANDED</td>\n",
       "      <td>https://www.heathrow.com/arrivals/terminal-5/f...</td>\n",
       "    </tr>\n",
       "    <tr>\n",
       "      <th>...</th>\n",
       "      <td>...</td>\n",
       "      <td>...</td>\n",
       "      <td>...</td>\n",
       "      <td>...</td>\n",
       "    </tr>\n",
       "    <tr>\n",
       "      <th>TP1366</th>\n",
       "      <td>22:40</td>\n",
       "      <td>Lisbon</td>\n",
       "      <td>ON TIME</td>\n",
       "      <td>https://www.heathrow.com/arrivals/terminal-2/f...</td>\n",
       "    </tr>\n",
       "    <tr>\n",
       "      <th>BA349</th>\n",
       "      <td>22:40</td>\n",
       "      <td>Nice</td>\n",
       "      <td>ON TIME</td>\n",
       "      <td>https://www.heathrow.com/arrivals/terminal-5/f...</td>\n",
       "    </tr>\n",
       "    <tr>\n",
       "      <th>BA371</th>\n",
       "      <td>22:40</td>\n",
       "      <td>Toulouse</td>\n",
       "      <td>ON TIME</td>\n",
       "      <td>https://www.heathrow.com/arrivals/terminal-3/f...</td>\n",
       "    </tr>\n",
       "    <tr>\n",
       "      <th>AY1341</th>\n",
       "      <td>22:40</td>\n",
       "      <td>Helsinki</td>\n",
       "      <td>CANCELLED</td>\n",
       "      <td>https://www.heathrow.com/arrivals/terminal-3/f...</td>\n",
       "    </tr>\n",
       "    <tr>\n",
       "      <th>LH2486</th>\n",
       "      <td>22:55</td>\n",
       "      <td>Munich</td>\n",
       "      <td>ON TIME</td>\n",
       "      <td>https://www.heathrow.com/arrivals/terminal-2/f...</td>\n",
       "    </tr>\n",
       "  </tbody>\n",
       "</table>\n",
       "<p>654 rows × 4 columns</p>\n",
       "</div>"
      ],
      "text/plain": [
       "       time_sch          orig     status  \\\n",
       "code                                       \n",
       "BA056     04:45  Johannesburg     LANDED   \n",
       "BA074     04:50         Lagos     LANDED   \n",
       "BA058     04:55     Cape Town     LANDED   \n",
       "QF009     05:05         Perth     LANDED   \n",
       "BA262     05:15        Riyadh     LANDED   \n",
       "...         ...           ...        ...   \n",
       "TP1366    22:40        Lisbon    ON TIME   \n",
       "BA349     22:40          Nice    ON TIME   \n",
       "BA371     22:40      Toulouse    ON TIME   \n",
       "AY1341    22:40      Helsinki  CANCELLED   \n",
       "LH2486    22:55        Munich    ON TIME   \n",
       "\n",
       "                                                      url  \n",
       "code                                                       \n",
       "BA056   https://www.heathrow.com/arrivals/terminal-5/f...  \n",
       "BA074   https://www.heathrow.com/arrivals/terminal-5/f...  \n",
       "BA058   https://www.heathrow.com/arrivals/terminal-5/f...  \n",
       "QF009   https://www.heathrow.com/arrivals/terminal-3/f...  \n",
       "BA262   https://www.heathrow.com/arrivals/terminal-5/f...  \n",
       "...                                                   ...  \n",
       "TP1366  https://www.heathrow.com/arrivals/terminal-2/f...  \n",
       "BA349   https://www.heathrow.com/arrivals/terminal-5/f...  \n",
       "BA371   https://www.heathrow.com/arrivals/terminal-3/f...  \n",
       "AY1341  https://www.heathrow.com/arrivals/terminal-3/f...  \n",
       "LH2486  https://www.heathrow.com/arrivals/terminal-2/f...  \n",
       "\n",
       "[654 rows x 4 columns]"
      ]
     },
     "execution_count": 13,
     "metadata": {},
     "output_type": "execute_result"
    }
   ],
   "source": [
    "arrivals"
   ]
  },
  {
   "cell_type": "markdown",
   "metadata": {},
   "source": [
    "#### 2.2.2 Scrape indivual page (skipped)"
   ]
  },
  {
   "cell_type": "code",
   "execution_count": null,
   "metadata": {},
   "outputs": [],
   "source": [
    "# iterate through rows\n",
    "counter = 1\n",
    "arrivals[\"time_act\"] = pd.NA"
   ]
  },
  {
   "cell_type": "code",
   "execution_count": null,
   "metadata": {},
   "outputs": [],
   "source": [
    "#  fill in the actual time and iata\n",
    "slee_time = .1\n",
    "# set up headless driver\n",
    "for key, val in arrivals[arrivals['time_act'].isnull() &\n",
    "                         ((arrivals[\"status\"] != \"CANCELLED\")& (arrivals['status'] != \"FLIGHT DIVERTED\"))\n",
    "                         ].iterrows():\n",
    "    driver.get(val['url'])\n",
    "    time.sleep(sleep_time)\n",
    "    try:\n",
    "        time_act,iata = scrape_flight_page(dep = False)\n",
    "        arrivals.loc[key,['time_act','iata']] = time_act, iata\n",
    "        print(f'{counter}: flight {key} scheduled at {val[\"time_sch\"]} landed at {time_act}')\n",
    "    except:\n",
    "        print(f\"Error occured when calling scrape_flight_page for {val['status']} flight {key}\")\n",
    "\n",
    "    counter +=1 "
   ]
  },
  {
   "cell_type": "code",
   "execution_count": null,
   "metadata": {},
   "outputs": [],
   "source": [
    "# check for mising value\n",
    "arrivals[((arrivals['time_act'].isnull()) | (arrivals[\"time_act\"] == \"\"))\n",
    "        & ((arrivals['status'] != \"CANCELLED\") & (arrivals['status'] != \"FLIGHT DIVERTED\"))\n",
    "         ]"
   ]
  },
  {
   "cell_type": "code",
   "execution_count": null,
   "metadata": {},
   "outputs": [
    {
     "data": {
      "text/html": [
       "<div>\n",
       "<style scoped>\n",
       "    .dataframe tbody tr th:only-of-type {\n",
       "        vertical-align: middle;\n",
       "    }\n",
       "\n",
       "    .dataframe tbody tr th {\n",
       "        vertical-align: top;\n",
       "    }\n",
       "\n",
       "    .dataframe thead th {\n",
       "        text-align: right;\n",
       "    }\n",
       "</style>\n",
       "<table border=\"1\" class=\"dataframe\">\n",
       "  <thead>\n",
       "    <tr style=\"text-align: right;\">\n",
       "      <th></th>\n",
       "      <th>time_sch</th>\n",
       "      <th>orig</th>\n",
       "      <th>status</th>\n",
       "      <th>url</th>\n",
       "      <th>time_act</th>\n",
       "      <th>iata</th>\n",
       "      <th>dest</th>\n",
       "    </tr>\n",
       "    <tr>\n",
       "      <th>code</th>\n",
       "      <th></th>\n",
       "      <th></th>\n",
       "      <th></th>\n",
       "      <th></th>\n",
       "      <th></th>\n",
       "      <th></th>\n",
       "      <th></th>\n",
       "    </tr>\n",
       "  </thead>\n",
       "  <tbody>\n",
       "    <tr>\n",
       "      <th>VS450</th>\n",
       "      <td>05:00</td>\n",
       "      <td>Johannesburg</td>\n",
       "      <td>LANDED</td>\n",
       "      <td>https://www.heathrow.com/arrivals/terminal-3/f...</td>\n",
       "      <td>04:33</td>\n",
       "      <td>Depart Johannesburg (JNB)</td>\n",
       "      <td>London</td>\n",
       "    </tr>\n",
       "    <tr>\n",
       "      <th>QF209</th>\n",
       "      <td>05:05</td>\n",
       "      <td>Melbourne</td>\n",
       "      <td>LANDED</td>\n",
       "      <td>https://www.heathrow.com/arrivals/terminal-3/f...</td>\n",
       "      <td>05:32</td>\n",
       "      <td>Depart Melbourne (MEL)</td>\n",
       "      <td>London</td>\n",
       "    </tr>\n",
       "    <tr>\n",
       "      <th>BA074</th>\n",
       "      <td>05:25</td>\n",
       "      <td>Lagos</td>\n",
       "      <td>LANDED</td>\n",
       "      <td>https://www.heathrow.com/arrivals/terminal-5/f...</td>\n",
       "      <td>05:11</td>\n",
       "      <td>Depart Lagos (LOS)</td>\n",
       "      <td>London</td>\n",
       "    </tr>\n",
       "    <tr>\n",
       "      <th>BA016</th>\n",
       "      <td>05:25</td>\n",
       "      <td>Sydney</td>\n",
       "      <td>LANDED</td>\n",
       "      <td>https://www.heathrow.com/arrivals/terminal-5/f...</td>\n",
       "      <td>05:36</td>\n",
       "      <td>Depart Sydney (SYD)</td>\n",
       "      <td>London</td>\n",
       "    </tr>\n",
       "    <tr>\n",
       "      <th>BA056</th>\n",
       "      <td>05:30</td>\n",
       "      <td>Johannesburg</td>\n",
       "      <td>EXPECTED</td>\n",
       "      <td>https://www.heathrow.com/arrivals/terminal-5/f...</td>\n",
       "      <td>21:14</td>\n",
       "      <td>Depart Johannesburg (JNB)</td>\n",
       "      <td>London</td>\n",
       "    </tr>\n",
       "  </tbody>\n",
       "</table>\n",
       "</div>"
      ],
      "text/plain": [
       "      time_sch          orig    status  \\\n",
       "code                                     \n",
       "VS450    05:00  Johannesburg    LANDED   \n",
       "QF209    05:05     Melbourne    LANDED   \n",
       "BA074    05:25         Lagos    LANDED   \n",
       "BA016    05:25        Sydney    LANDED   \n",
       "BA056    05:30  Johannesburg  EXPECTED   \n",
       "\n",
       "                                                     url time_act  \\\n",
       "code                                                                \n",
       "VS450  https://www.heathrow.com/arrivals/terminal-3/f...    04:33   \n",
       "QF209  https://www.heathrow.com/arrivals/terminal-3/f...    05:32   \n",
       "BA074  https://www.heathrow.com/arrivals/terminal-5/f...    05:11   \n",
       "BA016  https://www.heathrow.com/arrivals/terminal-5/f...    05:36   \n",
       "BA056  https://www.heathrow.com/arrivals/terminal-5/f...    21:14   \n",
       "\n",
       "                            iata    dest  \n",
       "code                                      \n",
       "VS450  Depart Johannesburg (JNB)  London  \n",
       "QF209     Depart Melbourne (MEL)  London  \n",
       "BA074         Depart Lagos (LOS)  London  \n",
       "BA016        Depart Sydney (SYD)  London  \n",
       "BA056  Depart Johannesburg (JNB)  London  "
      ]
     },
     "execution_count": 111,
     "metadata": {},
     "output_type": "execute_result"
    }
   ],
   "source": [
    "arrivals.head()"
   ]
  },
  {
   "cell_type": "code",
   "execution_count": null,
   "metadata": {},
   "outputs": [
    {
     "data": {
      "text/plain": [
       "time_sch    0\n",
       "orig        0\n",
       "status      0\n",
       "url         0\n",
       "time_act    6\n",
       "iata        0\n",
       "dest        0\n",
       "dtype: int64"
      ]
     },
     "execution_count": 112,
     "metadata": {},
     "output_type": "execute_result"
    }
   ],
   "source": [
    "arrivals.isnull().sum()"
   ]
  },
  {
   "cell_type": "markdown",
   "metadata": {},
   "source": [
    "### 2.3 Concatenate the Arrival and Departure Data"
   ]
  },
  {
   "cell_type": "code",
   "execution_count": 14,
   "metadata": {},
   "outputs": [
    {
     "data": {
      "application/vnd.microsoft.datawrangler.viewer.v0+json": {
       "columns": [
        {
         "name": "code",
         "rawType": "object",
         "type": "string"
        },
        {
         "name": "time_sch",
         "rawType": "object",
         "type": "string"
        },
        {
         "name": "dest",
         "rawType": "object",
         "type": "string"
        },
        {
         "name": "status",
         "rawType": "object",
         "type": "string"
        },
        {
         "name": "url",
         "rawType": "object",
         "type": "string"
        },
        {
         "name": "orig",
         "rawType": "object",
         "type": "string"
        }
       ],
       "conversionMethod": "pd.DataFrame",
       "ref": "0aa234d3-7654-4187-bf4a-5eab2b7f9166",
       "rows": [
        [
         "TP1363",
         "06:00",
         "Lisbon",
         "DEPARTED",
         "https://www.heathrow.com/departures/terminal-2/flight-details/TP1363/16-02-2025",
         "London"
        ],
        [
         "OS458",
         "06:00",
         "Vienna",
         "DEPARTED",
         "https://www.heathrow.com/departures/terminal-2/flight-details/OS458/16-02-2025",
         "London"
        ],
        [
         "LX345",
         "06:00",
         "Zurich",
         "DEPARTED",
         "https://www.heathrow.com/departures/terminal-2/flight-details/LX345/16-02-2025",
         "London"
        ],
        [
         "BA472",
         "06:05",
         "Barcelona",
         "DEPARTED",
         "https://www.heathrow.com/departures/terminal-5/flight-details/BA472/16-02-2025",
         "London"
        ],
        [
         "BA868",
         "06:20",
         "Budapest",
         "DEPARTED",
         "https://www.heathrow.com/departures/terminal-3/flight-details/BA868/16-02-2025",
         "London"
        ]
       ],
       "shape": {
        "columns": 5,
        "rows": 5
       }
      },
      "text/html": [
       "<div>\n",
       "<style scoped>\n",
       "    .dataframe tbody tr th:only-of-type {\n",
       "        vertical-align: middle;\n",
       "    }\n",
       "\n",
       "    .dataframe tbody tr th {\n",
       "        vertical-align: top;\n",
       "    }\n",
       "\n",
       "    .dataframe thead th {\n",
       "        text-align: right;\n",
       "    }\n",
       "</style>\n",
       "<table border=\"1\" class=\"dataframe\">\n",
       "  <thead>\n",
       "    <tr style=\"text-align: right;\">\n",
       "      <th></th>\n",
       "      <th>time_sch</th>\n",
       "      <th>dest</th>\n",
       "      <th>status</th>\n",
       "      <th>url</th>\n",
       "      <th>orig</th>\n",
       "    </tr>\n",
       "    <tr>\n",
       "      <th>code</th>\n",
       "      <th></th>\n",
       "      <th></th>\n",
       "      <th></th>\n",
       "      <th></th>\n",
       "      <th></th>\n",
       "    </tr>\n",
       "  </thead>\n",
       "  <tbody>\n",
       "    <tr>\n",
       "      <th>TP1363</th>\n",
       "      <td>06:00</td>\n",
       "      <td>Lisbon</td>\n",
       "      <td>DEPARTED</td>\n",
       "      <td>https://www.heathrow.com/departures/terminal-2...</td>\n",
       "      <td>London</td>\n",
       "    </tr>\n",
       "    <tr>\n",
       "      <th>OS458</th>\n",
       "      <td>06:00</td>\n",
       "      <td>Vienna</td>\n",
       "      <td>DEPARTED</td>\n",
       "      <td>https://www.heathrow.com/departures/terminal-2...</td>\n",
       "      <td>London</td>\n",
       "    </tr>\n",
       "    <tr>\n",
       "      <th>LX345</th>\n",
       "      <td>06:00</td>\n",
       "      <td>Zurich</td>\n",
       "      <td>DEPARTED</td>\n",
       "      <td>https://www.heathrow.com/departures/terminal-2...</td>\n",
       "      <td>London</td>\n",
       "    </tr>\n",
       "    <tr>\n",
       "      <th>BA472</th>\n",
       "      <td>06:05</td>\n",
       "      <td>Barcelona</td>\n",
       "      <td>DEPARTED</td>\n",
       "      <td>https://www.heathrow.com/departures/terminal-5...</td>\n",
       "      <td>London</td>\n",
       "    </tr>\n",
       "    <tr>\n",
       "      <th>BA868</th>\n",
       "      <td>06:20</td>\n",
       "      <td>Budapest</td>\n",
       "      <td>DEPARTED</td>\n",
       "      <td>https://www.heathrow.com/departures/terminal-3...</td>\n",
       "      <td>London</td>\n",
       "    </tr>\n",
       "  </tbody>\n",
       "</table>\n",
       "</div>"
      ],
      "text/plain": [
       "       time_sch       dest    status  \\\n",
       "code                                   \n",
       "TP1363    06:00     Lisbon  DEPARTED   \n",
       "OS458     06:00     Vienna  DEPARTED   \n",
       "LX345     06:00     Zurich  DEPARTED   \n",
       "BA472     06:05  Barcelona  DEPARTED   \n",
       "BA868     06:20   Budapest  DEPARTED   \n",
       "\n",
       "                                                      url    orig  \n",
       "code                                                               \n",
       "TP1363  https://www.heathrow.com/departures/terminal-2...  London  \n",
       "OS458   https://www.heathrow.com/departures/terminal-2...  London  \n",
       "LX345   https://www.heathrow.com/departures/terminal-2...  London  \n",
       "BA472   https://www.heathrow.com/departures/terminal-5...  London  \n",
       "BA868   https://www.heathrow.com/departures/terminal-3...  London  "
      ]
     },
     "execution_count": 14,
     "metadata": {},
     "output_type": "execute_result"
    }
   ],
   "source": [
    "# add orig/dest column\n",
    "departures['orig'] = [\"London\" for _ in range(len(departures))]\n",
    "arrivals['dest'] = ['London' for _ in range(len(arrivals))]\n",
    "df = pd.concat([departures, arrivals])\n",
    "# inspect\n",
    "df.head()"
   ]
  },
  {
   "cell_type": "code",
   "execution_count": 15,
   "metadata": {},
   "outputs": [
    {
     "data": {
      "text/plain": [
       "time_sch    0\n",
       "dest        0\n",
       "status      0\n",
       "url         0\n",
       "orig        0\n",
       "dtype: int64"
      ]
     },
     "execution_count": 15,
     "metadata": {},
     "output_type": "execute_result"
    }
   ],
   "source": [
    "df.isnull().sum()"
   ]
  },
  {
   "cell_type": "code",
   "execution_count": 17,
   "metadata": {},
   "outputs": [
    {
     "name": "stdout",
     "output_type": "stream",
     "text": [
      "Saving df to /Users/Tra_FIT/Desktop/Python/GitHub/LHR_ops_data/data/16Feb2025_LHR.csv\n"
     ]
    }
   ],
   "source": [
    "file_name = f\"{current_date.strftime('%d%b%Y')}_LHR.csv\" \n",
    "# define file name\n",
    "# Get the parent directory (preceding folder) of the current directory\n",
    "parent_directory = os.path.dirname(os.getcwd())\n",
    "filepath = os.path.join(parent_directory ,\"data\",file_name )\n",
    "\n",
    "# save to csv\n",
    "print(f\"Saving df to {filepath}\")\n",
    "df.to_csv(filepath)"
   ]
  },
  {
   "cell_type": "markdown",
   "metadata": {},
   "source": [
    "## 3. London Gatwich Airport"
   ]
  },
  {
   "cell_type": "code",
   "execution_count": 3,
   "metadata": {},
   "outputs": [],
   "source": [
    "driver.get('https://www.gatwickairport.com/flights?desination=A')"
   ]
  },
  {
   "cell_type": "markdown",
   "metadata": {},
   "source": [
    "### Arrival"
   ]
  },
  {
   "cell_type": "code",
   "execution_count": 4,
   "metadata": {},
   "outputs": [],
   "source": [
    "lgw_return_to_start(driver=driver)"
   ]
  },
  {
   "cell_type": "code",
   "execution_count": 6,
   "metadata": {},
   "outputs": [
    {
     "name": "stdout",
     "output_type": "stream",
     "text": [
      "reached end of the page\n"
     ]
    }
   ],
   "source": [
    "lgw_arrv = lgw_return_data(driver=driver,departure=False)"
   ]
  },
  {
   "cell_type": "markdown",
   "metadata": {},
   "source": [
    "### Departure"
   ]
  },
  {
   "cell_type": "code",
   "execution_count": 10,
   "metadata": {},
   "outputs": [],
   "source": [
    "lgw_return_to_start(driver=driver)"
   ]
  },
  {
   "cell_type": "code",
   "execution_count": 12,
   "metadata": {},
   "outputs": [
    {
     "name": "stdout",
     "output_type": "stream",
     "text": [
      "reached end of the page\n"
     ]
    }
   ],
   "source": [
    "lgw_dept = lgw_return_data(driver=driver,departure=True)"
   ]
  },
  {
   "cell_type": "markdown",
   "metadata": {},
   "source": [
    "### 3.3 Parse the Result as pd DataFrame"
   ]
  },
  {
   "cell_type": "code",
   "execution_count": null,
   "metadata": {},
   "outputs": [],
   "source": [
    "df_dept = pd.DataFrame(lgw_dept)\n",
    "df_dept['orig'] = 'London'\n",
    "df_arrv = pd.DataFrame(lgw_arrv)\n",
    "df_dept['dest'] = 'London'\n"
   ]
  },
  {
   "cell_type": "code",
   "execution_count": 131,
   "metadata": {},
   "outputs": [],
   "source": [
    "df_lgw = pd.concat([df_dept,df_arrv]).drop(columns = 'dummy')"
   ]
  },
  {
   "cell_type": "code",
   "execution_count": 148,
   "metadata": {},
   "outputs": [
    {
     "data": {
      "text/plain": [
       "'16Feb2025'"
      ]
     },
     "execution_count": 148,
     "metadata": {},
     "output_type": "execute_result"
    }
   ],
   "source": [
    "current_date = datetime.datetime.now(tz= datetime.timezone.utc)\n",
    "current_date.strftime('%d%b%Y')"
   ]
  },
  {
   "cell_type": "code",
   "execution_count": 149,
   "metadata": {},
   "outputs": [
    {
     "name": "stdout",
     "output_type": "stream",
     "text": [
      "Saving df to /Users/Tra_FIT/Desktop/Python/GitHub/LHR_ops_data/data/16Feb2025_LGW.csv\n"
     ]
    }
   ],
   "source": [
    "current_date = datetime.datetime.now(tz= datetime.timezone.utc)\n",
    "\n",
    "file_name = f\"{current_date.strftime('%d%b%Y')}_LGW.csv\" \n",
    "# define file name\n",
    "# Get the parent directory (preceding folder) of the current directory\n",
    "parent_directory = os.path.dirname(os.getcwd())\n",
    "filepath = os.path.join(parent_directory ,\"data\",file_name )\n",
    "\n",
    "# save to csv\n",
    "print(f\"Saving df to {filepath}\")\n",
    "df.to_csv(filepath)"
   ]
  },
  {
   "cell_type": "code",
   "execution_count": null,
   "metadata": {},
   "outputs": [],
   "source": []
  }
 ],
 "metadata": {
  "kernelspec": {
   "display_name": "base",
   "language": "python",
   "name": "python3"
  },
  "language_info": {
   "codemirror_mode": {
    "name": "ipython",
    "version": 3
   },
   "file_extension": ".py",
   "mimetype": "text/x-python",
   "name": "python",
   "nbconvert_exporter": "python",
   "pygments_lexer": "ipython3",
   "version": "3.8.3"
  }
 },
 "nbformat": 4,
 "nbformat_minor": 2
}
