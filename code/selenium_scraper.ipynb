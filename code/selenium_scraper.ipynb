{
 "cells": [
  {
   "cell_type": "markdown",
   "metadata": {},
   "source": [
    "This notebook uses Selenium chrome driver to scrape daily flight schedule data\n"
   ]
  },
  {
   "cell_type": "markdown",
   "metadata": {},
   "source": [
    "### 1. Selenium Set Up\n",
    "We will use Firefox as the driver"
   ]
  },
  {
   "cell_type": "code",
   "execution_count": 1,
   "metadata": {},
   "outputs": [],
   "source": [
    "# selenium\n",
    "from selenium import webdriver \n",
    "from selenium.webdriver.common.by import By \n",
    "from selenium.webdriver.common.keys import Keys\n",
    "\n",
    "# beutiful soup\n",
    "import requests\n",
    "from bs4 import BeautifulSoup\n",
    "\n",
    "import pandas as pd\n",
    "import json, time"
   ]
  },
  {
   "cell_type": "code",
   "execution_count": 63,
   "metadata": {},
   "outputs": [],
   "source": [
    "def initate_driver(url,firefox = True):\n",
    "    global driver\n",
    "    driver = webdriver.Firefox()\n",
    "    driver.get(url)"
   ]
  },
  {
   "cell_type": "markdown",
   "metadata": {},
   "source": [
    "## 2. London Heathrow Airport"
   ]
  },
  {
   "cell_type": "markdown",
   "metadata": {},
   "source": [
    "We will first write some helper function. In general, the scraping process needs to be done as follow. For each departure / arrival data set:\n",
    "* Get the page on interactive driver and load to the top of flight schedule page\n",
    "* Scrap the schedule from the scheule page, inclduing the url of the flight card\n",
    "* Go into the flight card to get details, including actual time"
   ]
  },
  {
   "cell_type": "markdown",
   "metadata": {},
   "source": [
    "### Define helper function"
   ]
  },
  {
   "cell_type": "code",
   "execution_count": 4,
   "metadata": {},
   "outputs": [],
   "source": [
    "earlier_flight_button = '//*[@id=\"flight-list-app\"]/div/div[2]/div[2]//button[1]'\n",
    "\n",
    "def scrape_heathrow_page():\n",
    "    \"\"\"\n",
    "    parse the departure time, flight code and the city to three list\n",
    "    \"\"\"\n",
    "    if 'times' not in globals():\n",
    "        global times\n",
    "        times = []\n",
    "    if 'codes' not in globals():\n",
    "        global codes\n",
    "        codes = []\n",
    "    if 'citys' not in globals():\n",
    "        global citys\n",
    "        citys = []\n",
    "    if 'urls' not in globals():\n",
    "        global urls\n",
    "        urls = []\n",
    "    if 'status' not in globals():\n",
    "        global status\n",
    "        status = []\n",
    "\n",
    "    # loop over all list flight schedule item\n",
    "    for result in driver.find_elements(By.XPATH,'//*[@class=\"airline-listing-table\"]/a[contains(@class,\"airline-listing-line-item\")]'):\n",
    "        ftime = result.find_element(By.XPATH,\"./div\").text\n",
    "        code = result.find_element(By.XPATH,\"./div[2]/div[1]/div[1]\").text\n",
    "        city = result.find_element(By.XPATH,\"./div[2]/div[1]/div[2]\").text\n",
    "        url  = result.get_attribute(\"href\")\n",
    "        status_i = result.find_element(By.XPATH,\"./div[3]/p\").text\n",
    "        times.append(ftime)\n",
    "        codes.append(code)\n",
    "        citys.append(city)\n",
    "        urls.append(url)\n",
    "        status.append(status_i)\n",
    "\n",
    "        print(f\"Flight {code} departing for {city} at {ftime}: {url}\")\n",
    "\n",
    "\n",
    "def scrape_flight_page(dep):\n",
    "    \"\"\"scape the individual flight page\"\"\"\n",
    "    # identify which block to scrape\n",
    "    div_id = 0 if dep else 1\n",
    "    # point to the flight detail card\n",
    "    res  = driver.find_elements(By.XPATH, \"//div[contains(@class,'show-flight-details')]\")\n",
    "    card = res[div_id] # identified the card by departure or arrival\n",
    "    iata_card = res[1 if dep else 0]\n",
    "    try:\n",
    "        time_act = card.find_element(By.XPATH, \".//div[contains(@aria-label,'actual time')]\").text\n",
    "    except:\n",
    "        print(\"An error occured when parsing the actual time.\")\n",
    "        time_act = None\n",
    "    try:\n",
    "        iata = iata_card.find_element(By.XPATH, \"./p\").text\n",
    "    except:\n",
    "        print(\"An error occured when parsing the iata.\")\n",
    "        iata = None\n",
    "\n",
    "    return time_act, iata\n",
    "\n",
    "def go_to_top():            \n",
    "    while True:\n",
    "        try:\n",
    "            driver.find_element(By.XPATH,earlier_flight_button).send_keys(Keys.RETURN)\n",
    "            time.sleep(0.5) \n",
    "        except:\n",
    "            print(\"Loaded to the top of the list\")\n",
    "            break\n",
    "    "
   ]
  },
  {
   "cell_type": "markdown",
   "metadata": {},
   "source": [
    "### 2.1 Departures"
   ]
  },
  {
   "cell_type": "markdown",
   "metadata": {},
   "source": [
    "First, we will load the page and get to the top of the daily flight schedule table."
   ]
  },
  {
   "cell_type": "code",
   "execution_count": 5,
   "metadata": {},
   "outputs": [
    {
     "name": "stdout",
     "output_type": "stream",
     "text": [
      "Loaded to the top of the list\n"
     ]
    }
   ],
   "source": [
    "# initate_driver(\"https://www.heathrow.com/departures\")\n",
    "driver.get(\"https://www.heathrow.com/departures\")\n",
    "time.sleep(5) \n",
    "# confirm the page is loadded to the date wanted properly\n",
    "input(\"Enter when the page is loaded\")\n",
    "# get to top of the day\n",
    "go_to_top()"
   ]
  },
  {
   "cell_type": "markdown",
   "metadata": {},
   "source": [
    "We will now start scraping the data"
   ]
  },
  {
   "cell_type": "code",
   "execution_count": null,
   "metadata": {},
   "outputs": [],
   "source": [
    "times = []\n",
    "codes = []\n",
    "citys = []\n",
    "urls = []\n",
    "status = []\n",
    "\n",
    "# scrape the first page\n",
    "scrape_heathrow_page()\n",
    "\n",
    "# loop through all schedule of the date\n",
    "later_flight_button =   '//*[@id=\"flight-list-app\"]/div/div[2]/div[2]/div/div[3]/button'\n",
    "while True:\n",
    "\ttry: \n",
    "\t\t# load later flights\n",
    "\t\tdriver.find_element(By.XPATH,later_flight_button).send_keys(Keys.RETURN)\n",
    "\t\t# add the data the the list\n",
    "\t\tscrape_heathrow_page()\n",
    "\n",
    "\texcept:\n",
    "\t\tprint(\"Reached the end of the list\")\n",
    "\t\tbreak"
   ]
  },
  {
   "cell_type": "code",
   "execution_count": 14,
   "metadata": {},
   "outputs": [
    {
     "data": {
      "text/html": [
       "<div>\n",
       "<style scoped>\n",
       "    .dataframe tbody tr th:only-of-type {\n",
       "        vertical-align: middle;\n",
       "    }\n",
       "\n",
       "    .dataframe tbody tr th {\n",
       "        vertical-align: top;\n",
       "    }\n",
       "\n",
       "    .dataframe thead th {\n",
       "        text-align: right;\n",
       "    }\n",
       "</style>\n",
       "<table border=\"1\" class=\"dataframe\">\n",
       "  <thead>\n",
       "    <tr style=\"text-align: right;\">\n",
       "      <th></th>\n",
       "      <th>time_sch</th>\n",
       "      <th>orig</th>\n",
       "      <th>status</th>\n",
       "      <th>url</th>\n",
       "    </tr>\n",
       "    <tr>\n",
       "      <th>code</th>\n",
       "      <th></th>\n",
       "      <th></th>\n",
       "      <th></th>\n",
       "      <th></th>\n",
       "    </tr>\n",
       "  </thead>\n",
       "  <tbody>\n",
       "    <tr>\n",
       "      <th>TP1363</th>\n",
       "      <td>06:00</td>\n",
       "      <td>Lisbon</td>\n",
       "      <td>DEPARTED</td>\n",
       "      <td>https://www.heathrow.com/departures/terminal-2...</td>\n",
       "    </tr>\n",
       "    <tr>\n",
       "      <th>OS458</th>\n",
       "      <td>06:00</td>\n",
       "      <td>Vienna</td>\n",
       "      <td>DEPARTED</td>\n",
       "      <td>https://www.heathrow.com/departures/terminal-2...</td>\n",
       "    </tr>\n",
       "    <tr>\n",
       "      <th>LX345</th>\n",
       "      <td>06:00</td>\n",
       "      <td>Zurich</td>\n",
       "      <td>DEPARTED</td>\n",
       "      <td>https://www.heathrow.com/departures/terminal-2...</td>\n",
       "    </tr>\n",
       "    <tr>\n",
       "      <th>BA472</th>\n",
       "      <td>06:10</td>\n",
       "      <td>Barcelona</td>\n",
       "      <td>DEPARTED</td>\n",
       "      <td>https://www.heathrow.com/departures/terminal-5...</td>\n",
       "    </tr>\n",
       "    <tr>\n",
       "      <th>AF1381</th>\n",
       "      <td>06:15</td>\n",
       "      <td>Paris</td>\n",
       "      <td>DEPARTED</td>\n",
       "      <td>https://www.heathrow.com/departures/terminal-4...</td>\n",
       "    </tr>\n",
       "  </tbody>\n",
       "</table>\n",
       "</div>"
      ],
      "text/plain": [
       "       time_sch       orig    status  \\\n",
       "code                                   \n",
       "TP1363    06:00     Lisbon  DEPARTED   \n",
       "OS458     06:00     Vienna  DEPARTED   \n",
       "LX345     06:00     Zurich  DEPARTED   \n",
       "BA472     06:10  Barcelona  DEPARTED   \n",
       "AF1381    06:15      Paris  DEPARTED   \n",
       "\n",
       "                                                      url  \n",
       "code                                                       \n",
       "TP1363  https://www.heathrow.com/departures/terminal-2...  \n",
       "OS458   https://www.heathrow.com/departures/terminal-2...  \n",
       "LX345   https://www.heathrow.com/departures/terminal-2...  \n",
       "BA472   https://www.heathrow.com/departures/terminal-5...  \n",
       "AF1381  https://www.heathrow.com/departures/terminal-4...  "
      ]
     },
     "execution_count": 14,
     "metadata": {},
     "output_type": "execute_result"
    }
   ],
   "source": [
    "# return the dataframe\n",
    "departures = pd.DataFrame({\"time_sch\":times,'code':codes,'dest':citys, \"status\":status,'url':urls})\n",
    "departures = departures.set_index('code')\n",
    "departures.head()"
   ]
  },
  {
   "cell_type": "markdown",
   "metadata": {},
   "source": [
    "#### 2.1.2 Scrape individual page"
   ]
  },
  {
   "cell_type": "code",
   "execution_count": null,
   "metadata": {},
   "outputs": [],
   "source": [
    "# iterate through rows\n",
    "counter = 1\n",
    "error_list = []\n",
    "# set up headless driver\n",
    "for key, val in departures[departures['time_act'].isna()].iterrows():\n",
    "    driver.get(val['url'])\n",
    "    time.sleep(0.2)\n",
    "    try:\n",
    "        time_act, iata = scrape_flight_page(dep=True)\n",
    "        departures.loc[key,['time_act','iata']] = time_act, iata\n",
    "        print(f'{counter}: flight {key} scheduled at {val[\"time_sch\"]} departed at {time_act}')\n",
    "    except:\n",
    "        print(f\"Error occured when calling scrape_flight_page for {val['status']} flight {key}\")\n",
    "        error_list.append(val['url'])\n",
    "    counter +=1 "
   ]
  },
  {
   "cell_type": "code",
   "execution_count": 109,
   "metadata": {},
   "outputs": [
    {
     "data": {
      "text/plain": [
       "time_sch    0\n",
       "orig        0\n",
       "status      0\n",
       "url         0\n",
       "time_act    7\n",
       "iata        0\n",
       "dest        0\n",
       "dtype: int64"
      ]
     },
     "execution_count": 109,
     "metadata": {},
     "output_type": "execute_result"
    }
   ],
   "source": [
    "departures.isnull().sum()"
   ]
  },
  {
   "cell_type": "markdown",
   "metadata": {},
   "source": [
    "### 2.2 Arrivals"
   ]
  },
  {
   "cell_type": "code",
   "execution_count": 37,
   "metadata": {},
   "outputs": [
    {
     "name": "stdout",
     "output_type": "stream",
     "text": [
      "Loaded to the top of the list\n"
     ]
    }
   ],
   "source": [
    "driver.get(\"https://www.heathrow.com/arrivals\")\n",
    "time.sleep(5) \n",
    "\n",
    "# confirm the page is loadded properly\n",
    "input(\"Enter when the page is loaded\")\n",
    "\n",
    "# get to top of the day\n",
    "earlier_flight_button = '//*[@id=\"flight-list-app\"]/div/div[2]/div[2]//button[1]'\n",
    "while True:\n",
    "    try:\n",
    "        driver.find_element(By.XPATH,earlier_flight_button).send_keys(Keys.RETURN)\n",
    "        time.sleep(1) \n",
    "    except:\n",
    "        print(\"Loaded to the top of the list\")\n",
    "        break"
   ]
  },
  {
   "cell_type": "code",
   "execution_count": null,
   "metadata": {},
   "outputs": [],
   "source": [
    "times = []\n",
    "codes = []\n",
    "citys = []\n",
    "urls = []\n",
    "status = []\n",
    "\n",
    "# scrape the first page\n",
    "scrape_heathrow_page()\n",
    "\n",
    "# loop through all schedule of the date\n",
    "later_flight_button = '//*[@id=\"flight-list-app\"]/div/div[2]/div[2]/div/div[3]/button'\n",
    "while True:\n",
    "\ttry: \n",
    "\t\t# load later flights\n",
    "\t\tdriver.find_element(By.XPATH,later_flight_button).send_keys(Keys.RETURN)\n",
    "\t\t# add the data the the list\n",
    "\t\tscrape_heathrow_page()\n",
    "\texcept:\n",
    "\t\tprint(\"Reached the end of the list\")\n",
    "\t\tbreak"
   ]
  },
  {
   "cell_type": "code",
   "execution_count": 39,
   "metadata": {},
   "outputs": [
    {
     "data": {
      "text/html": [
       "<div>\n",
       "<style scoped>\n",
       "    .dataframe tbody tr th:only-of-type {\n",
       "        vertical-align: middle;\n",
       "    }\n",
       "\n",
       "    .dataframe tbody tr th {\n",
       "        vertical-align: top;\n",
       "    }\n",
       "\n",
       "    .dataframe thead th {\n",
       "        text-align: right;\n",
       "    }\n",
       "</style>\n",
       "<table border=\"1\" class=\"dataframe\">\n",
       "  <thead>\n",
       "    <tr style=\"text-align: right;\">\n",
       "      <th></th>\n",
       "      <th>time_sch</th>\n",
       "      <th>orig</th>\n",
       "      <th>status</th>\n",
       "      <th>url</th>\n",
       "    </tr>\n",
       "    <tr>\n",
       "      <th>code</th>\n",
       "      <th></th>\n",
       "      <th></th>\n",
       "      <th></th>\n",
       "      <th></th>\n",
       "    </tr>\n",
       "  </thead>\n",
       "  <tbody>\n",
       "    <tr>\n",
       "      <th>VS450</th>\n",
       "      <td>05:00</td>\n",
       "      <td>Johannesburg</td>\n",
       "      <td>LANDED</td>\n",
       "      <td>https://www.heathrow.com/arrivals/terminal-3/f...</td>\n",
       "    </tr>\n",
       "    <tr>\n",
       "      <th>QF209</th>\n",
       "      <td>05:05</td>\n",
       "      <td>Melbourne</td>\n",
       "      <td>LANDED</td>\n",
       "      <td>https://www.heathrow.com/arrivals/terminal-3/f...</td>\n",
       "    </tr>\n",
       "    <tr>\n",
       "      <th>BA074</th>\n",
       "      <td>05:25</td>\n",
       "      <td>Lagos</td>\n",
       "      <td>LANDED</td>\n",
       "      <td>https://www.heathrow.com/arrivals/terminal-5/f...</td>\n",
       "    </tr>\n",
       "    <tr>\n",
       "      <th>BA016</th>\n",
       "      <td>05:25</td>\n",
       "      <td>Sydney</td>\n",
       "      <td>LANDED</td>\n",
       "      <td>https://www.heathrow.com/arrivals/terminal-5/f...</td>\n",
       "    </tr>\n",
       "    <tr>\n",
       "      <th>BA056</th>\n",
       "      <td>05:30</td>\n",
       "      <td>Johannesburg</td>\n",
       "      <td>EXPECTED</td>\n",
       "      <td>https://www.heathrow.com/arrivals/terminal-5/f...</td>\n",
       "    </tr>\n",
       "  </tbody>\n",
       "</table>\n",
       "</div>"
      ],
      "text/plain": [
       "      time_sch          orig    status  \\\n",
       "code                                     \n",
       "VS450    05:00  Johannesburg    LANDED   \n",
       "QF209    05:05     Melbourne    LANDED   \n",
       "BA074    05:25         Lagos    LANDED   \n",
       "BA016    05:25        Sydney    LANDED   \n",
       "BA056    05:30  Johannesburg  EXPECTED   \n",
       "\n",
       "                                                     url  \n",
       "code                                                      \n",
       "VS450  https://www.heathrow.com/arrivals/terminal-3/f...  \n",
       "QF209  https://www.heathrow.com/arrivals/terminal-3/f...  \n",
       "BA074  https://www.heathrow.com/arrivals/terminal-5/f...  \n",
       "BA016  https://www.heathrow.com/arrivals/terminal-5/f...  \n",
       "BA056  https://www.heathrow.com/arrivals/terminal-5/f...  "
      ]
     },
     "execution_count": 39,
     "metadata": {},
     "output_type": "execute_result"
    }
   ],
   "source": [
    "arrivals = pd.DataFrame({\"time_sch\":times,'code':codes,'orig':citys, \"status\":status,'url':urls})\n",
    "arrivals = arrivals.set_index('code')\n",
    "arrivals.head()"
   ]
  },
  {
   "cell_type": "markdown",
   "metadata": {},
   "source": [
    "#### 2.2.2 Scrape indivual page"
   ]
  },
  {
   "cell_type": "code",
   "execution_count": 40,
   "metadata": {},
   "outputs": [],
   "source": [
    "# iterate through rows\n",
    "counter = 1\n",
    "arrivals[\"time_act\"] = pd.NA"
   ]
  },
  {
   "cell_type": "code",
   "execution_count": null,
   "metadata": {},
   "outputs": [],
   "source": [
    "#  fill in the actual time and iata\n",
    "slee_time = .1\n",
    "# set up headless driver\n",
    "for key, val in arrivals[arrivals['time_act'].isnull() &\n",
    "                         ((arrivals[\"status\"] != \"CANCELLED\")& (arrivals['status'] != \"FLIGHT DIVERTED\"))\n",
    "                         ].iterrows():\n",
    "    driver.get(val['url'])\n",
    "    time.sleep(sleep_time)\n",
    "    try:\n",
    "        time_act,iata = scrape_flight_page(dep = False)\n",
    "        arrivals.loc[key,['time_act','iata']] = time_act, iata\n",
    "        print(f'{counter}: flight {key} scheduled at {val[\"time_sch\"]} landed at {time_act}')\n",
    "    except:\n",
    "        print(f\"Error occured when calling scrape_flight_page for {val['status']} flight {key}\")\n",
    "\n",
    "    counter +=1 "
   ]
  },
  {
   "cell_type": "code",
   "execution_count": null,
   "metadata": {},
   "outputs": [],
   "source": [
    "# check for mising value\n",
    "arrivals[((arrivals['time_act'].isnull()) | (arrivals[\"time_act\"] == \"\"))\n",
    "        & ((arrivals['status'] != \"CANCELLED\") & (arrivals['status'] != \"FLIGHT DIVERTED\"))\n",
    "         ]"
   ]
  },
  {
   "cell_type": "code",
   "execution_count": 111,
   "metadata": {},
   "outputs": [
    {
     "data": {
      "text/html": [
       "<div>\n",
       "<style scoped>\n",
       "    .dataframe tbody tr th:only-of-type {\n",
       "        vertical-align: middle;\n",
       "    }\n",
       "\n",
       "    .dataframe tbody tr th {\n",
       "        vertical-align: top;\n",
       "    }\n",
       "\n",
       "    .dataframe thead th {\n",
       "        text-align: right;\n",
       "    }\n",
       "</style>\n",
       "<table border=\"1\" class=\"dataframe\">\n",
       "  <thead>\n",
       "    <tr style=\"text-align: right;\">\n",
       "      <th></th>\n",
       "      <th>time_sch</th>\n",
       "      <th>orig</th>\n",
       "      <th>status</th>\n",
       "      <th>url</th>\n",
       "      <th>time_act</th>\n",
       "      <th>iata</th>\n",
       "      <th>dest</th>\n",
       "    </tr>\n",
       "    <tr>\n",
       "      <th>code</th>\n",
       "      <th></th>\n",
       "      <th></th>\n",
       "      <th></th>\n",
       "      <th></th>\n",
       "      <th></th>\n",
       "      <th></th>\n",
       "      <th></th>\n",
       "    </tr>\n",
       "  </thead>\n",
       "  <tbody>\n",
       "    <tr>\n",
       "      <th>VS450</th>\n",
       "      <td>05:00</td>\n",
       "      <td>Johannesburg</td>\n",
       "      <td>LANDED</td>\n",
       "      <td>https://www.heathrow.com/arrivals/terminal-3/f...</td>\n",
       "      <td>04:33</td>\n",
       "      <td>Depart Johannesburg (JNB)</td>\n",
       "      <td>London</td>\n",
       "    </tr>\n",
       "    <tr>\n",
       "      <th>QF209</th>\n",
       "      <td>05:05</td>\n",
       "      <td>Melbourne</td>\n",
       "      <td>LANDED</td>\n",
       "      <td>https://www.heathrow.com/arrivals/terminal-3/f...</td>\n",
       "      <td>05:32</td>\n",
       "      <td>Depart Melbourne (MEL)</td>\n",
       "      <td>London</td>\n",
       "    </tr>\n",
       "    <tr>\n",
       "      <th>BA074</th>\n",
       "      <td>05:25</td>\n",
       "      <td>Lagos</td>\n",
       "      <td>LANDED</td>\n",
       "      <td>https://www.heathrow.com/arrivals/terminal-5/f...</td>\n",
       "      <td>05:11</td>\n",
       "      <td>Depart Lagos (LOS)</td>\n",
       "      <td>London</td>\n",
       "    </tr>\n",
       "    <tr>\n",
       "      <th>BA016</th>\n",
       "      <td>05:25</td>\n",
       "      <td>Sydney</td>\n",
       "      <td>LANDED</td>\n",
       "      <td>https://www.heathrow.com/arrivals/terminal-5/f...</td>\n",
       "      <td>05:36</td>\n",
       "      <td>Depart Sydney (SYD)</td>\n",
       "      <td>London</td>\n",
       "    </tr>\n",
       "    <tr>\n",
       "      <th>BA056</th>\n",
       "      <td>05:30</td>\n",
       "      <td>Johannesburg</td>\n",
       "      <td>EXPECTED</td>\n",
       "      <td>https://www.heathrow.com/arrivals/terminal-5/f...</td>\n",
       "      <td>21:14</td>\n",
       "      <td>Depart Johannesburg (JNB)</td>\n",
       "      <td>London</td>\n",
       "    </tr>\n",
       "  </tbody>\n",
       "</table>\n",
       "</div>"
      ],
      "text/plain": [
       "      time_sch          orig    status  \\\n",
       "code                                     \n",
       "VS450    05:00  Johannesburg    LANDED   \n",
       "QF209    05:05     Melbourne    LANDED   \n",
       "BA074    05:25         Lagos    LANDED   \n",
       "BA016    05:25        Sydney    LANDED   \n",
       "BA056    05:30  Johannesburg  EXPECTED   \n",
       "\n",
       "                                                     url time_act  \\\n",
       "code                                                                \n",
       "VS450  https://www.heathrow.com/arrivals/terminal-3/f...    04:33   \n",
       "QF209  https://www.heathrow.com/arrivals/terminal-3/f...    05:32   \n",
       "BA074  https://www.heathrow.com/arrivals/terminal-5/f...    05:11   \n",
       "BA016  https://www.heathrow.com/arrivals/terminal-5/f...    05:36   \n",
       "BA056  https://www.heathrow.com/arrivals/terminal-5/f...    21:14   \n",
       "\n",
       "                            iata    dest  \n",
       "code                                      \n",
       "VS450  Depart Johannesburg (JNB)  London  \n",
       "QF209     Depart Melbourne (MEL)  London  \n",
       "BA074         Depart Lagos (LOS)  London  \n",
       "BA016        Depart Sydney (SYD)  London  \n",
       "BA056  Depart Johannesburg (JNB)  London  "
      ]
     },
     "execution_count": 111,
     "metadata": {},
     "output_type": "execute_result"
    }
   ],
   "source": [
    "arrivals.head()"
   ]
  },
  {
   "cell_type": "code",
   "execution_count": 112,
   "metadata": {},
   "outputs": [
    {
     "data": {
      "text/plain": [
       "time_sch    0\n",
       "orig        0\n",
       "status      0\n",
       "url         0\n",
       "time_act    6\n",
       "iata        0\n",
       "dest        0\n",
       "dtype: int64"
      ]
     },
     "execution_count": 112,
     "metadata": {},
     "output_type": "execute_result"
    }
   ],
   "source": [
    "arrivals.isnull().sum()"
   ]
  },
  {
   "cell_type": "markdown",
   "metadata": {},
   "source": [
    "### 2.3 Concatenate the Arrival and Departure Data"
   ]
  },
  {
   "cell_type": "code",
   "execution_count": 113,
   "metadata": {},
   "outputs": [
    {
     "data": {
      "text/html": [
       "<div>\n",
       "<style scoped>\n",
       "    .dataframe tbody tr th:only-of-type {\n",
       "        vertical-align: middle;\n",
       "    }\n",
       "\n",
       "    .dataframe tbody tr th {\n",
       "        vertical-align: top;\n",
       "    }\n",
       "\n",
       "    .dataframe thead th {\n",
       "        text-align: right;\n",
       "    }\n",
       "</style>\n",
       "<table border=\"1\" class=\"dataframe\">\n",
       "  <thead>\n",
       "    <tr style=\"text-align: right;\">\n",
       "      <th></th>\n",
       "      <th>time_sch</th>\n",
       "      <th>orig</th>\n",
       "      <th>status</th>\n",
       "      <th>url</th>\n",
       "      <th>time_act</th>\n",
       "      <th>iata</th>\n",
       "      <th>dest</th>\n",
       "    </tr>\n",
       "    <tr>\n",
       "      <th>code</th>\n",
       "      <th></th>\n",
       "      <th></th>\n",
       "      <th></th>\n",
       "      <th></th>\n",
       "      <th></th>\n",
       "      <th></th>\n",
       "      <th></th>\n",
       "    </tr>\n",
       "  </thead>\n",
       "  <tbody>\n",
       "    <tr>\n",
       "      <th>TP1363</th>\n",
       "      <td>06:00</td>\n",
       "      <td>London</td>\n",
       "      <td>DEPARTED</td>\n",
       "      <td>https://www.heathrow.com/departures/terminal-2...</td>\n",
       "      <td>06:21</td>\n",
       "      <td>Arrive Lisbon (LIS)</td>\n",
       "      <td>Lisbon</td>\n",
       "    </tr>\n",
       "    <tr>\n",
       "      <th>OS458</th>\n",
       "      <td>06:00</td>\n",
       "      <td>London</td>\n",
       "      <td>DEPARTED</td>\n",
       "      <td>https://www.heathrow.com/departures/terminal-2...</td>\n",
       "      <td>06:12</td>\n",
       "      <td>Arrive Vienna (VIE)</td>\n",
       "      <td>Vienna</td>\n",
       "    </tr>\n",
       "    <tr>\n",
       "      <th>LX345</th>\n",
       "      <td>06:00</td>\n",
       "      <td>London</td>\n",
       "      <td>DEPARTED</td>\n",
       "      <td>https://www.heathrow.com/departures/terminal-2...</td>\n",
       "      <td>06:14</td>\n",
       "      <td>Arrive Zurich (ZRH)</td>\n",
       "      <td>Zurich</td>\n",
       "    </tr>\n",
       "    <tr>\n",
       "      <th>BA472</th>\n",
       "      <td>06:10</td>\n",
       "      <td>London</td>\n",
       "      <td>DEPARTED</td>\n",
       "      <td>https://www.heathrow.com/departures/terminal-5...</td>\n",
       "      <td>06:24</td>\n",
       "      <td>Arrive Barcelona (BCN)</td>\n",
       "      <td>Barcelona</td>\n",
       "    </tr>\n",
       "    <tr>\n",
       "      <th>AF1381</th>\n",
       "      <td>06:15</td>\n",
       "      <td>London</td>\n",
       "      <td>DEPARTED</td>\n",
       "      <td>https://www.heathrow.com/departures/terminal-4...</td>\n",
       "      <td>06:42</td>\n",
       "      <td>Arrive Paris (CDG)</td>\n",
       "      <td>Paris</td>\n",
       "    </tr>\n",
       "  </tbody>\n",
       "</table>\n",
       "</div>"
      ],
      "text/plain": [
       "       time_sch    orig    status  \\\n",
       "code                                \n",
       "TP1363    06:00  London  DEPARTED   \n",
       "OS458     06:00  London  DEPARTED   \n",
       "LX345     06:00  London  DEPARTED   \n",
       "BA472     06:10  London  DEPARTED   \n",
       "AF1381    06:15  London  DEPARTED   \n",
       "\n",
       "                                                      url time_act  \\\n",
       "code                                                                 \n",
       "TP1363  https://www.heathrow.com/departures/terminal-2...    06:21   \n",
       "OS458   https://www.heathrow.com/departures/terminal-2...    06:12   \n",
       "LX345   https://www.heathrow.com/departures/terminal-2...    06:14   \n",
       "BA472   https://www.heathrow.com/departures/terminal-5...    06:24   \n",
       "AF1381  https://www.heathrow.com/departures/terminal-4...    06:42   \n",
       "\n",
       "                          iata       dest  \n",
       "code                                       \n",
       "TP1363     Arrive Lisbon (LIS)     Lisbon  \n",
       "OS458      Arrive Vienna (VIE)     Vienna  \n",
       "LX345      Arrive Zurich (ZRH)     Zurich  \n",
       "BA472   Arrive Barcelona (BCN)  Barcelona  \n",
       "AF1381      Arrive Paris (CDG)      Paris  "
      ]
     },
     "execution_count": 113,
     "metadata": {},
     "output_type": "execute_result"
    }
   ],
   "source": [
    "# add orig/dest column\n",
    "departures['orig'] = [\"London\" for _ in range(len(departures))]\n",
    "arrivals['dest'] = ['London' for _ in range(len(arrivals))]\n",
    "df = pd.concat([departures, arrivals])\n",
    "# inspect\n",
    "df.head()"
   ]
  },
  {
   "cell_type": "code",
   "execution_count": 114,
   "metadata": {},
   "outputs": [
    {
     "data": {
      "text/plain": [
       "time_sch     0\n",
       "orig         0\n",
       "status       0\n",
       "url          0\n",
       "time_act    13\n",
       "iata         0\n",
       "dest         0\n",
       "dtype: int64"
      ]
     },
     "execution_count": 114,
     "metadata": {},
     "output_type": "execute_result"
    }
   ],
   "source": [
    "df.isnull().sum()"
   ]
  },
  {
   "cell_type": "code",
   "execution_count": 115,
   "metadata": {},
   "outputs": [],
   "source": [
    "date = \"23APR2024\"\n",
    "filepath = f\"./{date}_LHR.csv\" \n",
    "df.to_csv(filepath)"
   ]
  },
  {
   "cell_type": "code",
   "execution_count": null,
   "metadata": {},
   "outputs": [],
   "source": []
  }
 ],
 "metadata": {
  "kernelspec": {
   "display_name": "base",
   "language": "python",
   "name": "python3"
  },
  "language_info": {
   "codemirror_mode": {
    "name": "ipython",
    "version": 3
   },
   "file_extension": ".py",
   "mimetype": "text/x-python",
   "name": "python",
   "nbconvert_exporter": "python",
   "pygments_lexer": "ipython3",
   "version": "3.8.3"
  }
 },
 "nbformat": 4,
 "nbformat_minor": 2
}
